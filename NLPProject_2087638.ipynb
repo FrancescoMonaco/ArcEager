{
  "cells": [
    {
      "cell_type": "markdown",
      "metadata": {
        "id": "view-in-github",
        "colab_type": "text"
      },
      "source": [
        "<a href=\"https://colab.research.google.com/github/FrancescoMonaco/ArcEager/blob/main/NLPProject_2087638.ipynb\" target=\"_parent\"><img src=\"https://colab.research.google.com/assets/colab-badge.svg\" alt=\"Open In Colab\"/></a>"
      ]
    },
    {
      "cell_type": "markdown",
      "metadata": {
        "id": "wQISd49z4GGk"
      },
      "source": [
        "# Setup\n",
        "\n",
        "\n",
        "---\n",
        "\n",
        "Library installations and basic imports. \\\\\n",
        "Definiton of the Arc Eager algorithm."
      ]
    },
    {
      "cell_type": "code",
      "execution_count": 1,
      "metadata": {
        "colab": {
          "base_uri": "https://localhost:8080/"
        },
        "id": "0k79cVtS4FoY",
        "outputId": "fbc375c6-8650-431d-a74f-0bc7bea4a75c"
      },
      "outputs": [
        {
          "output_type": "stream",
          "name": "stdout",
          "text": [
            "Looking in indexes: https://pypi.org/simple, https://us-python.pkg.dev/colab-wheels/public/simple/\n",
            "Collecting datasets\n",
            "  Downloading datasets-2.12.0-py3-none-any.whl (474 kB)\n",
            "\u001b[2K     \u001b[90m━━━━━━━━━━━━━━━━━━━━━━━━━━━━━━━━━━━━━━━\u001b[0m \u001b[32m474.6/474.6 kB\u001b[0m \u001b[31m9.9 MB/s\u001b[0m eta \u001b[36m0:00:00\u001b[0m\n",
            "\u001b[?25hRequirement already satisfied: numpy>=1.17 in /usr/local/lib/python3.10/dist-packages (from datasets) (1.22.4)\n",
            "Requirement already satisfied: pyarrow>=8.0.0 in /usr/local/lib/python3.10/dist-packages (from datasets) (9.0.0)\n",
            "Collecting dill<0.3.7,>=0.3.0 (from datasets)\n",
            "  Downloading dill-0.3.6-py3-none-any.whl (110 kB)\n",
            "\u001b[2K     \u001b[90m━━━━━━━━━━━━━━━━━━━━━━━━━━━━━━━━━━━━━━━\u001b[0m \u001b[32m110.5/110.5 kB\u001b[0m \u001b[31m8.6 MB/s\u001b[0m eta \u001b[36m0:00:00\u001b[0m\n",
            "\u001b[?25hRequirement already satisfied: pandas in /usr/local/lib/python3.10/dist-packages (from datasets) (1.5.3)\n",
            "Requirement already satisfied: requests>=2.19.0 in /usr/local/lib/python3.10/dist-packages (from datasets) (2.27.1)\n",
            "Requirement already satisfied: tqdm>=4.62.1 in /usr/local/lib/python3.10/dist-packages (from datasets) (4.65.0)\n",
            "Collecting xxhash (from datasets)\n",
            "  Downloading xxhash-3.2.0-cp310-cp310-manylinux_2_17_x86_64.manylinux2014_x86_64.whl (212 kB)\n",
            "\u001b[2K     \u001b[90m━━━━━━━━━━━━━━━━━━━━━━━━━━━━━━━━━━━━━━\u001b[0m \u001b[32m212.5/212.5 kB\u001b[0m \u001b[31m14.1 MB/s\u001b[0m eta \u001b[36m0:00:00\u001b[0m\n",
            "\u001b[?25hCollecting multiprocess (from datasets)\n",
            "  Downloading multiprocess-0.70.14-py310-none-any.whl (134 kB)\n",
            "\u001b[2K     \u001b[90m━━━━━━━━━━━━━━━━━━━━━━━━━━━━━━━━━━━━━━━\u001b[0m \u001b[32m134.3/134.3 kB\u001b[0m \u001b[31m7.1 MB/s\u001b[0m eta \u001b[36m0:00:00\u001b[0m\n",
            "\u001b[?25hRequirement already satisfied: fsspec[http]>=2021.11.1 in /usr/local/lib/python3.10/dist-packages (from datasets) (2023.4.0)\n",
            "Collecting aiohttp (from datasets)\n",
            "  Downloading aiohttp-3.8.4-cp310-cp310-manylinux_2_17_x86_64.manylinux2014_x86_64.whl (1.0 MB)\n",
            "\u001b[2K     \u001b[90m━━━━━━━━━━━━━━━━━━━━━━━━━━━━━━━━━━━━━━━━\u001b[0m \u001b[32m1.0/1.0 MB\u001b[0m \u001b[31m25.0 MB/s\u001b[0m eta \u001b[36m0:00:00\u001b[0m\n",
            "\u001b[?25hCollecting huggingface-hub<1.0.0,>=0.11.0 (from datasets)\n",
            "  Downloading huggingface_hub-0.14.1-py3-none-any.whl (224 kB)\n",
            "\u001b[2K     \u001b[90m━━━━━━━━━━━━━━━━━━━━━━━━━━━━━━━━━━━━━━━\u001b[0m \u001b[32m224.5/224.5 kB\u001b[0m \u001b[31m9.7 MB/s\u001b[0m eta \u001b[36m0:00:00\u001b[0m\n",
            "\u001b[?25hRequirement already satisfied: packaging in /usr/local/lib/python3.10/dist-packages (from datasets) (23.1)\n",
            "Collecting responses<0.19 (from datasets)\n",
            "  Downloading responses-0.18.0-py3-none-any.whl (38 kB)\n",
            "Requirement already satisfied: pyyaml>=5.1 in /usr/local/lib/python3.10/dist-packages (from datasets) (6.0)\n",
            "Requirement already satisfied: attrs>=17.3.0 in /usr/local/lib/python3.10/dist-packages (from aiohttp->datasets) (23.1.0)\n",
            "Requirement already satisfied: charset-normalizer<4.0,>=2.0 in /usr/local/lib/python3.10/dist-packages (from aiohttp->datasets) (2.0.12)\n",
            "Collecting multidict<7.0,>=4.5 (from aiohttp->datasets)\n",
            "  Downloading multidict-6.0.4-cp310-cp310-manylinux_2_17_x86_64.manylinux2014_x86_64.whl (114 kB)\n",
            "\u001b[2K     \u001b[90m━━━━━━━━━━━━━━━━━━━━━━━━━━━━━━━━━━━━━━━\u001b[0m \u001b[32m114.5/114.5 kB\u001b[0m \u001b[31m5.7 MB/s\u001b[0m eta \u001b[36m0:00:00\u001b[0m\n",
            "\u001b[?25hCollecting async-timeout<5.0,>=4.0.0a3 (from aiohttp->datasets)\n",
            "  Downloading async_timeout-4.0.2-py3-none-any.whl (5.8 kB)\n",
            "Collecting yarl<2.0,>=1.0 (from aiohttp->datasets)\n",
            "  Downloading yarl-1.9.2-cp310-cp310-manylinux_2_17_x86_64.manylinux2014_x86_64.whl (268 kB)\n",
            "\u001b[2K     \u001b[90m━━━━━━━━━━━━━━━━━━━━━━━━━━━━━━━━━━━━━━\u001b[0m \u001b[32m268.8/268.8 kB\u001b[0m \u001b[31m16.7 MB/s\u001b[0m eta \u001b[36m0:00:00\u001b[0m\n",
            "\u001b[?25hCollecting frozenlist>=1.1.1 (from aiohttp->datasets)\n",
            "  Downloading frozenlist-1.3.3-cp310-cp310-manylinux_2_5_x86_64.manylinux1_x86_64.manylinux_2_17_x86_64.manylinux2014_x86_64.whl (149 kB)\n",
            "\u001b[2K     \u001b[90m━━━━━━━━━━━━━━━━━━━━━━━━━━━━━━━━━━━━━━\u001b[0m \u001b[32m149.6/149.6 kB\u001b[0m \u001b[31m17.2 MB/s\u001b[0m eta \u001b[36m0:00:00\u001b[0m\n",
            "\u001b[?25hCollecting aiosignal>=1.1.2 (from aiohttp->datasets)\n",
            "  Downloading aiosignal-1.3.1-py3-none-any.whl (7.6 kB)\n",
            "Requirement already satisfied: filelock in /usr/local/lib/python3.10/dist-packages (from huggingface-hub<1.0.0,>=0.11.0->datasets) (3.12.0)\n",
            "Requirement already satisfied: typing-extensions>=3.7.4.3 in /usr/local/lib/python3.10/dist-packages (from huggingface-hub<1.0.0,>=0.11.0->datasets) (4.5.0)\n",
            "Requirement already satisfied: urllib3<1.27,>=1.21.1 in /usr/local/lib/python3.10/dist-packages (from requests>=2.19.0->datasets) (1.26.15)\n",
            "Requirement already satisfied: certifi>=2017.4.17 in /usr/local/lib/python3.10/dist-packages (from requests>=2.19.0->datasets) (2022.12.7)\n",
            "Requirement already satisfied: idna<4,>=2.5 in /usr/local/lib/python3.10/dist-packages (from requests>=2.19.0->datasets) (3.4)\n",
            "Requirement already satisfied: python-dateutil>=2.8.1 in /usr/local/lib/python3.10/dist-packages (from pandas->datasets) (2.8.2)\n",
            "Requirement already satisfied: pytz>=2020.1 in /usr/local/lib/python3.10/dist-packages (from pandas->datasets) (2022.7.1)\n",
            "Requirement already satisfied: six>=1.5 in /usr/local/lib/python3.10/dist-packages (from python-dateutil>=2.8.1->pandas->datasets) (1.16.0)\n",
            "Installing collected packages: xxhash, multidict, frozenlist, dill, async-timeout, yarl, responses, multiprocess, huggingface-hub, aiosignal, aiohttp, datasets\n",
            "Successfully installed aiohttp-3.8.4 aiosignal-1.3.1 async-timeout-4.0.2 datasets-2.12.0 dill-0.3.6 frozenlist-1.3.3 huggingface-hub-0.14.1 multidict-6.0.4 multiprocess-0.70.14 responses-0.18.0 xxhash-3.2.0 yarl-1.9.2\n",
            "Looking in indexes: https://pypi.org/simple, https://us-python.pkg.dev/colab-wheels/public/simple/\n",
            "Collecting conllu\n",
            "  Downloading conllu-4.5.2-py2.py3-none-any.whl (16 kB)\n",
            "Installing collected packages: conllu\n",
            "Successfully installed conllu-4.5.2\n",
            "Looking in indexes: https://pypi.org/simple, https://us-python.pkg.dev/colab-wheels/public/simple/\n",
            "Collecting evaluate\n",
            "  Downloading evaluate-0.4.0-py3-none-any.whl (81 kB)\n",
            "\u001b[2K     \u001b[90m━━━━━━━━━━━━━━━━━━━━━━━━━━━━━━━━━━━━━━━━\u001b[0m \u001b[32m81.4/81.4 kB\u001b[0m \u001b[31m6.4 MB/s\u001b[0m eta \u001b[36m0:00:00\u001b[0m\n",
            "\u001b[?25hRequirement already satisfied: datasets>=2.0.0 in /usr/local/lib/python3.10/dist-packages (from evaluate) (2.12.0)\n",
            "Requirement already satisfied: numpy>=1.17 in /usr/local/lib/python3.10/dist-packages (from evaluate) (1.22.4)\n",
            "Requirement already satisfied: dill in /usr/local/lib/python3.10/dist-packages (from evaluate) (0.3.6)\n",
            "Requirement already satisfied: pandas in /usr/local/lib/python3.10/dist-packages (from evaluate) (1.5.3)\n",
            "Requirement already satisfied: requests>=2.19.0 in /usr/local/lib/python3.10/dist-packages (from evaluate) (2.27.1)\n",
            "Requirement already satisfied: tqdm>=4.62.1 in /usr/local/lib/python3.10/dist-packages (from evaluate) (4.65.0)\n",
            "Requirement already satisfied: xxhash in /usr/local/lib/python3.10/dist-packages (from evaluate) (3.2.0)\n",
            "Requirement already satisfied: multiprocess in /usr/local/lib/python3.10/dist-packages (from evaluate) (0.70.14)\n",
            "Requirement already satisfied: fsspec[http]>=2021.05.0 in /usr/local/lib/python3.10/dist-packages (from evaluate) (2023.4.0)\n",
            "Requirement already satisfied: huggingface-hub>=0.7.0 in /usr/local/lib/python3.10/dist-packages (from evaluate) (0.14.1)\n",
            "Requirement already satisfied: packaging in /usr/local/lib/python3.10/dist-packages (from evaluate) (23.1)\n",
            "Requirement already satisfied: responses<0.19 in /usr/local/lib/python3.10/dist-packages (from evaluate) (0.18.0)\n",
            "Requirement already satisfied: pyarrow>=8.0.0 in /usr/local/lib/python3.10/dist-packages (from datasets>=2.0.0->evaluate) (9.0.0)\n",
            "Requirement already satisfied: aiohttp in /usr/local/lib/python3.10/dist-packages (from datasets>=2.0.0->evaluate) (3.8.4)\n",
            "Requirement already satisfied: pyyaml>=5.1 in /usr/local/lib/python3.10/dist-packages (from datasets>=2.0.0->evaluate) (6.0)\n",
            "Requirement already satisfied: filelock in /usr/local/lib/python3.10/dist-packages (from huggingface-hub>=0.7.0->evaluate) (3.12.0)\n",
            "Requirement already satisfied: typing-extensions>=3.7.4.3 in /usr/local/lib/python3.10/dist-packages (from huggingface-hub>=0.7.0->evaluate) (4.5.0)\n",
            "Requirement already satisfied: urllib3<1.27,>=1.21.1 in /usr/local/lib/python3.10/dist-packages (from requests>=2.19.0->evaluate) (1.26.15)\n",
            "Requirement already satisfied: certifi>=2017.4.17 in /usr/local/lib/python3.10/dist-packages (from requests>=2.19.0->evaluate) (2022.12.7)\n",
            "Requirement already satisfied: charset-normalizer~=2.0.0 in /usr/local/lib/python3.10/dist-packages (from requests>=2.19.0->evaluate) (2.0.12)\n",
            "Requirement already satisfied: idna<4,>=2.5 in /usr/local/lib/python3.10/dist-packages (from requests>=2.19.0->evaluate) (3.4)\n",
            "Requirement already satisfied: python-dateutil>=2.8.1 in /usr/local/lib/python3.10/dist-packages (from pandas->evaluate) (2.8.2)\n",
            "Requirement already satisfied: pytz>=2020.1 in /usr/local/lib/python3.10/dist-packages (from pandas->evaluate) (2022.7.1)\n",
            "Requirement already satisfied: attrs>=17.3.0 in /usr/local/lib/python3.10/dist-packages (from aiohttp->datasets>=2.0.0->evaluate) (23.1.0)\n",
            "Requirement already satisfied: multidict<7.0,>=4.5 in /usr/local/lib/python3.10/dist-packages (from aiohttp->datasets>=2.0.0->evaluate) (6.0.4)\n",
            "Requirement already satisfied: async-timeout<5.0,>=4.0.0a3 in /usr/local/lib/python3.10/dist-packages (from aiohttp->datasets>=2.0.0->evaluate) (4.0.2)\n",
            "Requirement already satisfied: yarl<2.0,>=1.0 in /usr/local/lib/python3.10/dist-packages (from aiohttp->datasets>=2.0.0->evaluate) (1.9.2)\n",
            "Requirement already satisfied: frozenlist>=1.1.1 in /usr/local/lib/python3.10/dist-packages (from aiohttp->datasets>=2.0.0->evaluate) (1.3.3)\n",
            "Requirement already satisfied: aiosignal>=1.1.2 in /usr/local/lib/python3.10/dist-packages (from aiohttp->datasets>=2.0.0->evaluate) (1.3.1)\n",
            "Requirement already satisfied: six>=1.5 in /usr/local/lib/python3.10/dist-packages (from python-dateutil>=2.8.1->pandas->evaluate) (1.16.0)\n",
            "Installing collected packages: evaluate\n",
            "Successfully installed evaluate-0.4.0\n",
            "Looking in indexes: https://pypi.org/simple, https://us-python.pkg.dev/colab-wheels/public/simple/\n",
            "Collecting transformers\n",
            "  Downloading transformers-4.29.2-py3-none-any.whl (7.1 MB)\n",
            "\u001b[2K     \u001b[90m━━━━━━━━━━━━━━━━━━━━━━━━━━━━━━━━━━━━━━━━\u001b[0m \u001b[32m7.1/7.1 MB\u001b[0m \u001b[31m84.7 MB/s\u001b[0m eta \u001b[36m0:00:00\u001b[0m\n",
            "\u001b[?25hRequirement already satisfied: filelock in /usr/local/lib/python3.10/dist-packages (from transformers) (3.12.0)\n",
            "Requirement already satisfied: huggingface-hub<1.0,>=0.14.1 in /usr/local/lib/python3.10/dist-packages (from transformers) (0.14.1)\n",
            "Requirement already satisfied: numpy>=1.17 in /usr/local/lib/python3.10/dist-packages (from transformers) (1.22.4)\n",
            "Requirement already satisfied: packaging>=20.0 in /usr/local/lib/python3.10/dist-packages (from transformers) (23.1)\n",
            "Requirement already satisfied: pyyaml>=5.1 in /usr/local/lib/python3.10/dist-packages (from transformers) (6.0)\n",
            "Requirement already satisfied: regex!=2019.12.17 in /usr/local/lib/python3.10/dist-packages (from transformers) (2022.10.31)\n",
            "Requirement already satisfied: requests in /usr/local/lib/python3.10/dist-packages (from transformers) (2.27.1)\n",
            "Collecting tokenizers!=0.11.3,<0.14,>=0.11.1 (from transformers)\n",
            "  Downloading tokenizers-0.13.3-cp310-cp310-manylinux_2_17_x86_64.manylinux2014_x86_64.whl (7.8 MB)\n",
            "\u001b[2K     \u001b[90m━━━━━━━━━━━━━━━━━━━━━━━━━━━━━━━━━━━━━━━━\u001b[0m \u001b[32m7.8/7.8 MB\u001b[0m \u001b[31m106.6 MB/s\u001b[0m eta \u001b[36m0:00:00\u001b[0m\n",
            "\u001b[?25hRequirement already satisfied: tqdm>=4.27 in /usr/local/lib/python3.10/dist-packages (from transformers) (4.65.0)\n",
            "Requirement already satisfied: fsspec in /usr/local/lib/python3.10/dist-packages (from huggingface-hub<1.0,>=0.14.1->transformers) (2023.4.0)\n",
            "Requirement already satisfied: typing-extensions>=3.7.4.3 in /usr/local/lib/python3.10/dist-packages (from huggingface-hub<1.0,>=0.14.1->transformers) (4.5.0)\n",
            "Requirement already satisfied: urllib3<1.27,>=1.21.1 in /usr/local/lib/python3.10/dist-packages (from requests->transformers) (1.26.15)\n",
            "Requirement already satisfied: certifi>=2017.4.17 in /usr/local/lib/python3.10/dist-packages (from requests->transformers) (2022.12.7)\n",
            "Requirement already satisfied: charset-normalizer~=2.0.0 in /usr/local/lib/python3.10/dist-packages (from requests->transformers) (2.0.12)\n",
            "Requirement already satisfied: idna<4,>=2.5 in /usr/local/lib/python3.10/dist-packages (from requests->transformers) (3.4)\n",
            "Installing collected packages: tokenizers, transformers\n",
            "Successfully installed tokenizers-0.13.3 transformers-4.29.2\n",
            "Looking in indexes: https://pypi.org/simple, https://us-python.pkg.dev/colab-wheels/public/simple/\n",
            "Collecting accelerate\n",
            "  Downloading accelerate-0.19.0-py3-none-any.whl (219 kB)\n",
            "\u001b[2K     \u001b[90m━━━━━━━━━━━━━━━━━━━━━━━━━━━━━━━━━━━━━━\u001b[0m \u001b[32m219.1/219.1 kB\u001b[0m \u001b[31m13.5 MB/s\u001b[0m eta \u001b[36m0:00:00\u001b[0m\n",
            "\u001b[?25hRequirement already satisfied: numpy>=1.17 in /usr/local/lib/python3.10/dist-packages (from accelerate) (1.22.4)\n",
            "Requirement already satisfied: packaging>=20.0 in /usr/local/lib/python3.10/dist-packages (from accelerate) (23.1)\n",
            "Requirement already satisfied: psutil in /usr/local/lib/python3.10/dist-packages (from accelerate) (5.9.5)\n",
            "Requirement already satisfied: pyyaml in /usr/local/lib/python3.10/dist-packages (from accelerate) (6.0)\n",
            "Requirement already satisfied: torch>=1.6.0 in /usr/local/lib/python3.10/dist-packages (from accelerate) (2.0.1+cu118)\n",
            "Requirement already satisfied: filelock in /usr/local/lib/python3.10/dist-packages (from torch>=1.6.0->accelerate) (3.12.0)\n",
            "Requirement already satisfied: typing-extensions in /usr/local/lib/python3.10/dist-packages (from torch>=1.6.0->accelerate) (4.5.0)\n",
            "Requirement already satisfied: sympy in /usr/local/lib/python3.10/dist-packages (from torch>=1.6.0->accelerate) (1.11.1)\n",
            "Requirement already satisfied: networkx in /usr/local/lib/python3.10/dist-packages (from torch>=1.6.0->accelerate) (3.1)\n",
            "Requirement already satisfied: jinja2 in /usr/local/lib/python3.10/dist-packages (from torch>=1.6.0->accelerate) (3.1.2)\n",
            "Requirement already satisfied: triton==2.0.0 in /usr/local/lib/python3.10/dist-packages (from torch>=1.6.0->accelerate) (2.0.0)\n",
            "Requirement already satisfied: cmake in /usr/local/lib/python3.10/dist-packages (from triton==2.0.0->torch>=1.6.0->accelerate) (3.25.2)\n",
            "Requirement already satisfied: lit in /usr/local/lib/python3.10/dist-packages (from triton==2.0.0->torch>=1.6.0->accelerate) (16.0.5)\n",
            "Requirement already satisfied: MarkupSafe>=2.0 in /usr/local/lib/python3.10/dist-packages (from jinja2->torch>=1.6.0->accelerate) (2.1.2)\n",
            "Requirement already satisfied: mpmath>=0.19 in /usr/local/lib/python3.10/dist-packages (from sympy->torch>=1.6.0->accelerate) (1.3.0)\n",
            "Installing collected packages: accelerate\n",
            "Successfully installed accelerate-0.19.0\n"
          ]
        }
      ],
      "source": [
        "!pip install datasets  # huggingface library with dataset\n",
        "!pip install conllu    # aux library for processing CoNLL-U format\n",
        "!pip install evaluate\n",
        "!pip install transformers\n",
        "!pip install accelerate"
      ]
    },
    {
      "cell_type": "code",
      "execution_count": 2,
      "metadata": {
        "id": "ynIcidJ74Tkg"
      },
      "outputs": [],
      "source": [
        "import torch\n",
        "import torch.nn as nn\n",
        "from functools import partial\n",
        "from datasets import load_dataset, Dataset\n",
        "\n",
        "import pandas as pd\n",
        "import numpy as np\n",
        "from matplotlib import pyplot as plt\n",
        "\n",
        "import gc"
      ]
    },
    {
      "cell_type": "code",
      "execution_count": 3,
      "metadata": {
        "cellView": "form",
        "id": "od2yp50p44tK"
      },
      "outputs": [],
      "source": [
        "#@title Arc Eager Model\n",
        "\n",
        "class ArcEager:\n",
        "  def __init__(self, sentence):\n",
        "    self.sentence = sentence\n",
        "    self.buffer = [i for i in range(len(self.sentence))]\n",
        "    self.stack = []\n",
        "    self.arcs = [-1 for _ in range(len(self.sentence))]\n",
        "\n",
        "    # three shift moves to initialize the stack\n",
        "    self.shift()\n",
        "    #self.shift()\n",
        "    #if len(self.sentence) > 2:\n",
        "     # self.shift()\n",
        "\n",
        "  def shift(self):\n",
        "    b1 = self.buffer[0]\n",
        "    self.buffer = self.buffer[1:]\n",
        "    self.stack.append(b1)\n",
        "\n",
        "  def left_arc(self):\n",
        "    o1 = self.stack.pop()\n",
        "    o2 = self.buffer[0]\n",
        "    self.arcs[o1] = o2\n",
        "    #self.stack.append(o1)\n",
        "    #if len(self.stack) < 2 and len(self.buffer) > 0:\n",
        "     # self.shift()\n",
        "\n",
        "  def right_arc(self):\n",
        "    o1 = self.buffer[0]\n",
        "    self.buffer = self.buffer[1:]\n",
        "    o2 = self.stack.pop()\n",
        "    self.arcs[o1] = o2\n",
        "    self.stack.append(o2)\n",
        "    self.stack.append(o1)\n",
        "    #if len(self.stack) < 2 and len(self.buffer) > 0:\n",
        "     # self.shift()\n",
        "\n",
        "  def reduce(self):\n",
        "    o1 = self.stack.pop()\n",
        "    #if len(self.stack) < 2 and len(self.buffer) > 0:\n",
        "     # self.shift()\n",
        "\n",
        "  def is_tree_final(self):\n",
        "    return len(self.stack) == 1 and len(self.buffer) == 0\n",
        "\n",
        "  def print_configuration(self):\n",
        "    s = [self.sentence[i] for i in self.stack]\n",
        "    b = [self.sentence[i] for i in self.buffer]\n",
        "    print(s, b)\n",
        "    print(self.arcs)  \n"
      ]
    },
    {
      "cell_type": "code",
      "execution_count": 4,
      "metadata": {
        "cellView": "form",
        "id": "o6DnhNQ85GDd"
      },
      "outputs": [],
      "source": [
        "#@title Oracle\n",
        "class Oracle:\n",
        "  def __init__(self, parser, gold_tree):\n",
        "    self.parser = parser\n",
        "    self.gold = gold_tree\n",
        "\n",
        "  def is_left_arc_gold(self):\n",
        "    if len(self.parser.buffer) == 0:\n",
        "      return False\n",
        "    o1 = self.parser.stack[len(self.parser.stack)-1]\n",
        "    o2 = self.parser.buffer[0]\n",
        "\n",
        "    if self.gold[o1] == o2 and self.parser.arcs[o1] != self.gold[o1] and o1 != -1:\n",
        "      return True\n",
        "    return False\n",
        "\n",
        "\n",
        "  def is_right_arc_gold(self):\n",
        "    if len(self.parser.buffer) == 0:\n",
        "      return False\n",
        "    o1 = self.parser.stack[len(self.parser.stack)-1]\n",
        "    o2 = self.parser.buffer[0]\n",
        "\n",
        "    #ver = o2 in gold and gold[o2] or -1\n",
        "    #if ver == o1: return True\n",
        "   \n",
        "    if self.gold[o2] != o1:\n",
        "      return False\n",
        "\n",
        "    return True\n",
        "  \n",
        "  def is_shift_gold(self):\n",
        "    if len(self.parser.buffer) == 0:\n",
        "      return False\n",
        "    \n",
        "    #This dictates transition precedence of the parser\n",
        "    if (self.is_left_arc_gold() or self.is_right_arc_gold() or self.is_reduce_gold()):\n",
        "      return False\n",
        "    \n",
        "    return True\n",
        "\n",
        "  def is_reduce_gold(self):\n",
        "    if len(self.parser.stack) < 2: return False\n",
        "    o1 = self.parser.stack[-1]\n",
        "    if self.has_head(o1) and self.has_all_children(o1):\n",
        "      return True\n",
        "    return False\n",
        "\n",
        "  def has_head(self, node):\n",
        "    if self.parser.arcs[node] != -1: return True\n",
        "    else: return False\n",
        "\n",
        "  def has_all_children(self, node):\n",
        "    i = 0\n",
        "    for arc in self.gold:\n",
        "      if arc == node:\n",
        "        if self.parser.arcs[i] != node:\n",
        "          return False\n",
        "      i+=1\n",
        "    return True "
      ]
    },
    {
      "cell_type": "code",
      "execution_count": 5,
      "metadata": {
        "cellView": "form",
        "colab": {
          "base_uri": "https://localhost:8080/"
        },
        "id": "eqC4rp1TamSB",
        "outputId": "61779e5e-84fe-4487-9db8-65c9e1961478"
      },
      "outputs": [
        {
          "output_type": "stream",
          "name": "stdout",
          "text": [
            "Left Arc:  False\n",
            "Right Arc:  False\n",
            "Reduce:  False\n",
            "Shift:  False\n",
            "Parsed: [-1, 2, 0, 10, 10, 6, 4, 8, 10, 10, 2, 13, 13, 10, 13, 16, 13, 18, 16, 20, 16, 2]\n",
            "Gold: [-1, 2, 0, 10, 10, 6, 4, 8, 10, 10, 2, 13, 13, 10, 13, 16, 13, 18, 16, 20, 16, 2]\n"
          ]
        }
      ],
      "source": [
        "#@title Example of the model working\n",
        "sentence = ['<ROOT>','Non', 'soltanto', 'perché', 'oggi', 'come', 'allora', 'la', 'falce', 'è', 'cieca', ',', 'si', 'abbatte', 'indistintamente', 'su', 'uomini', ',', 'donne', 'e', 'bambini', '.']#[\"<ROOT>\", \"He\", \"began\", \"to\", \"write\", \"again\", \".\"]\n",
        "gold =[-1, 2, 0, 10, 10, 6, 4, 8, 10, 10, 2, 13, 13, 10, 13, 16, 13, 18, 16, 20, 16, 2]#[-1, 2, 0, 4, 2, 4, 2 ]\n",
        "\n",
        "parser = ArcEager(sentence)\n",
        "oracle = Oracle(parser, gold)\n",
        "\n",
        "while not parser.is_tree_final():  \n",
        "  if oracle.is_left_arc_gold():\n",
        "    parser.left_arc()\n",
        "  elif oracle.is_right_arc_gold():\n",
        "    parser.right_arc()\n",
        "  elif oracle.is_reduce_gold():  \n",
        "    parser.reduce()\n",
        "  elif oracle.is_shift_gold():  \n",
        "    parser.shift()\n",
        "\n",
        "print(\"Left Arc: \", oracle.is_left_arc_gold())\n",
        "print(\"Right Arc: \", oracle.is_right_arc_gold())\n",
        "print(\"Reduce: \", oracle.is_reduce_gold())\n",
        "print(\"Shift: \", oracle.is_shift_gold())\n",
        "\n",
        "\n",
        "\n",
        "print('Parsed:', parser.arcs)\n",
        "print('Gold:',gold)"
      ]
    },
    {
      "cell_type": "code",
      "execution_count": 6,
      "metadata": {
        "cellView": "form",
        "id": "5PoDzmvo5TW-"
      },
      "outputs": [],
      "source": [
        "#@title Util functions for projective trees and dictionary\n",
        "\n",
        "# the function returns whether a tree is projective or not. It is currently\n",
        "# implemented inefficiently by brute checking every pair of arcs.\n",
        "def is_projective(tree):\n",
        "  for i in range(len(tree)):\n",
        "    if tree[i] == -1:\n",
        "      continue\n",
        "    left = min(i, tree[i])\n",
        "    right = max(i, tree[i])\n",
        "\n",
        "    for j in range(0, left):\n",
        "      if tree[j] > left and tree[j] < right:\n",
        "        return False\n",
        "    for j in range(left+1, right):\n",
        "      if tree[j] < left or tree[j] > right:\n",
        "        return False\n",
        "    for j in range(right+1, len(tree)):\n",
        "      if tree[j] > left and tree[j] < right:\n",
        "        return False\n",
        "  \n",
        "  return True\n",
        "\n",
        "# the function creates a dictionary of word/index pairs: our embeddings vocabulary\n",
        "# threshold is the minimum number of appearance for a token to be included in the embedding list\n",
        "def create_dict(dataset, threshold=3):\n",
        "  dic = {}  # dictionary of word counts\n",
        "  for sample in dataset:\n",
        "    for word in sample['new_tokens']:\n",
        "      if word in dic:\n",
        "        dic[word] += 1\n",
        "      else:\n",
        "        dic[word] = 1 \n",
        "\n",
        "  map = {}  # dictionary of word/index pairs. This is our embedding list\n",
        "  map[\"<pad>\"] = 0\n",
        "  map[\"<ROOT>\"] = 1 \n",
        "  map[\"<unk>\"] = 2 #used for words that do not appear in our list\n",
        "\n",
        "  next_indx = 3\n",
        "  for word in dic.keys():\n",
        "    if dic[word] >= threshold:\n",
        "      map[word] = next_indx\n",
        "      next_indx += 1\n",
        "\n",
        "  return map"
      ]
    },
    {
      "cell_type": "code",
      "execution_count": 7,
      "metadata": {
        "id": "k7Af6YXv5fXb"
      },
      "outputs": [],
      "source": [
        "#@title Util functions for mini-batches and sample processing\n",
        "\n",
        "def prepare_batch(batch_data, get_gold_path=False, is_transformer=False):\n",
        "  data = [process_sample(s, get_gold_path=get_gold_path, is_transformer = is_transformer) for s in batch_data]\n",
        "  # sentences, paths, moves, trees are parallel arrays, each element refers to a sentence\n",
        "  if is_transformer is False:\n",
        "    sentences = [s[0] for s in data]\n",
        "    paths = [s[1] for s in data]\n",
        "    moves = [s[2] for s in data]\n",
        "    trees = [s[3] for s in data]\n",
        "    return sentences, paths, moves, trees\n",
        "  else:\n",
        "    sentences = [s[0] for s in data]\n",
        "    paths = [s[1] for s in data]\n",
        "    moves = [s[2] for s in data]\n",
        "    trees = [s[3] for s in data]\n",
        "    input_ids = [s[4] for s in data]\n",
        "    #word_ids = [s[5] for s in data]\n",
        "    #new_tkns = [s[6] for s in data]\n",
        "    connector =  [s[5] for s in data]\n",
        "    attention_mask = [s[6] for s in data]\n",
        "    return sentences, paths, moves, trees, input_ids, connector, attention_mask\n",
        "\n",
        "def process_sample(sample, get_gold_path = False, is_transformer = False):\n",
        "\n",
        "  # put sentence and gold tree in our format\n",
        "  sentence = [\"<ROOT>\"] + sample[\"new_tokens\"]\n",
        "  gold = [-1] + [int(i) for i in sample[\"new_head\"]]  #heads in the gold tree are strings, we convert them to int\n",
        "  \n",
        "  # embedding ids of sentence words\n",
        "  enc_sentence = [emb_dictionary[word] if word in emb_dictionary else emb_dictionary[\"<unk>\"] for word in sentence]\n",
        "\n",
        "  # gold_path and gold_moves are parallel arrays whose elements refer to parsing steps\n",
        "  gold_path = []   # record two topmost stack tokens and first buffer token for current step\n",
        "  gold_moves = []  # contains oracle (canonical) move for current step: 0 is left, 1 right, 2 reduce, 3 shift\n",
        "\n",
        "  if get_gold_path:  # only for training\n",
        "    parser = ArcEager(sentence)\n",
        "    oracle = Oracle(parser, gold)\n",
        "\n",
        "    while not parser.is_tree_final():\n",
        "      \n",
        "      # save configuration\n",
        "      configuration = [parser.stack[len(parser.stack)-2], parser.stack[len(parser.stack)-1]]\n",
        "      if len(parser.buffer) == 0:\n",
        "        configuration.append(-1)\n",
        "      else:\n",
        "        configuration.append(parser.buffer[0])  \n",
        "      gold_path.append(configuration)\n",
        "\n",
        "      # save gold move\n",
        "      if oracle.is_left_arc_gold():  \n",
        "        gold_moves.append(0)\n",
        "        parser.left_arc()\n",
        "      elif oracle.is_right_arc_gold():\n",
        "        parser.right_arc()\n",
        "        gold_moves.append(1)\n",
        "      elif oracle.is_shift_gold():\n",
        "        parser.shift()\n",
        "        gold_moves.append(2)\n",
        "      elif oracle.is_reduce_gold():\n",
        "        parser.reduce()\n",
        "        gold_moves.append(3)\n",
        "\n",
        "  if is_transformer is False:\n",
        "    return enc_sentence, gold_path, gold_moves, gold\n",
        "  else:\n",
        "   connector = []\n",
        "   connector.append(1)\n",
        "   for i, word in enumerate(sample[\"new_tokens\"]):\n",
        "      connector.append(sample[\"word_ids\"].index(i))\n",
        "   return enc_sentence, gold_path, gold_moves, gold, sample[\"input_ids\"], connector, sample[\"attention_mask\"]"
      ]
    },
    {
      "cell_type": "markdown",
      "metadata": {
        "id": "5OXuzSHgIwTu"
      },
      "source": [
        "# Dataset analysis and data extraction\n",
        "\n",
        "---\n",
        "\n"
      ]
    },
    {
      "cell_type": "code",
      "execution_count": 52,
      "metadata": {
        "colab": {
          "base_uri": "https://localhost:8080/",
          "height": 688
        },
        "id": "xYXCrZoR4bPN",
        "outputId": "6d8d1d18-1b6f-4da5-8a02-649b24621adb",
        "cellView": "form"
      },
      "outputs": [
        {
          "output_type": "stream",
          "name": "stderr",
          "text": [
            "WARNING:datasets.builder:Found cached dataset universal_dependencies (/root/.cache/huggingface/datasets/universal_dependencies/it_isdt/2.7.0/1ac001f0e8a0021f19388e810c94599f3ac13cc45d6b5b8c69f7847b2188bdf7)\n",
            "WARNING:datasets.builder:Found cached dataset universal_dependencies (/root/.cache/huggingface/datasets/universal_dependencies/it_isdt/2.7.0/1ac001f0e8a0021f19388e810c94599f3ac13cc45d6b5b8c69f7847b2188bdf7)\n",
            "WARNING:datasets.builder:Found cached dataset universal_dependencies (/root/.cache/huggingface/datasets/universal_dependencies/it_isdt/2.7.0/1ac001f0e8a0021f19388e810c94599f3ac13cc45d6b5b8c69f7847b2188bdf7)\n"
          ]
        },
        {
          "output_type": "stream",
          "name": "stdout",
          "text": [
            "Dataset lenght: 14167\n",
            "Keys:  dict_keys(['idx', 'text', 'tokens', 'lemmas', 'upos', 'xpos', 'feats', 'head', 'deprel', 'deps', 'misc'])\n"
          ]
        },
        {
          "output_type": "execute_result",
          "data": {
            "text/plain": [
              "Text(0.5, 1.0, 'Sentence lenght distribution')"
            ]
          },
          "metadata": {},
          "execution_count": 52
        },
        {
          "output_type": "display_data",
          "data": {
            "text/plain": [
              "<Figure size 1000x600 with 1 Axes>"
            ],
            "image/png": "[encoded data removed]"
          },
          "metadata": {}
        }
      ],
      "source": [
        "#@title Retrieve the dataset, show relevant informations\n",
        "train_dataset = load_dataset('universal_dependencies', 'it_isdt', split=\"train\")\n",
        "dev_dataset = load_dataset('universal_dependencies', 'it_isdt', split=\"validation\")\n",
        "test_dataset = load_dataset('universal_dependencies', 'it_isdt', split=\"test\")\n",
        "\n",
        "# info about dataset\n",
        "print(\"Dataset lenght:\", len(train_dataset)+len(dev_dataset)+len(test_dataset))\n",
        "print(\"Keys: \", train_dataset[1].keys())\n",
        "\n",
        "sent_len = [len(sentence) for sentence in train_dataset['tokens']]\n",
        "plt.figure(figsize=(10, 6))\n",
        "plt.hist(sent_len, bins=range(min(sent_len), max(sent_len) + 1, 1), \n",
        "              alpha=0.4, color=\"red\", density=True, stacked=True)\n",
        "plt.xlabel(\"Length of sentence\")\n",
        "plt.ylabel(\"Proportion\")\n",
        "plt.title(\"Sentence lenght distribution\")"
      ]
    },
    {
      "cell_type": "code",
      "source": [
        "#@title POS tags distribution\n",
        "pos_counts = {}  # Dictionary to store POS tag counts\n",
        "pos_map = {\n",
        "    'ADJ': 'Adjective',\n",
        "    'ADP': 'Adposition',\n",
        "    'ADV': 'Adverb',\n",
        "    'AUX': 'Auxiliary',\n",
        "    'CCONJ': 'Coordinating Conjunction',\n",
        "    'DET': 'Determiner',\n",
        "    'INTJ': 'Interjection',\n",
        "    'NOUN': 'Noun',\n",
        "    'NUM': 'Numeral',\n",
        "    'PRON': 'Pronoun',\n",
        "    'PROPN': 'Proper Noun',\n",
        "    'PUNCT': 'Punctuation',\n",
        "    'SCONJ': 'Subordinating Conjunction',\n",
        "    'SYM': 'Symbol',\n",
        "    'VERB': 'Verb',\n",
        "    'X': 'Other',\n",
        "}\n",
        "\n",
        "# Iterate through the dataset and count POS tags\n",
        "for elem in train_dataset:\n",
        "    for i, token in enumerate(elem[\"tokens\"]):\n",
        "        pos_tag = elem['upos'][i]  # Extract the POS tag from the token\n",
        "        if pos_tag in pos_counts:\n",
        "            pos_counts[pos_tag] += 1\n",
        "        else:\n",
        "            pos_counts[pos_tag] = 1\n",
        "\n",
        "# Sort the POS tag counts in descending order\n",
        "sorted_counts = sorted(pos_counts.items(), key=lambda x: x[1], reverse=True)\n",
        "\n",
        "# Extract the POS tags and their corresponding counts\n",
        "pos_tags, counts = zip(*sorted_counts)\n",
        "\n",
        "# Create a separate list to store POS names in the desired order\n",
        "pos_names = [pos_map.get(pos_tag, pos_tag) for pos_tag in pos_tags]\n",
        "\n",
        "# Plot the POS tag distribution\n",
        "plt.figure(figsize=(10, 6))\n",
        "plt.bar(pos_names, counts)\n",
        "plt.xlabel('POS Tags')\n",
        "plt.ylabel('Frequency')\n",
        "plt.title('POS Tag Distribution')\n",
        "plt.xticks(rotation=90)\n",
        "plt.show()"
      ],
      "metadata": {
        "colab": {
          "base_uri": "https://localhost:8080/",
          "height": 581
        },
        "cellView": "form",
        "id": "onMFsqanRjfe",
        "outputId": "d551ca14-b6f1-40e9-a964-260a56b15115"
      },
      "execution_count": 51,
      "outputs": [
        {
          "output_type": "display_data",
          "data": {
            "text/plain": [
              "<Figure size 1000x600 with 1 Axes>"
            ],
            "image/png": "[encoded data removed]"
          },
          "metadata": {}
        }
      ]
    },
    {
      "cell_type": "code",
      "execution_count": 9,
      "metadata": {
        "colab": {
          "base_uri": "https://localhost:8080/"
        },
        "id": "UwTYawYwNPu0",
        "outputId": "48ce0287-d2ff-448d-e629-b530bf8ddac5"
      },
      "outputs": [
        {
          "output_type": "stream",
          "name": "stdout",
          "text": [
            "Sentence length with max probability: 9\n"
          ]
        }
      ],
      "source": [
        "from collections import Counter\n",
        "counter_len = Counter(sent_len)\n",
        "print(\"Sentence length with max probability:\", counter_len.most_common(1)[0][0])\n",
        "del counter_len, sent_len"
      ]
    },
    {
      "cell_type": "code",
      "execution_count": 10,
      "metadata": {
        "colab": {
          "base_uri": "https://localhost:8080/",
          "height": 86,
          "referenced_widgets": [
            "ba66e0615ca540a89594ad70dad1834e",
            "ba28e32a3dc24c61ba85b10627ba0ab4",
            "602d43e4e06844d8806ca0b8d3295fd0",
            "805997515f4c4745bfbe9b290b79b1ff",
            "47cccb63b39549618fb01dd03ceed56d",
            "7a5c582976eb479593fd1f13cb7a56ea",
            "f237b3e4fe8c454ba4130d63cac6fa85",
            "4051ccc63c8d44768ed2d5a692b59d4b",
            "f108302d59d042fca242706d26369af3",
            "dd06f60fbff94657abdee1a6552d179f",
            "89d4887cbb47420aa9c2734dda65536b",
            "5dcd923d7c5e45088323aaf21ac71989",
            "6403b4b2a0454217b02d522496719960",
            "a03656eb62854ae0b1d00a357a8b4786",
            "851e0339c8594ec1bda512e80a5a0acd",
            "116be36f72334913bb83d7c56a40c7c1",
            "0b7d7556f8c748cd9577f37421a3d9fa",
            "a67063b39dd6413a8415a1cc3fa46356",
            "e567d3180e1a422483f0c481d2510b86",
            "a81b0302315a4965ac5d0819ae883f3b",
            "ca6acb9f0d12477584001c586f9738f5",
            "1bf42d21ca7e4f4082dfdff0db3b165e",
            "4a9319c5f07b4482a4fc0bd3e74ced00",
            "f3ed2f4fa7734174b80d07abfadb4f7d",
            "bc85664f9d9a4fb3a868de8951bea25c",
            "e8184472795f47209b7add93db9dba07",
            "23d955becd0d4b7b981d10a2d4da1497",
            "d1d4e91bf8c0417d811f6272932c0ffd",
            "415b0df8bee04710a65d050ee1eb7905",
            "1f7f550587ee485bb96d0cef8bec57a3",
            "46591947d58a45ad9c13f6ef82fd66ff",
            "cdaaaa5d788f4c10b946c0f98e1f5ee4",
            "b7c1468ec160408b89887dce05af89be"
          ]
        },
        "id": "rMZMGR4P4xit",
        "outputId": "78863541-1833-40f7-95f3-e7a1ad678115"
      },
      "outputs": [
        {
          "output_type": "display_data",
          "data": {
            "text/plain": [
              "Map:   0%|          | 0/13121 [00:00<?, ? examples/s]"
            ],
            "application/vnd.jupyter.widget-view+json": {
              "version_major": 2,
              "version_minor": 0,
              "model_id": "ba66e0615ca540a89594ad70dad1834e"
            }
          },
          "metadata": {}
        },
        {
          "output_type": "display_data",
          "data": {
            "text/plain": [
              "Map:   0%|          | 0/564 [00:00<?, ? examples/s]"
            ],
            "application/vnd.jupyter.widget-view+json": {
              "version_major": 2,
              "version_minor": 0,
              "model_id": "5dcd923d7c5e45088323aaf21ac71989"
            }
          },
          "metadata": {}
        },
        {
          "output_type": "display_data",
          "data": {
            "text/plain": [
              "Map:   0%|          | 0/482 [00:00<?, ? examples/s]"
            ],
            "application/vnd.jupyter.widget-view+json": {
              "version_major": 2,
              "version_minor": 0,
              "model_id": "4a9319c5f07b4482a4fc0bd3e74ced00"
            }
          },
          "metadata": {}
        },
        {
          "output_type": "stream",
          "name": "stdout",
          "text": [
            "***Number of samples***\n",
            "Train (filtered):\t 12954\n",
            "Dev:\t 564\n",
            "Test:\t 482\n"
          ]
        }
      ],
      "source": [
        "#@title Extraction\n",
        "\n",
        "# remove 'None' values in the heads list due to the tokenization\n",
        "# remove non-projective sentences: heads in the gold tree are strings, we convert them to int\n",
        "def fillNone(x):\n",
        "  x['new_head'] = []\n",
        "  x['new_tokens'] = []\n",
        "  for index, elem in enumerate(x['head']):\n",
        "    if elem != 'None': \n",
        "      x['new_head'].append(elem)\n",
        "      x['new_tokens'].append(x['tokens'][index])\n",
        "\n",
        "  return x\n",
        "train_dataset = train_dataset.map(fillNone)\n",
        "dev_dataset = dev_dataset.map(fillNone)\n",
        "test_dataset = test_dataset.map(fillNone)\n",
        "train_dataset =[sample for sample in train_dataset if is_projective([-1] + [int(head) for head in sample[\"new_head\"]])] \n",
        "\n",
        "# create the embedding dictionary \n",
        "emb_dictionary = create_dict(train_dataset)\n",
        "\n",
        "print(\"***Number of samples***\")\n",
        "print(\"Train (filtered):\\t\", len(train_dataset)) #(train is the number of samples without the non-projective)\n",
        "print(\"Dev:\\t\", len(dev_dataset))\n",
        "print(\"Test:\\t\", len(test_dataset))"
      ]
    },
    {
      "cell_type": "code",
      "execution_count": 11,
      "metadata": {
        "colab": {
          "base_uri": "https://localhost:8080/"
        },
        "id": "-cg-bUpTA4Yt",
        "outputId": "2c3a05a4-d39b-4076-b538-d543667a2ac4"
      },
      "outputs": [
        {
          "output_type": "execute_result",
          "data": {
            "text/plain": [
              "{'idx': 'isst_tanl-5',\n",
              " 'text': 'Inconsueto allarme alla Tate Gallery:',\n",
              " 'tokens': ['Inconsueto',\n",
              "  'allarme',\n",
              "  'alla',\n",
              "  'a',\n",
              "  'la',\n",
              "  'Tate',\n",
              "  'Gallery',\n",
              "  ':'],\n",
              " 'lemmas': ['inconsueto', 'allarme', '_', 'a', 'il', 'Tate', 'Gallery', ':'],\n",
              " 'upos': [6, 0, 13, 2, 8, 10, 10, 1],\n",
              " 'xpos': ['A', 'S', None, 'E', 'RD', 'SP', 'SP', 'FC'],\n",
              " 'feats': [\"{'Gender': 'Masc', 'Number': 'Sing'}\",\n",
              "  \"{'Gender': 'Masc', 'Number': 'Sing'}\",\n",
              "  'None',\n",
              "  'None',\n",
              "  \"{'Definite': 'Def', 'Gender': 'Fem', 'Number': 'Sing', 'PronType': 'Art'}\",\n",
              "  'None',\n",
              "  'None',\n",
              "  'None'],\n",
              " 'head': ['2', '0', 'None', '5', '5', '2', '5', '2'],\n",
              " 'deprel': ['amod', 'root', '_', 'case', 'det', 'nmod', 'flat:name', 'punct'],\n",
              " 'deps': [\"[('amod', 2)]\",\n",
              "  \"[('root', 0)]\",\n",
              "  'None',\n",
              "  \"[('case', 5)]\",\n",
              "  \"[('det', 5)]\",\n",
              "  \"[('nmod:a', 2)]\",\n",
              "  \"[('flat:name', 5)]\",\n",
              "  \"[('punct', 2)]\"],\n",
              " 'misc': ['None',\n",
              "  'None',\n",
              "  'None',\n",
              "  'None',\n",
              "  'None',\n",
              "  'None',\n",
              "  \"{'SpaceAfter': 'No'}\",\n",
              "  'None'],\n",
              " 'new_head': ['2', '0', '5', '5', '2', '5', '2'],\n",
              " 'new_tokens': ['Inconsueto', 'allarme', 'a', 'la', 'Tate', 'Gallery', ':']}"
            ]
          },
          "metadata": {},
          "execution_count": 11
        }
      ],
      "source": [
        "train_dataset[3]"
      ]
    },
    {
      "cell_type": "markdown",
      "metadata": {
        "id": "ugVo0dFFaqjz"
      },
      "source": [
        "###Analysis\n",
        "The complete dataset is composed of 14167 samples. \\\\\n",
        "The train dataset is composed of 12954 filtered samples, after removing 167 samples that were non-projective. \\\\\n",
        "As shown in the plot above the most common lenght of a sample is 9 tokens.\n",
        "\n"
      ]
    },
    {
      "cell_type": "markdown",
      "metadata": {
        "id": "kmspVrNEI2ZE"
      },
      "source": [
        "#Models\n",
        "\n",
        "---\n",
        "\n"
      ]
    },
    {
      "cell_type": "markdown",
      "metadata": {
        "id": "8O-ckaozI6E2"
      },
      "source": [
        "## Baseline LSTM"
      ]
    },
    {
      "cell_type": "code",
      "execution_count": null,
      "metadata": {
        "id": "ACWZwkaV52Os"
      },
      "outputs": [],
      "source": [
        "#@title Parameters\n",
        "EMBEDDING_SIZE = 300 #@param {type:\"integer\"}\n",
        "LSTM_SIZE = 300 #@param {type:\"integer\"}\n",
        "LSTM_LAYERS = 2 #@param {type:\"integer\"}\n",
        "MLP_SIZE = 200\n",
        "DROPOUT = 0.2\n",
        "EPOCHS = 15 #@param {type:\"integer\"}\n",
        "LR = 0.001   # learning rate\n",
        "BATCH_SIZE = 16 #@param {type:\"slider\", min:16, max:64, step:2}"
      ]
    },
    {
      "cell_type": "code",
      "execution_count": null,
      "metadata": {
        "cellView": "form",
        "id": "s-MK0mJpbyol"
      },
      "outputs": [],
      "source": [
        "#@title Dataloaders for the NN\n",
        "train_dataloader = torch.utils.data.DataLoader(train_dataset, batch_size=BATCH_SIZE, shuffle=True, collate_fn=partial(prepare_batch, get_gold_path=True))\n",
        "dev_dataloader = torch.utils.data.DataLoader(dev_dataset, batch_size=BATCH_SIZE, shuffle=False, collate_fn=partial(prepare_batch))\n",
        "test_dataloader = torch.utils.data.DataLoader(test_dataset, batch_size=BATCH_SIZE, shuffle=False, collate_fn=partial(prepare_batch))"
      ]
    },
    {
      "cell_type": "code",
      "execution_count": null,
      "metadata": {
        "id": "bVjUdUSN6Bbv",
        "cellView": "form"
      },
      "outputs": [],
      "source": [
        "#@title Model\n",
        "class Net(nn.Module):\n",
        "\n",
        "  def __init__(self, device):\n",
        "    super(Net, self).__init__()\n",
        "    self.device = device\n",
        "    self.embeddings = nn.Embedding(len(emb_dictionary), EMBEDDING_SIZE, padding_idx=emb_dictionary[\"<pad>\"])\n",
        "    \n",
        "    # initialize bi-LSTM\n",
        "    self.lstm = nn.LSTM(EMBEDDING_SIZE, LSTM_SIZE, num_layers = LSTM_LAYERS, bidirectional=True, dropout=DROPOUT)\n",
        "\n",
        "    # initialize feedforward\n",
        "    self.w1 = torch.nn.Linear(6*LSTM_SIZE, MLP_SIZE, bias=True)\n",
        "    self.activation = torch.nn.Tanh()\n",
        "    self.w2 = torch.nn.Linear(MLP_SIZE, 4, bias=True)\n",
        "    self.softmax = torch.nn.Softmax(dim=-1)\n",
        "\n",
        "    self.dropout = torch.nn.Dropout(DROPOUT)\n",
        "  \n",
        "  \n",
        "  def forward(self, x, paths):\n",
        "    # get the embeddings \n",
        "    x = [self.dropout(self.embeddings(torch.tensor(i).to(self.device))) for i in x]\n",
        "\n",
        "    # run the bi-lstm\n",
        "    h = self.lstm_pass(x)\n",
        "\n",
        "    # for each parser configuration that we need to score we arrange from the\n",
        "    # output of the bi-lstm the correct input for the feedforward\n",
        "    mlp_input = self.get_mlp_input(paths, h)\n",
        "\n",
        "    # run the feedforward and get the scores for each possible action\n",
        "    out = self.mlp(mlp_input)\n",
        "\n",
        "    return out\n",
        "\n",
        "  def lstm_pass(self, x):\n",
        "    x = torch.nn.utils.rnn.pack_sequence(x, enforce_sorted=False)\n",
        "    h, (h_0, c_0) = self.lstm(x)\n",
        "    h, h_sizes = torch.nn.utils.rnn.pad_packed_sequence(h) # size h: (length_sentences, batch, output_hidden_units)\n",
        "    return h\n",
        "\n",
        "  def get_mlp_input(self, configurations, h):\n",
        "    mlp_input = []\n",
        "    zero_tensor = torch.zeros(2*LSTM_SIZE, requires_grad=False).to(self.device)\n",
        "    for i in range(len(configurations)): # for every sentence in the batch\n",
        "      for j in configurations[i]: # for each configuration of a sentence \n",
        "        mlp_input.append(torch.cat([zero_tensor if j[0]==-1 else h[j[0]][i], zero_tensor if j[1]==-1 else h[j[1]][i], zero_tensor if j[2]==-1 else h[j[2]][i]]))\n",
        "    mlp_input = torch.stack(mlp_input).to(self.device)\n",
        "    return mlp_input\n",
        "\n",
        "  def mlp(self, x):\n",
        "    return self.softmax(self.w2(self.dropout(self.activation(self.w1(self.dropout(x))))))\n",
        "\n",
        "  # we use this function at inference time. We run the parser and at each step \n",
        "  # we pick as next move the one with the highest score assigned by the model\n",
        "  def infere(self, x):\n",
        "\n",
        "    parsers = [ArcEager(i) for i in x]\n",
        "\n",
        "    x = [self.embeddings(torch.tensor(i).to(self.device)) for i in x]\n",
        "\n",
        "    h = self.lstm_pass(x)\n",
        "\n",
        "    while not self.parsed_all(parsers):\n",
        "      # get the current configuration and score next moves\n",
        "      configurations = self.get_configurations(parsers)\n",
        "      mlp_input = self.get_mlp_input(configurations, h)\n",
        "      mlp_out = self.mlp(mlp_input)\n",
        "      # take the next parsing step\n",
        "      self.parse_step(parsers, mlp_out)\n",
        "\n",
        "    # return the predicted dependency tree\n",
        "    return [parser.arcs for parser in parsers]\n",
        "\n",
        "  def get_configurations(self, parsers):\n",
        "    configurations = []\n",
        "\n",
        "    for parser in parsers:\n",
        "      if parser.is_tree_final():\n",
        "        conf = [-1, -1, -1]\n",
        "      else:\n",
        "        conf = [parser.stack[len(parser.stack)-2], parser.stack[len(parser.stack)-1]]\n",
        "        if len(parser.buffer) == 0:\n",
        "          conf.append(-1)\n",
        "        else:\n",
        "          conf.append(parser.buffer[0])  \n",
        "      configurations.append([conf])\n",
        "\n",
        "    return configurations\n",
        "\n",
        "  def parsed_all(self, parsers):\n",
        "    for parser in parsers:\n",
        "      if not parser.is_tree_final():\n",
        "        return False\n",
        "    return True\n",
        "\n",
        "  # In this function we select and perform the next move according to the scores obtained.\n",
        "  # We need to be careful and select correct moves, e.g. don't do a shift if the buffer\n",
        "  # is empty or a left arc if σ2 is the ROOT. For clarity sake we didn't implement\n",
        "  # these checks in the parser so we must do them here. This renders the function quite ugly\n",
        "  def parse_step(self, parsers, moves):\n",
        "      moves_argm = moves.argmax(-1)\n",
        "      for i in range(len(parsers)):\n",
        "          if parsers[i].is_tree_final():\n",
        "              continue\n",
        "          else:\n",
        "              # Left arc\n",
        "              if moves_argm[i] == 0:\n",
        "                  stack_len = len(parsers[i].stack)\n",
        "                  if parsers[i].stack[-1] != 0 and len(parsers[i].buffer) > 0:\n",
        "                      parsers[i].left_arc()\n",
        "                  else:\n",
        "                    if len(parsers[i].stack) >= 2 and len(parsers[i].buffer) > 0:\n",
        "                      parsers[i].right_arc()\n",
        "                    elif len(parsers[i].stack) >= 2:\n",
        "                      parsers[i].reduce()\n",
        "                    else: \n",
        "                      parsers[i].shift()\n",
        "          \n",
        "              # Right arc\n",
        "              elif moves_argm[i] == 1:\n",
        "                  stack_len = len(parsers[i].stack)\n",
        "                  if stack_len >= 2 and len(parsers[i].buffer) > 0:\n",
        "                      parsers[i].right_arc()\n",
        "                  else:\n",
        "                      if parsers[i].stack[-1] != 0 and len(parsers[i].buffer) > 0:\n",
        "                        parsers[i].left_arc()\n",
        "                      elif len(parsers[i].stack) >= 2:\n",
        "                        parsers[i].reduce()\n",
        "                      else: \n",
        "                        parsers[i].shift()\n",
        "            \n",
        "              # Shift\n",
        "              elif moves_argm[i] == 2:\n",
        "                  if len(parsers[i].buffer) > 0:\n",
        "                      parsers[i].shift()\n",
        "                  else:\n",
        "                    if parsers[i].stack[-1] != 0 and len(parsers[i].buffer) > 0:\n",
        "                        parsers[i].left_arc()\n",
        "                    elif len(parsers[i].stack) >= 2 and len(parsers[i].buffer) > 0:\n",
        "                      parsers[i].right_arc()\n",
        "                    elif len(parsers[i].stack) >= 2:\n",
        "                      parsers[i].reduce()\n",
        "                  \n",
        "              # Reduce\n",
        "              elif moves_argm[i] == 3:\n",
        "                  if len(parsers[i].stack) >= 2:\n",
        "                      parsers[i].reduce()\n",
        "                  else:\n",
        "                    if parsers[i].stack[-1] != 0 and len(parsers[i].buffer) > 0:\n",
        "                        parsers[i].left_arc()\n",
        "                    elif len(parsers[i].stack) >= 2 and len(parsers[i].buffer) > 0:\n",
        "                      parsers[i].right_arc()\n",
        "                    else:\n",
        "                      parsers[i].shift()\n",
        "\n",
        "\n",
        "      '''\n",
        "    moves_argm = moves.argmax(-1)\n",
        "    for i in range(len(parsers)):\n",
        "      if parsers[i].is_tree_final():\n",
        "        continue\n",
        "      else:\n",
        "        if moves_argm[i] == 0:\n",
        "          if parsers[i].stack[len(parsers[i].stack)-2] != 0:\n",
        "            parsers[i].left_arc()\n",
        "          else:\n",
        "            if len(parsers[i].buffer) > 0:\n",
        "              parsers[i].shift()\n",
        "            else:\n",
        "              parsers[i].right_arc()\n",
        "        elif moves_argm[i] == 1:\n",
        "          if parsers[i].stack[len(parsers[i].stack)-2] == 0 and len(parsers[i].buffer)>0:\n",
        "            parsers[i].shift()\n",
        "          else:\n",
        "            parsers[i].right_arc()\n",
        "        elif moves_argm[i] == 2:\n",
        "          if len(parsers[i].buffer) > 0:\n",
        "            parsers[i].shift()\n",
        "          else:\n",
        "            if moves[i][0] > moves[i][1]:\n",
        "              if parsers[i].stack[len(parsers[i].stack)-2] != 0:\n",
        "                parsers[i].left_arc()\n",
        "              else:\n",
        "                parsers[i].right_arc()\n",
        "            else:\n",
        "              parsers[i].right_arc()\n",
        "        elif moves_argm[i] == 3:\n",
        "           parsers[i].reduce()\n",
        "           pass\n",
        "           '''"
      ]
    },
    {
      "cell_type": "code",
      "execution_count": null,
      "metadata": {
        "cellView": "form",
        "id": "kpTCo8L96KZ1"
      },
      "outputs": [],
      "source": [
        "#@title Functions for training and evaluation\n",
        "\n",
        "# Evaluation\n",
        "def evaluate(gold, preds): \n",
        "  total = 0\n",
        "  correct = 0\n",
        "\n",
        "  for g, p in zip(gold, preds):\n",
        "    for i in range(1,len(g)):\n",
        "      total += 1\n",
        "      if g[i] == p[i]:\n",
        "        correct += 1\n",
        "\n",
        "  return correct/total\n",
        "\n",
        "# Training\n",
        "def train(model, dataloader, criterion, optimizer):\n",
        "  model.train()\n",
        "  total_loss = 0\n",
        "  count = 0\n",
        "\n",
        "  for batch in dataloader:\n",
        "    optimizer.zero_grad()\n",
        "    sentences, paths, moves, trees = batch\n",
        "\n",
        "    out = model(sentences, paths)\n",
        "    labels = torch.tensor(sum(moves, [])).to(device) #sum(moves, []) flatten the array\n",
        "    loss = criterion(out, labels)\n",
        "\n",
        "    count +=1\n",
        "    total_loss += loss.item()\n",
        "\n",
        "    loss.backward()\n",
        "    optimizer.step()\n",
        "  \n",
        "  return total_loss/count\n",
        "\n",
        "# Testing\n",
        "def test(model, dataloader):\n",
        "  model.eval()\n",
        "\n",
        "  gold = []\n",
        "  preds = []\n",
        "\n",
        "  for batch in dataloader:\n",
        "    sentences, paths, moves, trees = batch\n",
        "    with torch.no_grad():\n",
        "      pred = model.infere(sentences)\n",
        "\n",
        "      gold += trees\n",
        "      preds += pred\n",
        "  \n",
        "  return evaluate(gold, preds)"
      ]
    },
    {
      "cell_type": "code",
      "execution_count": null,
      "metadata": {
        "colab": {
          "base_uri": "https://localhost:8080/"
        },
        "id": "MYiECwI7cEfu",
        "outputId": "7fc50ef4-f90c-45c0-9c04-0d0870ee128c"
      },
      "outputs": [
        {
          "name": "stdout",
          "output_type": "stream",
          "text": [
            "Device: cuda\n",
            "Epoch:   0 | avg_train_loss: 0.890 | dev_uas: 0.693 |\n",
            "Epoch:   1 | avg_train_loss: 0.836 | dev_uas: 0.735 |\n",
            "Epoch:   2 | avg_train_loss: 0.819 | dev_uas: 0.755 |\n",
            "Epoch:   3 | avg_train_loss: 0.809 | dev_uas: 0.767 |\n",
            "Epoch:   4 | avg_train_loss: 0.803 | dev_uas: 0.781 |\n",
            "Epoch:   5 | avg_train_loss: 0.797 | dev_uas: 0.778 |\n",
            "Epoch:   6 | avg_train_loss: 0.793 | dev_uas: 0.786 |\n",
            "Epoch:   7 | avg_train_loss: 0.790 | dev_uas: 0.790 |\n",
            "Epoch:   8 | avg_train_loss: 0.788 | dev_uas: 0.793 |\n",
            "Epoch:   9 | avg_train_loss: 0.785 | dev_uas: 0.795 |\n",
            "Epoch:  10 | avg_train_loss: 0.783 | dev_uas: 0.803 |\n",
            "Epoch:  11 | avg_train_loss: 0.782 | dev_uas: 0.802 |\n",
            "Epoch:  12 | avg_train_loss: 0.781 | dev_uas: 0.795 |\n",
            "Epoch:  13 | avg_train_loss: 0.779 | dev_uas: 0.806 |\n",
            "Epoch:  14 | avg_train_loss: 0.778 | dev_uas: 0.800 |\n"
          ]
        }
      ],
      "source": [
        "#@title Train\n",
        "import os\n",
        "os.environ['CUDA_LAUNCH_BLOCKING'] = '1'\n",
        "device = torch.device( \"cuda\" if torch.cuda.is_available() else \"cpu\")\n",
        "print(\"Device:\", device)\n",
        "model = Net(device)\n",
        "model.to(device)\n",
        "\n",
        "criterion = nn.CrossEntropyLoss()\n",
        "optimizer = torch.optim.Adam(model.parameters(), lr=LR)\n",
        "\n",
        "\n",
        "for epoch in range(EPOCHS):\n",
        "  avg_train_loss = train(model, train_dataloader, criterion, optimizer)\n",
        "  val_uas = test(model, dev_dataloader)\n",
        "\n",
        "  print(\"Epoch: {:3d} | avg_train_loss: {:5.3f} | dev_uas: {:5.3f} |\".format( epoch, avg_train_loss, val_uas))"
      ]
    },
    {
      "cell_type": "code",
      "execution_count": null,
      "metadata": {
        "cellView": "form",
        "colab": {
          "base_uri": "https://localhost:8080/",
          "height": 34
        },
        "id": "2yi94cp4J9eQ",
        "outputId": "dc53ca46-d892-456e-d174-f0d332b55a25"
      },
      "outputs": [
        {
          "data": {
            "application/javascript": [
              "\n",
              "    async function download(id, filename, size) {\n",
              "      if (!google.colab.kernel.accessAllowed) {\n",
              "        return;\n",
              "      }\n",
              "      const div = document.createElement('div');\n",
              "      const label = document.createElement('label');\n",
              "      label.textContent = `Downloading \"${filename}\": `;\n",
              "      div.appendChild(label);\n",
              "      const progress = document.createElement('progress');\n",
              "      progress.max = size;\n",
              "      div.appendChild(progress);\n",
              "      document.body.appendChild(div);\n",
              "\n",
              "      const buffers = [];\n",
              "      let downloaded = 0;\n",
              "\n",
              "      const channel = await google.colab.kernel.comms.open(id);\n",
              "      // Send a message to notify the kernel that we're ready.\n",
              "      channel.send({})\n",
              "\n",
              "      for await (const message of channel.messages) {\n",
              "        // Send a message to notify the kernel that we're ready.\n",
              "        channel.send({})\n",
              "        if (message.buffers) {\n",
              "          for (const buffer of message.buffers) {\n",
              "            buffers.push(buffer);\n",
              "            downloaded += buffer.byteLength;\n",
              "            progress.value = downloaded;\n",
              "          }\n",
              "        }\n",
              "      }\n",
              "      const blob = new Blob(buffers, {type: 'application/binary'});\n",
              "      const a = document.createElement('a');\n",
              "      a.href = window.URL.createObjectURL(blob);\n",
              "      a.download = filename;\n",
              "      div.appendChild(a);\n",
              "      a.click();\n",
              "      div.remove();\n",
              "    }\n",
              "  "
            ],
            "text/plain": [
              "<IPython.core.display.Javascript object>"
            ]
          },
          "metadata": {},
          "output_type": "display_data"
        },
        {
          "data": {
            "application/javascript": [
              "download(\"download_8790609a-ba1b-4043-a57c-647c764e16e3\", \"checkpoint.pth\", 26641647)"
            ],
            "text/plain": [
              "<IPython.core.display.Javascript object>"
            ]
          },
          "metadata": {},
          "output_type": "display_data"
        }
      ],
      "source": [
        "#@title Save the model?\n",
        "i = \"Yes\" #@param [\"Yes\", \"No\"]\n",
        "if i == 'Yes':\n",
        "  from google.colab import files\n",
        "  torch.save(model.state_dict(), 'checkpoint.pth')\n",
        "\n",
        "  # download checkpoint file\n",
        "  files.download('checkpoint.pth')\n",
        "\n",
        "# To retreive the model\n",
        "#state_dict = torch.load('checkpoint.pth')\n",
        "#model.load_state_dict(state_dict)"
      ]
    },
    {
      "cell_type": "markdown",
      "metadata": {
        "id": "uYY-T1jYI9NC"
      },
      "source": [
        "## BERT"
      ]
    },
    {
      "cell_type": "code",
      "execution_count": 53,
      "metadata": {
        "id": "jRaBuUMKSje1"
      },
      "outputs": [],
      "source": [
        "#@title Parameters\n",
        "MLP_SIZE = 200\n",
        "DROPOUT = 0.2\n",
        "EMBEDDING_SIZE = 300 #@param {type:\"integer\"}\n",
        "EPOCHS = 4 #@param {type:\"integer\"}\n",
        "LR = 3e-5 #@param [\"3e-4\", \"1e-4\", \"5e-5\", \"3e-5\"] {type:\"raw\"}\n",
        "BATCH_SIZE = 8 #@param {type:\"slider\", min:8, max:128, step:8}\n",
        "OUT_FEATURES = 768"
      ]
    },
    {
      "cell_type": "code",
      "execution_count": 20,
      "metadata": {
        "id": "TEHxzxApQuQU",
        "cellView": "form"
      },
      "outputs": [],
      "source": [
        "#@title Class\n",
        "from transformers import BertModel, TrainingArguments, Trainer, AutoTokenizer, DataCollatorWithPadding\n",
        "class BERTNet(nn.Module):\n",
        "\n",
        "  def __init__(self, device):\n",
        "    super(BERTNet, self).__init__()\n",
        "    self.device = device\n",
        "    self.embeddings = nn.Embedding(len(emb_dictionary), EMBEDDING_SIZE, padding_idx=emb_dictionary[\"<pad>\"])\n",
        "    \n",
        "    # initialize bi-LSTM\n",
        "    self.bert = BertModel.from_pretrained(\"bert-base-multilingual-uncased\", output_hidden_states=True)\n",
        "\n",
        "    # initialize feedforward\n",
        "    self.w1 = torch.nn.Linear(3*OUT_FEATURES, MLP_SIZE, bias=True)\n",
        "    self.activation = torch.nn.Tanh()\n",
        "    self.w2 = torch.nn.Linear(MLP_SIZE, 4, bias=True)\n",
        "    self.softmax = torch.nn.Softmax(dim=-1)\n",
        "\n",
        "    self.dropout = torch.nn.Dropout(DROPOUT)\n",
        "  \n",
        "  \n",
        "  def forward(self, x, paths, connector, attention_mask):\n",
        "    # get the embeddings \n",
        "    #x = [self.dropout(self.embeddings(torch.tensor(i).to(self.device))) for i in x]\n",
        "\n",
        "    # run BERT\n",
        "    h = self.bert_pass(x, attention_mask)\n",
        "\n",
        "    # for each parser configuration that we need to score we arrange from the\n",
        "    # output of BERT the correct input for the feedforward\n",
        "    mlp_input = self.get_mlp_input(paths, h, connector)\n",
        "\n",
        "    # run the feedforward and get the scores for each possible action\n",
        "    out = self.mlp(mlp_input)\n",
        "\n",
        "    return out\n",
        "\n",
        "  def bert_pass(self, x, attention):\n",
        "    # Tensor initialization\n",
        "    x = torch.tensor([x]).to(self.device)\n",
        "    x = torch.squeeze(x, 0)               # since x is (1, batch_size, seq_len)\n",
        "    attention = torch.tensor([attention]).to(self.device)\n",
        "    attention = torch.squeeze(attention, 0)\n",
        "\n",
        "    # BERT pass and last layers extraction\n",
        "    h = self.bert(input_ids=x)            # Returns (batch, len_sent, hid) for each layer\n",
        "    summed_last_4_layers = torch.stack(h.hidden_states[-4:]).sum(0) # We sum the last 4 layers\n",
        "\n",
        "    # (batch, len_sent, hid) -> (len_sent, batch, hid)\n",
        "    h = summed_last_4_layers.permute(1,0,2)\n",
        "\n",
        "    return h\n",
        "\n",
        "  def get_mlp_input(self, configurations, h, connector):\n",
        "    mlp_input = []\n",
        "    zero_tensor = torch.zeros(OUT_FEATURES, requires_grad=False).to(self.device)\n",
        "    for i in range(len(configurations)): # for every sentence in the batch\n",
        "      for j in configurations[i]: # for each configuration of a sentence \n",
        "\n",
        "        mlp_input.append(torch.cat([zero_tensor if j[0]==-1 else h[ connector[i][ j[0] ] ][i],\n",
        "                                    zero_tensor if j[1]==-1 else h[ connector[i][ j[1] ] ][i],\n",
        "                                    zero_tensor if j[2]==-1 else h[ connector[i][ j[2] ] ][i]]))\n",
        "    mlp_input = torch.stack(mlp_input).to(self.device)\n",
        "    return mlp_input\n",
        "\n",
        "  def mlp(self, x):\n",
        "    return self.softmax(self.w2(self.dropout(self.activation(self.w1(self.dropout(x))))))\n",
        "\n",
        "  # we use this function at inference time. We run the parser and at each step \n",
        "  # we pick as next move the one with the highest score assigned by the model\n",
        "  def infere(self, x, sentences, attention, connector):\n",
        "\n",
        "    parsers = [ArcEager(i) for i in sentences]\n",
        "\n",
        "    #x = [self.embeddings(torch.tensor(i).to(self.device)) for i in x]\n",
        "\n",
        "    h = self.bert_pass(x, attention)\n",
        "\n",
        "    while not self.parsed_all(parsers):\n",
        "      # get the current configuration and score next moves\n",
        "      configurations = self.get_configurations(parsers)\n",
        "      mlp_input = self.get_mlp_input(configurations, h, connector)\n",
        "      mlp_out = self.mlp(mlp_input)\n",
        "      # take the next parsing step\n",
        "      self.parse_step(parsers, mlp_out)\n",
        "\n",
        "    # return the predicted dependency tree\n",
        "    return [parser.arcs for parser in parsers]\n",
        "\n",
        "  def get_configurations(self, parsers):\n",
        "    configurations = []\n",
        "\n",
        "    for parser in parsers:\n",
        "      if parser.is_tree_final():\n",
        "        conf = [-1, -1, -1]\n",
        "      else:\n",
        "        conf = [parser.stack[len(parser.stack)-2], parser.stack[len(parser.stack)-1]]\n",
        "        if len(parser.buffer) == 0:\n",
        "          conf.append(-1)\n",
        "        else:\n",
        "          conf.append(parser.buffer[0])  \n",
        "      configurations.append([conf])\n",
        "\n",
        "    return configurations\n",
        "\n",
        "  def parsed_all(self, parsers):\n",
        "    for parser in parsers:\n",
        "      if not parser.is_tree_final():\n",
        "        return False\n",
        "    return True\n",
        "\n",
        "  # In this function we select and perform the next move according to the scores obtained.\n",
        "  # We need to be careful and select correct moves, e.g. don't do a shift if the buffer\n",
        "  # is empty or a left arc if σ2 is the ROOT. For clarity sake we didn't implement\n",
        "  # these checks in the parser so we must do them here. This renders the function quite ugly\n",
        "  def parse_step(self, parsers, moves):\n",
        "      moves_argm = moves.argmax(-1)\n",
        "      for i in range(len(parsers)):\n",
        "          if parsers[i].is_tree_final():\n",
        "              continue\n",
        "          else:\n",
        "              # Left arc\n",
        "              if moves_argm[i] == 0:\n",
        "                  stack_len = len(parsers[i].stack)\n",
        "                  if parsers[i].stack[-1] != 0 and len(parsers[i].buffer) > 0:\n",
        "                      parsers[i].left_arc()\n",
        "                  else:\n",
        "                    if len(parsers[i].stack) >= 2 and len(parsers[i].buffer) > 0:\n",
        "                      parsers[i].right_arc()\n",
        "                    elif len(parsers[i].stack) >= 2:\n",
        "                      parsers[i].reduce()\n",
        "                    else: \n",
        "                      parsers[i].shift()\n",
        "          \n",
        "              # Right arc\n",
        "              elif moves_argm[i] == 1:\n",
        "                  stack_len = len(parsers[i].stack)\n",
        "                  if stack_len >= 2 and len(parsers[i].buffer) > 0:\n",
        "                      parsers[i].right_arc()\n",
        "                  else:\n",
        "                      if parsers[i].stack[-1] != 0 and len(parsers[i].buffer) > 0:\n",
        "                        parsers[i].left_arc()\n",
        "                      elif len(parsers[i].stack) >= 2:\n",
        "                        parsers[i].reduce()\n",
        "                      else: \n",
        "                        parsers[i].shift()\n",
        "            \n",
        "              # Shift\n",
        "              elif moves_argm[i] == 2:\n",
        "                  if len(parsers[i].buffer) > 0:\n",
        "                      parsers[i].shift()\n",
        "                  else:\n",
        "                    if parsers[i].stack[-1] != 0 and len(parsers[i].buffer) > 0:\n",
        "                        parsers[i].left_arc()\n",
        "                    elif len(parsers[i].stack) >= 2 and len(parsers[i].buffer) > 0:\n",
        "                      parsers[i].right_arc()\n",
        "                    elif len(parsers[i].stack) >= 2:\n",
        "                      parsers[i].reduce()\n",
        "                  \n",
        "              # Reduce\n",
        "              elif moves_argm[i] == 3:\n",
        "                  if len(parsers[i].stack) >= 2:\n",
        "                      parsers[i].reduce()\n",
        "                  else:\n",
        "                    if parsers[i].stack[-1] != 0 and len(parsers[i].buffer) > 0:\n",
        "                        parsers[i].left_arc()\n",
        "                    elif len(parsers[i].stack) >= 2 and len(parsers[i].buffer) > 0:\n",
        "                      parsers[i].right_arc()\n",
        "                    else:\n",
        "                      parsers[i].shift()"
      ]
    },
    {
      "cell_type": "code",
      "execution_count": 54,
      "metadata": {
        "id": "DIfd21xktFYY",
        "cellView": "form"
      },
      "outputs": [],
      "source": [
        "#@title Functions for training and evaluation\n",
        "\n",
        "# Evaluation\n",
        "def evaluate_tr(gold, preds): \n",
        "  total = 0\n",
        "  correct = 0\n",
        "\n",
        "  for g, p in zip(gold, preds):\n",
        "    for i in range(1,len(g)):\n",
        "      total += 1\n",
        "      if g[i] == p[i]:\n",
        "        correct += 1\n",
        "\n",
        "  return correct/total\n",
        "\n",
        "# Training\n",
        "def train_tr(model, dataloader, criterion, optimizer):\n",
        "  model.train()\n",
        "  total_loss = 0\n",
        "  count = 0\n",
        "\n",
        "  for batch in dataloader:\n",
        "    optimizer.zero_grad()\n",
        "   # _, _, _, _, _, _, _, _, _, _, _, _, _, input_ids, attention_mask, labels = batch\n",
        "    sentences, paths, moves, trees, indices_ids , connector, attention_mask = batch\n",
        "\n",
        "    out = model(indices_ids, paths, connector, attention_mask)\n",
        "    labels = torch.tensor(sum(moves, [])).to(device) #sum(moves, []) flatten the array\n",
        "    loss = criterion(out, labels)\n",
        "\n",
        "    count +=1\n",
        "    total_loss += loss.item()\n",
        "\n",
        "    loss.backward()\n",
        "    optimizer.step()\n",
        "  \n",
        "  return total_loss/count\n",
        "\n",
        "# Testing\n",
        "def test_tr(model, dataloader):\n",
        "  model.eval()\n",
        "\n",
        "  gold = []\n",
        "  preds = []\n",
        "\n",
        "  for batch in dataloader:\n",
        "    sentences, paths, moves, trees, indices_ids , connector, attention_mask = batch\n",
        "    with torch.no_grad():\n",
        "      pred = model.infere(indices_ids, sentences, attention_mask, connector)\n",
        "\n",
        "      gold += trees\n",
        "      preds += pred\n",
        "  \n",
        "  return evaluate_tr(gold, preds)"
      ]
    },
    {
      "cell_type": "code",
      "execution_count": 55,
      "metadata": {
        "cellView": "form",
        "colab": {
          "base_uri": "https://localhost:8080/",
          "height": 506
        },
        "id": "vc8U2geBOiws",
        "outputId": "25cca159-56a7-4665-9518-30af45c1c6b0"
      },
      "outputs": [
        {
          "output_type": "stream",
          "name": "stdout",
          "text": [
            "Looking in indexes: https://pypi.org/simple, https://us-python.pkg.dev/colab-wheels/public/simple/\n",
            "Requirement already satisfied: wandb in /usr/local/lib/python3.10/dist-packages (0.15.3)\n",
            "Requirement already satisfied: Click!=8.0.0,>=7.0 in /usr/local/lib/python3.10/dist-packages (from wandb) (8.1.3)\n",
            "Requirement already satisfied: GitPython!=3.1.29,>=1.0.0 in /usr/local/lib/python3.10/dist-packages (from wandb) (3.1.31)\n",
            "Requirement already satisfied: requests<3,>=2.0.0 in /usr/local/lib/python3.10/dist-packages (from wandb) (2.27.1)\n",
            "Requirement already satisfied: psutil>=5.0.0 in /usr/local/lib/python3.10/dist-packages (from wandb) (5.9.5)\n",
            "Requirement already satisfied: sentry-sdk>=1.0.0 in /usr/local/lib/python3.10/dist-packages (from wandb) (1.24.0)\n",
            "Requirement already satisfied: docker-pycreds>=0.4.0 in /usr/local/lib/python3.10/dist-packages (from wandb) (0.4.0)\n",
            "Requirement already satisfied: PyYAML in /usr/local/lib/python3.10/dist-packages (from wandb) (6.0)\n",
            "Requirement already satisfied: pathtools in /usr/local/lib/python3.10/dist-packages (from wandb) (0.1.2)\n",
            "Requirement already satisfied: setproctitle in /usr/local/lib/python3.10/dist-packages (from wandb) (1.3.2)\n",
            "Requirement already satisfied: setuptools in /usr/local/lib/python3.10/dist-packages (from wandb) (67.7.2)\n",
            "Requirement already satisfied: appdirs>=1.4.3 in /usr/local/lib/python3.10/dist-packages (from wandb) (1.4.4)\n",
            "Requirement already satisfied: protobuf!=4.21.0,<5,>=3.19.0 in /usr/local/lib/python3.10/dist-packages (from wandb) (3.20.3)\n",
            "Requirement already satisfied: six>=1.4.0 in /usr/local/lib/python3.10/dist-packages (from docker-pycreds>=0.4.0->wandb) (1.16.0)\n",
            "Requirement already satisfied: gitdb<5,>=4.0.1 in /usr/local/lib/python3.10/dist-packages (from GitPython!=3.1.29,>=1.0.0->wandb) (4.0.10)\n",
            "Requirement already satisfied: urllib3<1.27,>=1.21.1 in /usr/local/lib/python3.10/dist-packages (from requests<3,>=2.0.0->wandb) (1.26.15)\n",
            "Requirement already satisfied: certifi>=2017.4.17 in /usr/local/lib/python3.10/dist-packages (from requests<3,>=2.0.0->wandb) (2022.12.7)\n",
            "Requirement already satisfied: charset-normalizer~=2.0.0 in /usr/local/lib/python3.10/dist-packages (from requests<3,>=2.0.0->wandb) (2.0.12)\n",
            "Requirement already satisfied: idna<4,>=2.5 in /usr/local/lib/python3.10/dist-packages (from requests<3,>=2.0.0->wandb) (3.4)\n",
            "Requirement already satisfied: smmap<6,>=3.0.1 in /usr/local/lib/python3.10/dist-packages (from gitdb<5,>=4.0.1->GitPython!=3.1.29,>=1.0.0->wandb) (5.0.0)\n",
            "env: WANDB_PROJECT=BERT_parsing\n"
          ]
        },
        {
          "output_type": "display_data",
          "data": {
            "text/plain": [
              "<IPython.core.display.HTML object>"
            ],
            "text/html": [
              "Tracking run with wandb version 0.15.3"
            ]
          },
          "metadata": {}
        },
        {
          "output_type": "display_data",
          "data": {
            "text/plain": [
              "<IPython.core.display.HTML object>"
            ],
            "text/html": [
              "Run data is saved locally in <code>/content/wandb/run-20230525_192557-luukkoi0</code>"
            ]
          },
          "metadata": {}
        },
        {
          "output_type": "display_data",
          "data": {
            "text/plain": [
              "<IPython.core.display.HTML object>"
            ],
            "text/html": [
              "Syncing run <strong><a href='https://wandb.ai/francescopio-monaco/BERT_parsing/runs/luukkoi0' target=\"_blank\">glorious-water-4</a></strong> to <a href='https://wandb.ai/francescopio-monaco/BERT_parsing' target=\"_blank\">Weights & Biases</a> (<a href='https://wandb.me/run' target=\"_blank\">docs</a>)<br/>"
            ]
          },
          "metadata": {}
        },
        {
          "output_type": "display_data",
          "data": {
            "text/plain": [
              "<IPython.core.display.HTML object>"
            ],
            "text/html": [
              " View project at <a href='https://wandb.ai/francescopio-monaco/BERT_parsing' target=\"_blank\">https://wandb.ai/francescopio-monaco/BERT_parsing</a>"
            ]
          },
          "metadata": {}
        },
        {
          "output_type": "display_data",
          "data": {
            "text/plain": [
              "<IPython.core.display.HTML object>"
            ],
            "text/html": [
              " View run at <a href='https://wandb.ai/francescopio-monaco/BERT_parsing/runs/luukkoi0' target=\"_blank\">https://wandb.ai/francescopio-monaco/BERT_parsing/runs/luukkoi0</a>"
            ]
          },
          "metadata": {}
        }
      ],
      "source": [
        "#@title Wandb setup\n",
        "Use_Wandb = True #@param {type:\"boolean\"}\n",
        "if Use_Wandb:\n",
        "  !pip install wandb\n",
        "  import wandb\n",
        "  %env WANDB_PROJECT=BERT_parsing\n",
        "  wandb.login()\n",
        "  wandb.init(project= 'BERT_parsing',\n",
        "             config={\n",
        "                \"learning rate\": LR,\n",
        "                \"batch size\": BATCH_SIZE,\n",
        "                \"epochs\": EPOCHS,\n",
        "             })"
      ]
    },
    {
      "cell_type": "code",
      "execution_count": 56,
      "metadata": {
        "colab": {
          "base_uri": "https://localhost:8080/"
        },
        "id": "t7thq36OfoZg",
        "outputId": "d3de2330-2aa4-499e-f885-8aba2c0728b8"
      },
      "outputs": [
        {
          "output_type": "stream",
          "name": "stderr",
          "text": [
            "WARNING:datasets.builder:Found cached dataset universal_dependencies (/root/.cache/huggingface/datasets/universal_dependencies/it_isdt/2.7.0/1ac001f0e8a0021f19388e810c94599f3ac13cc45d6b5b8c69f7847b2188bdf7)\n",
            "WARNING:datasets.builder:Found cached dataset universal_dependencies (/root/.cache/huggingface/datasets/universal_dependencies/it_isdt/2.7.0/1ac001f0e8a0021f19388e810c94599f3ac13cc45d6b5b8c69f7847b2188bdf7)\n",
            "WARNING:datasets.builder:Found cached dataset universal_dependencies (/root/.cache/huggingface/datasets/universal_dependencies/it_isdt/2.7.0/1ac001f0e8a0021f19388e810c94599f3ac13cc45d6b5b8c69f7847b2188bdf7)\n"
          ]
        }
      ],
      "source": [
        "#@title Util function for tokenization\n",
        "def tokenize_and_align_labels(example):\n",
        "\n",
        "    example['new_head'] = []\n",
        "    example['new_tokens'] = []\n",
        "    for index, elem in enumerate(example['head']):\n",
        "      if elem != 'None': \n",
        "        example['new_head'].append(elem)\n",
        "        example['new_tokens'].append(example['tokens'][index])\n",
        "\n",
        "    tokens = example[\"new_tokens\"]\n",
        "    heads = example[\"new_head\"]\n",
        "\n",
        "    # Tokenize the tokens using BERT tokenizer\n",
        "    tokenized_inputs = tokenizer(tokens, truncation=True, is_split_into_words=True, padding='max_length')\n",
        "    input_ids = tokenized_inputs['input_ids']\n",
        "    attention_mask = tokenized_inputs['attention_mask']\n",
        "    word_ids = tokenized_inputs.word_ids()\n",
        "\n",
        "    # Return the transformed sample\n",
        "    sample = {\n",
        "        'input_ids': input_ids,\n",
        "        'attention_mask': attention_mask,\n",
        "        #'labels': labels\n",
        "        'word_ids' : word_ids, #word_ids: [None, 0, 0, 0, 0, 1, 1, 2, 3, 4, 5, 6, None]\n",
        "        'new_tokens': tokens,\n",
        "        'new_head': heads\n",
        "    }\n",
        "\n",
        "    return sample\n",
        "\n",
        "train_dataset = load_dataset('universal_dependencies', 'it_isdt', split=\"train\")\n",
        "dev_dataset = load_dataset('universal_dependencies', 'it_isdt', split=\"validation\")\n",
        "test_dataset = load_dataset('universal_dependencies', 'it_isdt', split=\"test\")"
      ]
    },
    {
      "cell_type": "code",
      "execution_count": 57,
      "metadata": {
        "id": "iIZSZ6pxcP1_"
      },
      "outputs": [],
      "source": [
        "#@title Setup \n",
        "import evaluate\n",
        "\n",
        "tokenizer = AutoTokenizer.from_pretrained(\"bert-base-multilingual-uncased\") "
      ]
    },
    {
      "cell_type": "code",
      "execution_count": 58,
      "metadata": {
        "id": "WOSbc4p6aVwg",
        "colab": {
          "base_uri": "https://localhost:8080/",
          "height": 72,
          "referenced_widgets": [
            "36e6f92c267e4f2cacaa6097b776665b",
            "ede82fc0589e4c68a54d93029c48a702",
            "c28183e40da0434aa9ce0ff37f6785df",
            "bc74b5d61d844d4496af55ca5dae3e20",
            "bf8955d972ff4af9a317014167ac70de",
            "9ba04967748249b3bac5023e8c5aa9b3",
            "1e0b48b183354a8f93798a542ba0db4e",
            "87a5ad7efc544b698d59322e4b803067",
            "95edfdf94ade4a888189fa7c2409b2ca",
            "2038e1eb084b43fc8d5d4069b9472b57",
            "8fb139e5fcdc49adbff90e3ae267ba84"
          ]
        },
        "outputId": "d5b52e70-1e74-4d34-e1fd-7b4c0f463b9f"
      },
      "outputs": [
        {
          "output_type": "stream",
          "name": "stderr",
          "text": [
            "WARNING:datasets.arrow_dataset:Loading cached processed dataset at /root/.cache/huggingface/datasets/universal_dependencies/it_isdt/2.7.0/1ac001f0e8a0021f19388e810c94599f3ac13cc45d6b5b8c69f7847b2188bdf7/cache-1abdb50ad7dbaf58.arrow\n"
          ]
        },
        {
          "output_type": "display_data",
          "data": {
            "text/plain": [
              "Map:   0%|          | 0/564 [00:00<?, ? examples/s]"
            ],
            "application/vnd.jupyter.widget-view+json": {
              "version_major": 2,
              "version_minor": 0,
              "model_id": "36e6f92c267e4f2cacaa6097b776665b"
            }
          },
          "metadata": {}
        },
        {
          "output_type": "stream",
          "name": "stderr",
          "text": [
            "WARNING:datasets.arrow_dataset:Loading cached processed dataset at /root/.cache/huggingface/datasets/universal_dependencies/it_isdt/2.7.0/1ac001f0e8a0021f19388e810c94599f3ac13cc45d6b5b8c69f7847b2188bdf7/cache-56fa980a99f65c55.arrow\n"
          ]
        }
      ],
      "source": [
        "#@title Data Preparation\n",
        "from torch.utils.data import DataLoader\n",
        "train_dataset = train_dataset.map(tokenize_and_align_labels)\n",
        "dev_dataset = dev_dataset.map(tokenize_and_align_labels)\n",
        "test_dataset = test_dataset.map(tokenize_and_align_labels)\n",
        "\n",
        "# Remove non projective trees\n",
        "train_dataset =[sample for sample in train_dataset if is_projective([-1] + [int(head) for head in sample[\"new_head\"]])] \n",
        "\n",
        "# Create the dataloaders\n",
        "train_dataloader = DataLoader(train_dataset[:1500], batch_size = BATCH_SIZE, \n",
        "                                collate_fn = partial(prepare_batch, get_gold_path=True, is_transformer = True))\n",
        "dev_dataloader = DataLoader(dev_dataset, batch_size = BATCH_SIZE, \n",
        "                                collate_fn = partial(prepare_batch, is_transformer = True))\n",
        "test_dataloader = DataLoader(test_dataset, batch_size = BATCH_SIZE, \n",
        "                                collate_fn = partial(prepare_batch, is_transformer = True))"
      ]
    },
    {
      "cell_type": "code",
      "execution_count": 59,
      "metadata": {
        "colab": {
          "base_uri": "https://localhost:8080/"
        },
        "id": "lrGjPc45QQRU",
        "outputId": "4cb02c9e-d50a-4cc1-87dd-91f4c58e4049"
      },
      "outputs": [
        {
          "output_type": "stream",
          "name": "stderr",
          "text": [
            "Some weights of the model checkpoint at bert-base-multilingual-uncased were not used when initializing BertModel: ['cls.seq_relationship.bias', 'cls.predictions.transform.LayerNorm.weight', 'cls.predictions.decoder.weight', 'cls.predictions.transform.dense.bias', 'cls.seq_relationship.weight', 'cls.predictions.transform.dense.weight', 'cls.predictions.transform.LayerNorm.bias', 'cls.predictions.bias']\n",
            "- This IS expected if you are initializing BertModel from the checkpoint of a model trained on another task or with another architecture (e.g. initializing a BertForSequenceClassification model from a BertForPreTraining model).\n",
            "- This IS NOT expected if you are initializing BertModel from the checkpoint of a model that you expect to be exactly identical (initializing a BertForSequenceClassification model from a BertForSequenceClassification model).\n"
          ]
        },
        {
          "output_type": "stream",
          "name": "stdout",
          "text": [
            "Epoch:   0 | avg_train_loss: 0.970 | dev_uas: 0.710 |\n",
            "Epoch:   1 | avg_train_loss: 0.864 | dev_uas: 0.779 |\n",
            "Epoch:   2 | avg_train_loss: 0.833 | dev_uas: 0.797 |\n",
            "Epoch:   3 | avg_train_loss: 0.818 | dev_uas: 0.818 |\n"
          ]
        }
      ],
      "source": [
        "#@title Training\n",
        "\n",
        "device = torch.device( \"cuda\" if torch.cuda.is_available() else \"cpu\")\n",
        "transformer = BERTNet(device)\n",
        "\n",
        "criterion = nn.CrossEntropyLoss()\n",
        "optimizer = torch.optim.Adam(transformer.parameters(), lr=LR)\n",
        "transformer.to(device)\n",
        "\n",
        "for epoch in range(EPOCHS):\n",
        "  avg_train_loss = train_tr(transformer, train_dataloader, criterion, optimizer)\n",
        "  val_uas = test_tr(transformer, dev_dataloader)\n",
        "\n",
        "  torch.cuda.empty_cache()\n",
        "  _ = gc.collect()\n",
        "\n",
        "  wandb.log({\"train_loss\": avg_train_loss,\n",
        "             \"dev_uas\": val_uas })\n",
        "  print(\"Epoch: {:3d} | avg_train_loss: {:5.3f} | dev_uas: {:5.3f} |\".format( epoch, avg_train_loss, val_uas))"
      ]
    },
    {
      "cell_type": "markdown",
      "source": [
        "**Tokens:** [[1, 3, 4], [1, 2, 5, 6, 7, 4], [1, 3, 4], [1, 2, 8, 9, 6, 2, 2, 10], [1, 11, 12, 13, 14, 15, 2, 16, 11, 17, 18, 19, 2, 5, 11, 20, 21, 22, 23, 24, 2, 25, 26, 27, 18, 6, 28, 25, 4], [1, 2, 6, 29, 18, 19, 22, 30, 18, 26, 31, 2, 24, 2, 32, 33, 34, 26, 2, 35, 36, 2, 30, 37, 38, 39, 40, 41, 16, 42, 43, 26, 2, 35, 44, 6, 12, 4], [1, 45, 20, 46, 18, 47, 2, 2, 2, 10], [1, 2, 25, 2, 18, 48, 25, 34, 13, 6, 49, 18, 11, 50, 41, 22, 26, 31, 51, 2, 34, 24, 2, 5, 52, 53, 54, 46, 55, 22, 19, 4]]\n",
        "\\\n",
        "\\\n",
        "**Configuration:** [[0, 0, 1], [0, 1, 2], [1, 2, -1], [0, 1, -1]]\n",
        "\\\n",
        "\\\n",
        "**Word ids:** [None, 0, 1, None, None, None, None, None, None, None, None, None, None, None, N"
      ],
      "metadata": {
        "id": "9t7-bgDZmVqC"
      }
    },
    {
      "cell_type": "code",
      "source": [
        "del transformer\n",
        "torch.no_grad()\n",
        "torch.cuda.empty_cache()\n",
        "gc.collect()"
      ],
      "metadata": {
        "colab": {
          "base_uri": "https://localhost:8080/"
        },
        "id": "cMUG4vFxetW4",
        "outputId": "3c980cbf-3109-4a6d-cbb9-a97b3d0b5fdd"
      },
      "execution_count": null,
      "outputs": [
        {
          "output_type": "execute_result",
          "data": {
            "text/plain": [
              "285"
            ]
          },
          "metadata": {},
          "execution_count": 22
        }
      ]
    },
    {
      "cell_type": "code",
      "execution_count": 60,
      "metadata": {
        "id": "p5F8YoLxPWLw",
        "colab": {
          "base_uri": "https://localhost:8080/",
          "height": 227
        },
        "outputId": "587a7c58-f92f-4656-d993-d3e7afc59b6e"
      },
      "outputs": [
        {
          "output_type": "display_data",
          "data": {
            "text/plain": [
              "<IPython.core.display.HTML object>"
            ],
            "text/html": [
              "Waiting for W&B process to finish... <strong style=\"color:green\">(success).</strong>"
            ]
          },
          "metadata": {}
        },
        {
          "output_type": "display_data",
          "data": {
            "text/plain": [
              "<IPython.core.display.HTML object>"
            ],
            "text/html": [
              "<style>\n",
              "    table.wandb td:nth-child(1) { padding: 0 10px; text-align: left ; width: auto;} td:nth-child(2) {text-align: left ; width: 100%}\n",
              "    .wandb-row { display: flex; flex-direction: row; flex-wrap: wrap; justify-content: flex-start; width: 100% }\n",
              "    .wandb-col { display: flex; flex-direction: column; flex-basis: 100%; flex: 1; padding: 10px; }\n",
              "    </style>\n",
              "<div class=\"wandb-row\"><div class=\"wandb-col\"><h3>Run history:</h3><br/><table class=\"wandb\"><tr><td>dev_uas</td><td>▁▅▇█</td></tr><tr><td>train_loss</td><td>█▃▂▁</td></tr></table><br/></div><div class=\"wandb-col\"><h3>Run summary:</h3><br/><table class=\"wandb\"><tr><td>dev_uas</td><td>0.81785</td></tr><tr><td>train_loss</td><td>0.81775</td></tr></table><br/></div></div>"
            ]
          },
          "metadata": {}
        },
        {
          "output_type": "display_data",
          "data": {
            "text/plain": [
              "<IPython.core.display.HTML object>"
            ],
            "text/html": [
              " View run <strong style=\"color:#cdcd00\">glorious-water-4</strong> at: <a href='https://wandb.ai/francescopio-monaco/BERT_parsing/runs/luukkoi0' target=\"_blank\">https://wandb.ai/francescopio-monaco/BERT_parsing/runs/luukkoi0</a><br/>Synced 5 W&B file(s), 0 media file(s), 0 artifact file(s) and 0 other file(s)"
            ]
          },
          "metadata": {}
        },
        {
          "output_type": "display_data",
          "data": {
            "text/plain": [
              "<IPython.core.display.HTML object>"
            ],
            "text/html": [
              "Find logs at: <code>./wandb/run-20230525_192557-luukkoi0/logs</code>"
            ]
          },
          "metadata": {}
        }
      ],
      "source": [
        "if Use_Wandb:\n",
        "  wandb.finish()"
      ]
    },
    {
      "cell_type": "code",
      "execution_count": null,
      "metadata": {
        "cellView": "form",
        "id": "B0tA2dKuSIz8"
      },
      "outputs": [],
      "source": [
        "#@title Save the model?\n",
        "i = \"No\" #@param [\"Yes\", \"No\"]\n",
        "if i == 'Yes':\n",
        "  from google.colab import files\n",
        "  torch.save(transformer.state_dict(), 'checkpoint.pth')\n",
        "\n",
        "  # download checkpoint file\n",
        "  files.download('checkpoint.pth')\n",
        "\n",
        "# To retreive the model\n",
        "#state_dict = torch.load('checkpoint.pth')\n",
        "#model.load_state_dict(state_dict)"
      ]
    },
    {
      "cell_type": "markdown",
      "metadata": {
        "id": "XiVaG9t6JBds"
      },
      "source": [
        "# Evaluation\n",
        "\n",
        "---\n",
        "\n"
      ]
    },
    {
      "cell_type": "code",
      "execution_count": null,
      "metadata": {
        "colab": {
          "base_uri": "https://localhost:8080/"
        },
        "id": "e5qtKMuY6aXx",
        "outputId": "4e41eac0-cb32-439e-9266-22ef6d00dcdb"
      },
      "outputs": [
        {
          "name": "stdout",
          "output_type": "stream",
          "text": [
            "test_uas: 0.807\n"
          ]
        }
      ],
      "source": [
        "#@title BiLSTM evaluation\n",
        "test_uas = test(model, test_dataloader)\n",
        "print(\"test_uas: {:5.3f}\".format( test_uas))"
      ]
    },
    {
      "cell_type": "code",
      "execution_count": null,
      "metadata": {
        "id": "jNJNEJGg6e47"
      },
      "outputs": [],
      "source": [
        "#@title BERT evaluation\n",
        "test_predictions = trainer.predict(mrpc_dataset[\"test\"])\n",
        "print(test_predictions.metrics)"
      ]
    },
    {
      "cell_type": "code",
      "execution_count": null,
      "metadata": {
        "id": "QWIYidD96h6w"
      },
      "outputs": [],
      "source": [
        "#@title BERT error analysis"
      ]
    },
    {
      "cell_type": "markdown",
      "metadata": {
        "id": "Dpu7kDGrJEnh"
      },
      "source": [
        "# Discussion\n",
        "\n",
        "---\n",
        " The **LSTM model** used as baseline has been adapted to have an architecture that is similar to the ones that are currently in the leaderboards of the SoTA; various combination were tried (1/2 layers, 16/24/32 batches, 200/300 dim. word embedding, 200/300 dim. LSTM); the UAS on validation varied by little but what was visible was that some combinations were able to converge using less epochs.\n",
        "The **baseline UAS** obtained on validation using the best combination of parameters found was of *0.807*.\n",
        "\\\n",
        "\\\n",
        "The **BERT model**; embeddings of the sentences were extracted by summing the last 4 hidden layers as suggested in the slides;  \n",
        "\n",
        "\n",
        "\n",
        "\\\n",
        "Results of the SoTA were found on:\n",
        "\n",
        "*   https://pdfs.semanticscholar.org/16f0/c674d23e9682f90d61b157c735194e0386ae.pdf\n",
        "\n",
        "\n"
      ]
    }
  ],
  "metadata": {
    "accelerator": "GPU",
    "colab": {
      "provenance": [],
      "collapsed_sections": [
        "5OXuzSHgIwTu",
        "8O-ckaozI6E2"
      ],
      "gpuType": "T4",
      "include_colab_link": true
    },
    "gpuClass": "standard",
    "kernelspec": {
      "display_name": "Python 3",
      "name": "python3"
    },
    "language_info": {
      "name": "python"
    },
    "widgets": {
      "application/vnd.jupyter.widget-state+json": {
        "ba66e0615ca540a89594ad70dad1834e": {
          "model_module": "@jupyter-widgets/controls",
          "model_name": "HBoxModel",
          "model_module_version": "1.5.0",
          "state": {
            "_dom_classes": [],
            "_model_module": "@jupyter-widgets/controls",
            "_model_module_version": "1.5.0",
            "_model_name": "HBoxModel",
            "_view_count": null,
            "_view_module": "@jupyter-widgets/controls",
            "_view_module_version": "1.5.0",
            "_view_name": "HBoxView",
            "box_style": "",
            "children": [
              "IPY_MODEL_ba28e32a3dc24c61ba85b10627ba0ab4",
              "IPY_MODEL_602d43e4e06844d8806ca0b8d3295fd0",
              "IPY_MODEL_805997515f4c4745bfbe9b290b79b1ff"
            ],
            "layout": "IPY_MODEL_47cccb63b39549618fb01dd03ceed56d"
          }
        },
        "ba28e32a3dc24c61ba85b10627ba0ab4": {
          "model_module": "@jupyter-widgets/controls",
          "model_name": "HTMLModel",
          "model_module_version": "1.5.0",
          "state": {
            "_dom_classes": [],
            "_model_module": "@jupyter-widgets/controls",
            "_model_module_version": "1.5.0",
            "_model_name": "HTMLModel",
            "_view_count": null,
            "_view_module": "@jupyter-widgets/controls",
            "_view_module_version": "1.5.0",
            "_view_name": "HTMLView",
            "description": "",
            "description_tooltip": null,
            "layout": "IPY_MODEL_7a5c582976eb479593fd1f13cb7a56ea",
            "placeholder": "​",
            "style": "IPY_MODEL_f237b3e4fe8c454ba4130d63cac6fa85",
            "value": "Map: 100%"
          }
        },
        "602d43e4e06844d8806ca0b8d3295fd0": {
          "model_module": "@jupyter-widgets/controls",
          "model_name": "FloatProgressModel",
          "model_module_version": "1.5.0",
          "state": {
            "_dom_classes": [],
            "_model_module": "@jupyter-widgets/controls",
            "_model_module_version": "1.5.0",
            "_model_name": "FloatProgressModel",
            "_view_count": null,
            "_view_module": "@jupyter-widgets/controls",
            "_view_module_version": "1.5.0",
            "_view_name": "ProgressView",
            "bar_style": "",
            "description": "",
            "description_tooltip": null,
            "layout": "IPY_MODEL_4051ccc63c8d44768ed2d5a692b59d4b",
            "max": 13121,
            "min": 0,
            "orientation": "horizontal",
            "style": "IPY_MODEL_f108302d59d042fca242706d26369af3",
            "value": 13121
          }
        },
        "805997515f4c4745bfbe9b290b79b1ff": {
          "model_module": "@jupyter-widgets/controls",
          "model_name": "HTMLModel",
          "model_module_version": "1.5.0",
          "state": {
            "_dom_classes": [],
            "_model_module": "@jupyter-widgets/controls",
            "_model_module_version": "1.5.0",
            "_model_name": "HTMLModel",
            "_view_count": null,
            "_view_module": "@jupyter-widgets/controls",
            "_view_module_version": "1.5.0",
            "_view_name": "HTMLView",
            "description": "",
            "description_tooltip": null,
            "layout": "IPY_MODEL_dd06f60fbff94657abdee1a6552d179f",
            "placeholder": "​",
            "style": "IPY_MODEL_89d4887cbb47420aa9c2734dda65536b",
            "value": " 13121/13121 [00:05&lt;00:00, 1917.49 examples/s]"
          }
        },
        "47cccb63b39549618fb01dd03ceed56d": {
          "model_module": "@jupyter-widgets/base",
          "model_name": "LayoutModel",
          "model_module_version": "1.2.0",
          "state": {
            "_model_module": "@jupyter-widgets/base",
            "_model_module_version": "1.2.0",
            "_model_name": "LayoutModel",
            "_view_count": null,
            "_view_module": "@jupyter-widgets/base",
            "_view_module_version": "1.2.0",
            "_view_name": "LayoutView",
            "align_content": null,
            "align_items": null,
            "align_self": null,
            "border": null,
            "bottom": null,
            "display": null,
            "flex": null,
            "flex_flow": null,
            "grid_area": null,
            "grid_auto_columns": null,
            "grid_auto_flow": null,
            "grid_auto_rows": null,
            "grid_column": null,
            "grid_gap": null,
            "grid_row": null,
            "grid_template_areas": null,
            "grid_template_columns": null,
            "grid_template_rows": null,
            "height": null,
            "justify_content": null,
            "justify_items": null,
            "left": null,
            "margin": null,
            "max_height": null,
            "max_width": null,
            "min_height": null,
            "min_width": null,
            "object_fit": null,
            "object_position": null,
            "order": null,
            "overflow": null,
            "overflow_x": null,
            "overflow_y": null,
            "padding": null,
            "right": null,
            "top": null,
            "visibility": "hidden",
            "width": null
          }
        },
        "7a5c582976eb479593fd1f13cb7a56ea": {
          "model_module": "@jupyter-widgets/base",
          "model_name": "LayoutModel",
          "model_module_version": "1.2.0",
          "state": {
            "_model_module": "@jupyter-widgets/base",
            "_model_module_version": "1.2.0",
            "_model_name": "LayoutModel",
            "_view_count": null,
            "_view_module": "@jupyter-widgets/base",
            "_view_module_version": "1.2.0",
            "_view_name": "LayoutView",
            "align_content": null,
            "align_items": null,
            "align_self": null,
            "border": null,
            "bottom": null,
            "display": null,
            "flex": null,
            "flex_flow": null,
            "grid_area": null,
            "grid_auto_columns": null,
            "grid_auto_flow": null,
            "grid_auto_rows": null,
            "grid_column": null,
            "grid_gap": null,
            "grid_row": null,
            "grid_template_areas": null,
            "grid_template_columns": null,
            "grid_template_rows": null,
            "height": null,
            "justify_content": null,
            "justify_items": null,
            "left": null,
            "margin": null,
            "max_height": null,
            "max_width": null,
            "min_height": null,
            "min_width": null,
            "object_fit": null,
            "object_position": null,
            "order": null,
            "overflow": null,
            "overflow_x": null,
            "overflow_y": null,
            "padding": null,
            "right": null,
            "top": null,
            "visibility": null,
            "width": null
          }
        },
        "f237b3e4fe8c454ba4130d63cac6fa85": {
          "model_module": "@jupyter-widgets/controls",
          "model_name": "DescriptionStyleModel",
          "model_module_version": "1.5.0",
          "state": {
            "_model_module": "@jupyter-widgets/controls",
            "_model_module_version": "1.5.0",
            "_model_name": "DescriptionStyleModel",
            "_view_count": null,
            "_view_module": "@jupyter-widgets/base",
            "_view_module_version": "1.2.0",
            "_view_name": "StyleView",
            "description_width": ""
          }
        },
        "4051ccc63c8d44768ed2d5a692b59d4b": {
          "model_module": "@jupyter-widgets/base",
          "model_name": "LayoutModel",
          "model_module_version": "1.2.0",
          "state": {
            "_model_module": "@jupyter-widgets/base",
            "_model_module_version": "1.2.0",
            "_model_name": "LayoutModel",
            "_view_count": null,
            "_view_module": "@jupyter-widgets/base",
            "_view_module_version": "1.2.0",
            "_view_name": "LayoutView",
            "align_content": null,
            "align_items": null,
            "align_self": null,
            "border": null,
            "bottom": null,
            "display": null,
            "flex": null,
            "flex_flow": null,
            "grid_area": null,
            "grid_auto_columns": null,
            "grid_auto_flow": null,
            "grid_auto_rows": null,
            "grid_column": null,
            "grid_gap": null,
            "grid_row": null,
            "grid_template_areas": null,
            "grid_template_columns": null,
            "grid_template_rows": null,
            "height": null,
            "justify_content": null,
            "justify_items": null,
            "left": null,
            "margin": null,
            "max_height": null,
            "max_width": null,
            "min_height": null,
            "min_width": null,
            "object_fit": null,
            "object_position": null,
            "order": null,
            "overflow": null,
            "overflow_x": null,
            "overflow_y": null,
            "padding": null,
            "right": null,
            "top": null,
            "visibility": null,
            "width": null
          }
        },
        "f108302d59d042fca242706d26369af3": {
          "model_module": "@jupyter-widgets/controls",
          "model_name": "ProgressStyleModel",
          "model_module_version": "1.5.0",
          "state": {
            "_model_module": "@jupyter-widgets/controls",
            "_model_module_version": "1.5.0",
            "_model_name": "ProgressStyleModel",
            "_view_count": null,
            "_view_module": "@jupyter-widgets/base",
            "_view_module_version": "1.2.0",
            "_view_name": "StyleView",
            "bar_color": null,
            "description_width": ""
          }
        },
        "dd06f60fbff94657abdee1a6552d179f": {
          "model_module": "@jupyter-widgets/base",
          "model_name": "LayoutModel",
          "model_module_version": "1.2.0",
          "state": {
            "_model_module": "@jupyter-widgets/base",
            "_model_module_version": "1.2.0",
            "_model_name": "LayoutModel",
            "_view_count": null,
            "_view_module": "@jupyter-widgets/base",
            "_view_module_version": "1.2.0",
            "_view_name": "LayoutView",
            "align_content": null,
            "align_items": null,
            "align_self": null,
            "border": null,
            "bottom": null,
            "display": null,
            "flex": null,
            "flex_flow": null,
            "grid_area": null,
            "grid_auto_columns": null,
            "grid_auto_flow": null,
            "grid_auto_rows": null,
            "grid_column": null,
            "grid_gap": null,
            "grid_row": null,
            "grid_template_areas": null,
            "grid_template_columns": null,
            "grid_template_rows": null,
            "height": null,
            "justify_content": null,
            "justify_items": null,
            "left": null,
            "margin": null,
            "max_height": null,
            "max_width": null,
            "min_height": null,
            "min_width": null,
            "object_fit": null,
            "object_position": null,
            "order": null,
            "overflow": null,
            "overflow_x": null,
            "overflow_y": null,
            "padding": null,
            "right": null,
            "top": null,
            "visibility": null,
            "width": null
          }
        },
        "89d4887cbb47420aa9c2734dda65536b": {
          "model_module": "@jupyter-widgets/controls",
          "model_name": "DescriptionStyleModel",
          "model_module_version": "1.5.0",
          "state": {
            "_model_module": "@jupyter-widgets/controls",
            "_model_module_version": "1.5.0",
            "_model_name": "DescriptionStyleModel",
            "_view_count": null,
            "_view_module": "@jupyter-widgets/base",
            "_view_module_version": "1.2.0",
            "_view_name": "StyleView",
            "description_width": ""
          }
        },
        "5dcd923d7c5e45088323aaf21ac71989": {
          "model_module": "@jupyter-widgets/controls",
          "model_name": "HBoxModel",
          "model_module_version": "1.5.0",
          "state": {
            "_dom_classes": [],
            "_model_module": "@jupyter-widgets/controls",
            "_model_module_version": "1.5.0",
            "_model_name": "HBoxModel",
            "_view_count": null,
            "_view_module": "@jupyter-widgets/controls",
            "_view_module_version": "1.5.0",
            "_view_name": "HBoxView",
            "box_style": "",
            "children": [
              "IPY_MODEL_6403b4b2a0454217b02d522496719960",
              "IPY_MODEL_a03656eb62854ae0b1d00a357a8b4786",
              "IPY_MODEL_851e0339c8594ec1bda512e80a5a0acd"
            ],
            "layout": "IPY_MODEL_116be36f72334913bb83d7c56a40c7c1"
          }
        },
        "6403b4b2a0454217b02d522496719960": {
          "model_module": "@jupyter-widgets/controls",
          "model_name": "HTMLModel",
          "model_module_version": "1.5.0",
          "state": {
            "_dom_classes": [],
            "_model_module": "@jupyter-widgets/controls",
            "_model_module_version": "1.5.0",
            "_model_name": "HTMLModel",
            "_view_count": null,
            "_view_module": "@jupyter-widgets/controls",
            "_view_module_version": "1.5.0",
            "_view_name": "HTMLView",
            "description": "",
            "description_tooltip": null,
            "layout": "IPY_MODEL_0b7d7556f8c748cd9577f37421a3d9fa",
            "placeholder": "​",
            "style": "IPY_MODEL_a67063b39dd6413a8415a1cc3fa46356",
            "value": "Map: 100%"
          }
        },
        "a03656eb62854ae0b1d00a357a8b4786": {
          "model_module": "@jupyter-widgets/controls",
          "model_name": "FloatProgressModel",
          "model_module_version": "1.5.0",
          "state": {
            "_dom_classes": [],
            "_model_module": "@jupyter-widgets/controls",
            "_model_module_version": "1.5.0",
            "_model_name": "FloatProgressModel",
            "_view_count": null,
            "_view_module": "@jupyter-widgets/controls",
            "_view_module_version": "1.5.0",
            "_view_name": "ProgressView",
            "bar_style": "",
            "description": "",
            "description_tooltip": null,
            "layout": "IPY_MODEL_e567d3180e1a422483f0c481d2510b86",
            "max": 564,
            "min": 0,
            "orientation": "horizontal",
            "style": "IPY_MODEL_a81b0302315a4965ac5d0819ae883f3b",
            "value": 564
          }
        },
        "851e0339c8594ec1bda512e80a5a0acd": {
          "model_module": "@jupyter-widgets/controls",
          "model_name": "HTMLModel",
          "model_module_version": "1.5.0",
          "state": {
            "_dom_classes": [],
            "_model_module": "@jupyter-widgets/controls",
            "_model_module_version": "1.5.0",
            "_model_name": "HTMLModel",
            "_view_count": null,
            "_view_module": "@jupyter-widgets/controls",
            "_view_module_version": "1.5.0",
            "_view_name": "HTMLView",
            "description": "",
            "description_tooltip": null,
            "layout": "IPY_MODEL_ca6acb9f0d12477584001c586f9738f5",
            "placeholder": "​",
            "style": "IPY_MODEL_1bf42d21ca7e4f4082dfdff0db3b165e",
            "value": " 564/564 [00:00&lt;00:00, 1944.24 examples/s]"
          }
        },
        "116be36f72334913bb83d7c56a40c7c1": {
          "model_module": "@jupyter-widgets/base",
          "model_name": "LayoutModel",
          "model_module_version": "1.2.0",
          "state": {
            "_model_module": "@jupyter-widgets/base",
            "_model_module_version": "1.2.0",
            "_model_name": "LayoutModel",
            "_view_count": null,
            "_view_module": "@jupyter-widgets/base",
            "_view_module_version": "1.2.0",
            "_view_name": "LayoutView",
            "align_content": null,
            "align_items": null,
            "align_self": null,
            "border": null,
            "bottom": null,
            "display": null,
            "flex": null,
            "flex_flow": null,
            "grid_area": null,
            "grid_auto_columns": null,
            "grid_auto_flow": null,
            "grid_auto_rows": null,
            "grid_column": null,
            "grid_gap": null,
            "grid_row": null,
            "grid_template_areas": null,
            "grid_template_columns": null,
            "grid_template_rows": null,
            "height": null,
            "justify_content": null,
            "justify_items": null,
            "left": null,
            "margin": null,
            "max_height": null,
            "max_width": null,
            "min_height": null,
            "min_width": null,
            "object_fit": null,
            "object_position": null,
            "order": null,
            "overflow": null,
            "overflow_x": null,
            "overflow_y": null,
            "padding": null,
            "right": null,
            "top": null,
            "visibility": "hidden",
            "width": null
          }
        },
        "0b7d7556f8c748cd9577f37421a3d9fa": {
          "model_module": "@jupyter-widgets/base",
          "model_name": "LayoutModel",
          "model_module_version": "1.2.0",
          "state": {
            "_model_module": "@jupyter-widgets/base",
            "_model_module_version": "1.2.0",
            "_model_name": "LayoutModel",
            "_view_count": null,
            "_view_module": "@jupyter-widgets/base",
            "_view_module_version": "1.2.0",
            "_view_name": "LayoutView",
            "align_content": null,
            "align_items": null,
            "align_self": null,
            "border": null,
            "bottom": null,
            "display": null,
            "flex": null,
            "flex_flow": null,
            "grid_area": null,
            "grid_auto_columns": null,
            "grid_auto_flow": null,
            "grid_auto_rows": null,
            "grid_column": null,
            "grid_gap": null,
            "grid_row": null,
            "grid_template_areas": null,
            "grid_template_columns": null,
            "grid_template_rows": null,
            "height": null,
            "justify_content": null,
            "justify_items": null,
            "left": null,
            "margin": null,
            "max_height": null,
            "max_width": null,
            "min_height": null,
            "min_width": null,
            "object_fit": null,
            "object_position": null,
            "order": null,
            "overflow": null,
            "overflow_x": null,
            "overflow_y": null,
            "padding": null,
            "right": null,
            "top": null,
            "visibility": null,
            "width": null
          }
        },
        "a67063b39dd6413a8415a1cc3fa46356": {
          "model_module": "@jupyter-widgets/controls",
          "model_name": "DescriptionStyleModel",
          "model_module_version": "1.5.0",
          "state": {
            "_model_module": "@jupyter-widgets/controls",
            "_model_module_version": "1.5.0",
            "_model_name": "DescriptionStyleModel",
            "_view_count": null,
            "_view_module": "@jupyter-widgets/base",
            "_view_module_version": "1.2.0",
            "_view_name": "StyleView",
            "description_width": ""
          }
        },
        "e567d3180e1a422483f0c481d2510b86": {
          "model_module": "@jupyter-widgets/base",
          "model_name": "LayoutModel",
          "model_module_version": "1.2.0",
          "state": {
            "_model_module": "@jupyter-widgets/base",
            "_model_module_version": "1.2.0",
            "_model_name": "LayoutModel",
            "_view_count": null,
            "_view_module": "@jupyter-widgets/base",
            "_view_module_version": "1.2.0",
            "_view_name": "LayoutView",
            "align_content": null,
            "align_items": null,
            "align_self": null,
            "border": null,
            "bottom": null,
            "display": null,
            "flex": null,
            "flex_flow": null,
            "grid_area": null,
            "grid_auto_columns": null,
            "grid_auto_flow": null,
            "grid_auto_rows": null,
            "grid_column": null,
            "grid_gap": null,
            "grid_row": null,
            "grid_template_areas": null,
            "grid_template_columns": null,
            "grid_template_rows": null,
            "height": null,
            "justify_content": null,
            "justify_items": null,
            "left": null,
            "margin": null,
            "max_height": null,
            "max_width": null,
            "min_height": null,
            "min_width": null,
            "object_fit": null,
            "object_position": null,
            "order": null,
            "overflow": null,
            "overflow_x": null,
            "overflow_y": null,
            "padding": null,
            "right": null,
            "top": null,
            "visibility": null,
            "width": null
          }
        },
        "a81b0302315a4965ac5d0819ae883f3b": {
          "model_module": "@jupyter-widgets/controls",
          "model_name": "ProgressStyleModel",
          "model_module_version": "1.5.0",
          "state": {
            "_model_module": "@jupyter-widgets/controls",
            "_model_module_version": "1.5.0",
            "_model_name": "ProgressStyleModel",
            "_view_count": null,
            "_view_module": "@jupyter-widgets/base",
            "_view_module_version": "1.2.0",
            "_view_name": "StyleView",
            "bar_color": null,
            "description_width": ""
          }
        },
        "ca6acb9f0d12477584001c586f9738f5": {
          "model_module": "@jupyter-widgets/base",
          "model_name": "LayoutModel",
          "model_module_version": "1.2.0",
          "state": {
            "_model_module": "@jupyter-widgets/base",
            "_model_module_version": "1.2.0",
            "_model_name": "LayoutModel",
            "_view_count": null,
            "_view_module": "@jupyter-widgets/base",
            "_view_module_version": "1.2.0",
            "_view_name": "LayoutView",
            "align_content": null,
            "align_items": null,
            "align_self": null,
            "border": null,
            "bottom": null,
            "display": null,
            "flex": null,
            "flex_flow": null,
            "grid_area": null,
            "grid_auto_columns": null,
            "grid_auto_flow": null,
            "grid_auto_rows": null,
            "grid_column": null,
            "grid_gap": null,
            "grid_row": null,
            "grid_template_areas": null,
            "grid_template_columns": null,
            "grid_template_rows": null,
            "height": null,
            "justify_content": null,
            "justify_items": null,
            "left": null,
            "margin": null,
            "max_height": null,
            "max_width": null,
            "min_height": null,
            "min_width": null,
            "object_fit": null,
            "object_position": null,
            "order": null,
            "overflow": null,
            "overflow_x": null,
            "overflow_y": null,
            "padding": null,
            "right": null,
            "top": null,
            "visibility": null,
            "width": null
          }
        },
        "1bf42d21ca7e4f4082dfdff0db3b165e": {
          "model_module": "@jupyter-widgets/controls",
          "model_name": "DescriptionStyleModel",
          "model_module_version": "1.5.0",
          "state": {
            "_model_module": "@jupyter-widgets/controls",
            "_model_module_version": "1.5.0",
            "_model_name": "DescriptionStyleModel",
            "_view_count": null,
            "_view_module": "@jupyter-widgets/base",
            "_view_module_version": "1.2.0",
            "_view_name": "StyleView",
            "description_width": ""
          }
        },
        "4a9319c5f07b4482a4fc0bd3e74ced00": {
          "model_module": "@jupyter-widgets/controls",
          "model_name": "HBoxModel",
          "model_module_version": "1.5.0",
          "state": {
            "_dom_classes": [],
            "_model_module": "@jupyter-widgets/controls",
            "_model_module_version": "1.5.0",
            "_model_name": "HBoxModel",
            "_view_count": null,
            "_view_module": "@jupyter-widgets/controls",
            "_view_module_version": "1.5.0",
            "_view_name": "HBoxView",
            "box_style": "",
            "children": [
              "IPY_MODEL_f3ed2f4fa7734174b80d07abfadb4f7d",
              "IPY_MODEL_bc85664f9d9a4fb3a868de8951bea25c",
              "IPY_MODEL_e8184472795f47209b7add93db9dba07"
            ],
            "layout": "IPY_MODEL_23d955becd0d4b7b981d10a2d4da1497"
          }
        },
        "f3ed2f4fa7734174b80d07abfadb4f7d": {
          "model_module": "@jupyter-widgets/controls",
          "model_name": "HTMLModel",
          "model_module_version": "1.5.0",
          "state": {
            "_dom_classes": [],
            "_model_module": "@jupyter-widgets/controls",
            "_model_module_version": "1.5.0",
            "_model_name": "HTMLModel",
            "_view_count": null,
            "_view_module": "@jupyter-widgets/controls",
            "_view_module_version": "1.5.0",
            "_view_name": "HTMLView",
            "description": "",
            "description_tooltip": null,
            "layout": "IPY_MODEL_d1d4e91bf8c0417d811f6272932c0ffd",
            "placeholder": "​",
            "style": "IPY_MODEL_415b0df8bee04710a65d050ee1eb7905",
            "value": "Map: 100%"
          }
        },
        "bc85664f9d9a4fb3a868de8951bea25c": {
          "model_module": "@jupyter-widgets/controls",
          "model_name": "FloatProgressModel",
          "model_module_version": "1.5.0",
          "state": {
            "_dom_classes": [],
            "_model_module": "@jupyter-widgets/controls",
            "_model_module_version": "1.5.0",
            "_model_name": "FloatProgressModel",
            "_view_count": null,
            "_view_module": "@jupyter-widgets/controls",
            "_view_module_version": "1.5.0",
            "_view_name": "ProgressView",
            "bar_style": "",
            "description": "",
            "description_tooltip": null,
            "layout": "IPY_MODEL_1f7f550587ee485bb96d0cef8bec57a3",
            "max": 482,
            "min": 0,
            "orientation": "horizontal",
            "style": "IPY_MODEL_46591947d58a45ad9c13f6ef82fd66ff",
            "value": 482
          }
        },
        "e8184472795f47209b7add93db9dba07": {
          "model_module": "@jupyter-widgets/controls",
          "model_name": "HTMLModel",
          "model_module_version": "1.5.0",
          "state": {
            "_dom_classes": [],
            "_model_module": "@jupyter-widgets/controls",
            "_model_module_version": "1.5.0",
            "_model_name": "HTMLModel",
            "_view_count": null,
            "_view_module": "@jupyter-widgets/controls",
            "_view_module_version": "1.5.0",
            "_view_name": "HTMLView",
            "description": "",
            "description_tooltip": null,
            "layout": "IPY_MODEL_cdaaaa5d788f4c10b946c0f98e1f5ee4",
            "placeholder": "​",
            "style": "IPY_MODEL_b7c1468ec160408b89887dce05af89be",
            "value": " 482/482 [00:00&lt;00:00, 3127.76 examples/s]"
          }
        },
        "23d955becd0d4b7b981d10a2d4da1497": {
          "model_module": "@jupyter-widgets/base",
          "model_name": "LayoutModel",
          "model_module_version": "1.2.0",
          "state": {
            "_model_module": "@jupyter-widgets/base",
            "_model_module_version": "1.2.0",
            "_model_name": "LayoutModel",
            "_view_count": null,
            "_view_module": "@jupyter-widgets/base",
            "_view_module_version": "1.2.0",
            "_view_name": "LayoutView",
            "align_content": null,
            "align_items": null,
            "align_self": null,
            "border": null,
            "bottom": null,
            "display": null,
            "flex": null,
            "flex_flow": null,
            "grid_area": null,
            "grid_auto_columns": null,
            "grid_auto_flow": null,
            "grid_auto_rows": null,
            "grid_column": null,
            "grid_gap": null,
            "grid_row": null,
            "grid_template_areas": null,
            "grid_template_columns": null,
            "grid_template_rows": null,
            "height": null,
            "justify_content": null,
            "justify_items": null,
            "left": null,
            "margin": null,
            "max_height": null,
            "max_width": null,
            "min_height": null,
            "min_width": null,
            "object_fit": null,
            "object_position": null,
            "order": null,
            "overflow": null,
            "overflow_x": null,
            "overflow_y": null,
            "padding": null,
            "right": null,
            "top": null,
            "visibility": "hidden",
            "width": null
          }
        },
        "d1d4e91bf8c0417d811f6272932c0ffd": {
          "model_module": "@jupyter-widgets/base",
          "model_name": "LayoutModel",
          "model_module_version": "1.2.0",
          "state": {
            "_model_module": "@jupyter-widgets/base",
            "_model_module_version": "1.2.0",
            "_model_name": "LayoutModel",
            "_view_count": null,
            "_view_module": "@jupyter-widgets/base",
            "_view_module_version": "1.2.0",
            "_view_name": "LayoutView",
            "align_content": null,
            "align_items": null,
            "align_self": null,
            "border": null,
            "bottom": null,
            "display": null,
            "flex": null,
            "flex_flow": null,
            "grid_area": null,
            "grid_auto_columns": null,
            "grid_auto_flow": null,
            "grid_auto_rows": null,
            "grid_column": null,
            "grid_gap": null,
            "grid_row": null,
            "grid_template_areas": null,
            "grid_template_columns": null,
            "grid_template_rows": null,
            "height": null,
            "justify_content": null,
            "justify_items": null,
            "left": null,
            "margin": null,
            "max_height": null,
            "max_width": null,
            "min_height": null,
            "min_width": null,
            "object_fit": null,
            "object_position": null,
            "order": null,
            "overflow": null,
            "overflow_x": null,
            "overflow_y": null,
            "padding": null,
            "right": null,
            "top": null,
            "visibility": null,
            "width": null
          }
        },
        "415b0df8bee04710a65d050ee1eb7905": {
          "model_module": "@jupyter-widgets/controls",
          "model_name": "DescriptionStyleModel",
          "model_module_version": "1.5.0",
          "state": {
            "_model_module": "@jupyter-widgets/controls",
            "_model_module_version": "1.5.0",
            "_model_name": "DescriptionStyleModel",
            "_view_count": null,
            "_view_module": "@jupyter-widgets/base",
            "_view_module_version": "1.2.0",
            "_view_name": "StyleView",
            "description_width": ""
          }
        },
        "1f7f550587ee485bb96d0cef8bec57a3": {
          "model_module": "@jupyter-widgets/base",
          "model_name": "LayoutModel",
          "model_module_version": "1.2.0",
          "state": {
            "_model_module": "@jupyter-widgets/base",
            "_model_module_version": "1.2.0",
            "_model_name": "LayoutModel",
            "_view_count": null,
            "_view_module": "@jupyter-widgets/base",
            "_view_module_version": "1.2.0",
            "_view_name": "LayoutView",
            "align_content": null,
            "align_items": null,
            "align_self": null,
            "border": null,
            "bottom": null,
            "display": null,
            "flex": null,
            "flex_flow": null,
            "grid_area": null,
            "grid_auto_columns": null,
            "grid_auto_flow": null,
            "grid_auto_rows": null,
            "grid_column": null,
            "grid_gap": null,
            "grid_row": null,
            "grid_template_areas": null,
            "grid_template_columns": null,
            "grid_template_rows": null,
            "height": null,
            "justify_content": null,
            "justify_items": null,
            "left": null,
            "margin": null,
            "max_height": null,
            "max_width": null,
            "min_height": null,
            "min_width": null,
            "object_fit": null,
            "object_position": null,
            "order": null,
            "overflow": null,
            "overflow_x": null,
            "overflow_y": null,
            "padding": null,
            "right": null,
            "top": null,
            "visibility": null,
            "width": null
          }
        },
        "46591947d58a45ad9c13f6ef82fd66ff": {
          "model_module": "@jupyter-widgets/controls",
          "model_name": "ProgressStyleModel",
          "model_module_version": "1.5.0",
          "state": {
            "_model_module": "@jupyter-widgets/controls",
            "_model_module_version": "1.5.0",
            "_model_name": "ProgressStyleModel",
            "_view_count": null,
            "_view_module": "@jupyter-widgets/base",
            "_view_module_version": "1.2.0",
            "_view_name": "StyleView",
            "bar_color": null,
            "description_width": ""
          }
        },
        "cdaaaa5d788f4c10b946c0f98e1f5ee4": {
          "model_module": "@jupyter-widgets/base",
          "model_name": "LayoutModel",
          "model_module_version": "1.2.0",
          "state": {
            "_model_module": "@jupyter-widgets/base",
            "_model_module_version": "1.2.0",
            "_model_name": "LayoutModel",
            "_view_count": null,
            "_view_module": "@jupyter-widgets/base",
            "_view_module_version": "1.2.0",
            "_view_name": "LayoutView",
            "align_content": null,
            "align_items": null,
            "align_self": null,
            "border": null,
            "bottom": null,
            "display": null,
            "flex": null,
            "flex_flow": null,
            "grid_area": null,
            "grid_auto_columns": null,
            "grid_auto_flow": null,
            "grid_auto_rows": null,
            "grid_column": null,
            "grid_gap": null,
            "grid_row": null,
            "grid_template_areas": null,
            "grid_template_columns": null,
            "grid_template_rows": null,
            "height": null,
            "justify_content": null,
            "justify_items": null,
            "left": null,
            "margin": null,
            "max_height": null,
            "max_width": null,
            "min_height": null,
            "min_width": null,
            "object_fit": null,
            "object_position": null,
            "order": null,
            "overflow": null,
            "overflow_x": null,
            "overflow_y": null,
            "padding": null,
            "right": null,
            "top": null,
            "visibility": null,
            "width": null
          }
        },
        "b7c1468ec160408b89887dce05af89be": {
          "model_module": "@jupyter-widgets/controls",
          "model_name": "DescriptionStyleModel",
          "model_module_version": "1.5.0",
          "state": {
            "_model_module": "@jupyter-widgets/controls",
            "_model_module_version": "1.5.0",
            "_model_name": "DescriptionStyleModel",
            "_view_count": null,
            "_view_module": "@jupyter-widgets/base",
            "_view_module_version": "1.2.0",
            "_view_name": "StyleView",
            "description_width": ""
          }
        },
        "36e6f92c267e4f2cacaa6097b776665b": {
          "model_module": "@jupyter-widgets/controls",
          "model_name": "HBoxModel",
          "model_module_version": "1.5.0",
          "state": {
            "_dom_classes": [],
            "_model_module": "@jupyter-widgets/controls",
            "_model_module_version": "1.5.0",
            "_model_name": "HBoxModel",
            "_view_count": null,
            "_view_module": "@jupyter-widgets/controls",
            "_view_module_version": "1.5.0",
            "_view_name": "HBoxView",
            "box_style": "",
            "children": [
              "IPY_MODEL_ede82fc0589e4c68a54d93029c48a702",
              "IPY_MODEL_c28183e40da0434aa9ce0ff37f6785df",
              "IPY_MODEL_bc74b5d61d844d4496af55ca5dae3e20"
            ],
            "layout": "IPY_MODEL_bf8955d972ff4af9a317014167ac70de"
          }
        },
        "ede82fc0589e4c68a54d93029c48a702": {
          "model_module": "@jupyter-widgets/controls",
          "model_name": "HTMLModel",
          "model_module_version": "1.5.0",
          "state": {
            "_dom_classes": [],
            "_model_module": "@jupyter-widgets/controls",
            "_model_module_version": "1.5.0",
            "_model_name": "HTMLModel",
            "_view_count": null,
            "_view_module": "@jupyter-widgets/controls",
            "_view_module_version": "1.5.0",
            "_view_name": "HTMLView",
            "description": "",
            "description_tooltip": null,
            "layout": "IPY_MODEL_9ba04967748249b3bac5023e8c5aa9b3",
            "placeholder": "​",
            "style": "IPY_MODEL_1e0b48b183354a8f93798a542ba0db4e",
            "value": "Map:  93%"
          }
        },
        "c28183e40da0434aa9ce0ff37f6785df": {
          "model_module": "@jupyter-widgets/controls",
          "model_name": "FloatProgressModel",
          "model_module_version": "1.5.0",
          "state": {
            "_dom_classes": [],
            "_model_module": "@jupyter-widgets/controls",
            "_model_module_version": "1.5.0",
            "_model_name": "FloatProgressModel",
            "_view_count": null,
            "_view_module": "@jupyter-widgets/controls",
            "_view_module_version": "1.5.0",
            "_view_name": "ProgressView",
            "bar_style": "",
            "description": "",
            "description_tooltip": null,
            "layout": "IPY_MODEL_87a5ad7efc544b698d59322e4b803067",
            "max": 564,
            "min": 0,
            "orientation": "horizontal",
            "style": "IPY_MODEL_95edfdf94ade4a888189fa7c2409b2ca",
            "value": 564
          }
        },
        "bc74b5d61d844d4496af55ca5dae3e20": {
          "model_module": "@jupyter-widgets/controls",
          "model_name": "HTMLModel",
          "model_module_version": "1.5.0",
          "state": {
            "_dom_classes": [],
            "_model_module": "@jupyter-widgets/controls",
            "_model_module_version": "1.5.0",
            "_model_name": "HTMLModel",
            "_view_count": null,
            "_view_module": "@jupyter-widgets/controls",
            "_view_module_version": "1.5.0",
            "_view_name": "HTMLView",
            "description": "",
            "description_tooltip": null,
            "layout": "IPY_MODEL_2038e1eb084b43fc8d5d4069b9472b57",
            "placeholder": "​",
            "style": "IPY_MODEL_8fb139e5fcdc49adbff90e3ae267ba84",
            "value": " 527/564 [00:00&lt;00:00, 796.17 examples/s]"
          }
        },
        "bf8955d972ff4af9a317014167ac70de": {
          "model_module": "@jupyter-widgets/base",
          "model_name": "LayoutModel",
          "model_module_version": "1.2.0",
          "state": {
            "_model_module": "@jupyter-widgets/base",
            "_model_module_version": "1.2.0",
            "_model_name": "LayoutModel",
            "_view_count": null,
            "_view_module": "@jupyter-widgets/base",
            "_view_module_version": "1.2.0",
            "_view_name": "LayoutView",
            "align_content": null,
            "align_items": null,
            "align_self": null,
            "border": null,
            "bottom": null,
            "display": null,
            "flex": null,
            "flex_flow": null,
            "grid_area": null,
            "grid_auto_columns": null,
            "grid_auto_flow": null,
            "grid_auto_rows": null,
            "grid_column": null,
            "grid_gap": null,
            "grid_row": null,
            "grid_template_areas": null,
            "grid_template_columns": null,
            "grid_template_rows": null,
            "height": null,
            "justify_content": null,
            "justify_items": null,
            "left": null,
            "margin": null,
            "max_height": null,
            "max_width": null,
            "min_height": null,
            "min_width": null,
            "object_fit": null,
            "object_position": null,
            "order": null,
            "overflow": null,
            "overflow_x": null,
            "overflow_y": null,
            "padding": null,
            "right": null,
            "top": null,
            "visibility": "hidden",
            "width": null
          }
        },
        "9ba04967748249b3bac5023e8c5aa9b3": {
          "model_module": "@jupyter-widgets/base",
          "model_name": "LayoutModel",
          "model_module_version": "1.2.0",
          "state": {
            "_model_module": "@jupyter-widgets/base",
            "_model_module_version": "1.2.0",
            "_model_name": "LayoutModel",
            "_view_count": null,
            "_view_module": "@jupyter-widgets/base",
            "_view_module_version": "1.2.0",
            "_view_name": "LayoutView",
            "align_content": null,
            "align_items": null,
            "align_self": null,
            "border": null,
            "bottom": null,
            "display": null,
            "flex": null,
            "flex_flow": null,
            "grid_area": null,
            "grid_auto_columns": null,
            "grid_auto_flow": null,
            "grid_auto_rows": null,
            "grid_column": null,
            "grid_gap": null,
            "grid_row": null,
            "grid_template_areas": null,
            "grid_template_columns": null,
            "grid_template_rows": null,
            "height": null,
            "justify_content": null,
            "justify_items": null,
            "left": null,
            "margin": null,
            "max_height": null,
            "max_width": null,
            "min_height": null,
            "min_width": null,
            "object_fit": null,
            "object_position": null,
            "order": null,
            "overflow": null,
            "overflow_x": null,
            "overflow_y": null,
            "padding": null,
            "right": null,
            "top": null,
            "visibility": null,
            "width": null
          }
        },
        "1e0b48b183354a8f93798a542ba0db4e": {
          "model_module": "@jupyter-widgets/controls",
          "model_name": "DescriptionStyleModel",
          "model_module_version": "1.5.0",
          "state": {
            "_model_module": "@jupyter-widgets/controls",
            "_model_module_version": "1.5.0",
            "_model_name": "DescriptionStyleModel",
            "_view_count": null,
            "_view_module": "@jupyter-widgets/base",
            "_view_module_version": "1.2.0",
            "_view_name": "StyleView",
            "description_width": ""
          }
        },
        "87a5ad7efc544b698d59322e4b803067": {
          "model_module": "@jupyter-widgets/base",
          "model_name": "LayoutModel",
          "model_module_version": "1.2.0",
          "state": {
            "_model_module": "@jupyter-widgets/base",
            "_model_module_version": "1.2.0",
            "_model_name": "LayoutModel",
            "_view_count": null,
            "_view_module": "@jupyter-widgets/base",
            "_view_module_version": "1.2.0",
            "_view_name": "LayoutView",
            "align_content": null,
            "align_items": null,
            "align_self": null,
            "border": null,
            "bottom": null,
            "display": null,
            "flex": null,
            "flex_flow": null,
            "grid_area": null,
            "grid_auto_columns": null,
            "grid_auto_flow": null,
            "grid_auto_rows": null,
            "grid_column": null,
            "grid_gap": null,
            "grid_row": null,
            "grid_template_areas": null,
            "grid_template_columns": null,
            "grid_template_rows": null,
            "height": null,
            "justify_content": null,
            "justify_items": null,
            "left": null,
            "margin": null,
            "max_height": null,
            "max_width": null,
            "min_height": null,
            "min_width": null,
            "object_fit": null,
            "object_position": null,
            "order": null,
            "overflow": null,
            "overflow_x": null,
            "overflow_y": null,
            "padding": null,
            "right": null,
            "top": null,
            "visibility": null,
            "width": null
          }
        },
        "95edfdf94ade4a888189fa7c2409b2ca": {
          "model_module": "@jupyter-widgets/controls",
          "model_name": "ProgressStyleModel",
          "model_module_version": "1.5.0",
          "state": {
            "_model_module": "@jupyter-widgets/controls",
            "_model_module_version": "1.5.0",
            "_model_name": "ProgressStyleModel",
            "_view_count": null,
            "_view_module": "@jupyter-widgets/base",
            "_view_module_version": "1.2.0",
            "_view_name": "StyleView",
            "bar_color": null,
            "description_width": ""
          }
        },
        "2038e1eb084b43fc8d5d4069b9472b57": {
          "model_module": "@jupyter-widgets/base",
          "model_name": "LayoutModel",
          "model_module_version": "1.2.0",
          "state": {
            "_model_module": "@jupyter-widgets/base",
            "_model_module_version": "1.2.0",
            "_model_name": "LayoutModel",
            "_view_count": null,
            "_view_module": "@jupyter-widgets/base",
            "_view_module_version": "1.2.0",
            "_view_name": "LayoutView",
            "align_content": null,
            "align_items": null,
            "align_self": null,
            "border": null,
            "bottom": null,
            "display": null,
            "flex": null,
            "flex_flow": null,
            "grid_area": null,
            "grid_auto_columns": null,
            "grid_auto_flow": null,
            "grid_auto_rows": null,
            "grid_column": null,
            "grid_gap": null,
            "grid_row": null,
            "grid_template_areas": null,
            "grid_template_columns": null,
            "grid_template_rows": null,
            "height": null,
            "justify_content": null,
            "justify_items": null,
            "left": null,
            "margin": null,
            "max_height": null,
            "max_width": null,
            "min_height": null,
            "min_width": null,
            "object_fit": null,
            "object_position": null,
            "order": null,
            "overflow": null,
            "overflow_x": null,
            "overflow_y": null,
            "padding": null,
            "right": null,
            "top": null,
            "visibility": null,
            "width": null
          }
        },
        "8fb139e5fcdc49adbff90e3ae267ba84": {
          "model_module": "@jupyter-widgets/controls",
          "model_name": "DescriptionStyleModel",
          "model_module_version": "1.5.0",
          "state": {
            "_model_module": "@jupyter-widgets/controls",
            "_model_module_version": "1.5.0",
            "_model_name": "DescriptionStyleModel",
            "_view_count": null,
            "_view_module": "@jupyter-widgets/base",
            "_view_module_version": "1.2.0",
            "_view_name": "StyleView",
            "description_width": ""
          }
        }
      }
    }
  },
  "nbformat": 4,
  "nbformat_minor": 0
}