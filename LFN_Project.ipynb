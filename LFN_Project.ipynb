{
  "cells": [
    {
      "cell_type": "markdown",
      "metadata": {
        "id": "view-in-github",
        "colab_type": "text"
      },
      "source": [
        "<a href=\"https://colab.research.google.com/github/FrancescoMonaco/ArcEager/blob/main/LFN_Project.ipynb\" target=\"_parent\"><img src=\"https://colab.research.google.com/assets/colab-badge.svg\" alt=\"Open In Colab\"/></a>"
      ]
    },
    {
      "cell_type": "markdown",
      "metadata": {
        "id": "OYGZwaqH7ay5"
      },
      "source": [
        "# Installations, Imports, Data Retrieval\n",
        "nx : networkx\\\n",
        "go: plotly\n"
      ]
    },
    {
      "cell_type": "code",
      "execution_count": 1,
      "metadata": {
        "cellView": "form",
        "id": "ghgod2aNo1Cs"
      },
      "outputs": [],
      "source": [
        "#@title Libraries install and imports\n",
        "%%capture\n",
        "! python -m pip install snap-stanford\n",
        "!pip install nilearn\n",
        "!pip install plotly\n",
        "!pip install python-louvain\n",
        "\n",
        "\n",
        "import warnings\n",
        "warnings.simplefilter(action='ignore', category=FutureWarning)\n",
        "#*** Libraries to manipulate fMRI data\n",
        "from nilearn import datasets, plotting\n",
        "from nilearn.maskers import NiftiMapsMasker, NiftiSpheresMasker\n",
        "from nilearn.input_data import NiftiLabelsMasker\n",
        "#*** Libraries for graphs\n",
        "import networkx as nx\n",
        "#import snap\n",
        "#from graph_tool.all import *\n",
        "#*** Basic imports\n",
        "import numpy as np\n",
        "import matplotlib.pyplot as plt\n",
        "import seaborn as sns\n",
        "import plotly.graph_objects as go\n",
        "import pandas as pd\n",
        "import gc, os\n",
        "from tqdm import tqdm\n",
        "import scipy.stats as stats\n",
        "import pickle\n",
        "#*** Scaler for the data\n",
        "from sklearn.preprocessing import StandardScaler\n",
        "#*** Multiprocessing tools\n",
        "import multiprocessing\n",
        "from multiprocessing import Pool\n",
        "\n",
        "# Install the python-louvain package\n",
        "from community import community_louvain\n",
        "import networkx as nx\n",
        "import matplotlib.cm as cm"
      ]
    },
    {
      "cell_type": "code",
      "execution_count": 2,
      "metadata": {
        "cellView": "form",
        "colab": {
          "base_uri": "https://localhost:8080/"
        },
        "id": "tqGAZcRfFCZ9",
        "outputId": "f39d3311-394b-4cb1-fb4f-63080cbe394d"
      },
      "outputs": [
        {
          "output_type": "stream",
          "name": "stdout",
          "text": [
            "--2023-12-20 13:34:31--  http://raw.githubusercontent.com/FrancescoMonaco/LFN_Project/main/graph_metrics.py\n",
            "Resolving raw.githubusercontent.com (raw.githubusercontent.com)... 185.199.108.133, 185.199.109.133, 185.199.110.133, ...\n",
            "Connecting to raw.githubusercontent.com (raw.githubusercontent.com)|185.199.108.133|:80... connected.\n",
            "HTTP request sent, awaiting response... 301 Moved Permanently\n",
            "Location: https://raw.githubusercontent.com/FrancescoMonaco/LFN_Project/main/graph_metrics.py [following]\n",
            "--2023-12-20 13:34:31--  https://raw.githubusercontent.com/FrancescoMonaco/LFN_Project/main/graph_metrics.py\n",
            "Connecting to raw.githubusercontent.com (raw.githubusercontent.com)|185.199.108.133|:443... connected.\n",
            "HTTP request sent, awaiting response... 200 OK\n",
            "Length: 6134 (6.0K) [text/plain]\n",
            "Saving to: ‘graph_metrics.py’\n",
            "\n",
            "\rgraph_metrics.py      0%[                    ]       0  --.-KB/s               \rgraph_metrics.py    100%[===================>]   5.99K  --.-KB/s    in 0s      \n",
            "\n",
            "2023-12-20 13:34:32 (48.9 MB/s) - ‘graph_metrics.py’ saved [6134/6134]\n",
            "\n",
            "URL transformed to HTTPS due to an HSTS policy\n",
            "--2023-12-20 13:34:32--  https://raw.githubusercontent.com/FrancescoMonaco/LFN_Project/main/findpartitionofbrain.py\n",
            "Resolving raw.githubusercontent.com (raw.githubusercontent.com)... 185.199.108.133, 185.199.109.133, 185.199.110.133, ...\n",
            "Connecting to raw.githubusercontent.com (raw.githubusercontent.com)|185.199.108.133|:443... connected.\n",
            "HTTP request sent, awaiting response... 200 OK\n",
            "Length: 3366 (3.3K) [text/plain]\n",
            "Saving to: ‘findpartitionofbrain.py’\n",
            "\n",
            "findpartitionofbrai 100%[===================>]   3.29K  --.-KB/s    in 0s      \n",
            "\n",
            "2023-12-20 13:34:32 (41.1 MB/s) - ‘findpartitionofbrain.py’ saved [3366/3366]\n",
            "\n",
            "URL transformed to HTTPS due to an HSTS policy\n",
            "--2023-12-20 13:34:32--  https://raw.githubusercontent.com/FrancescoMonaco/LFN_Project/main/mri_to_graph.py\n",
            "Resolving raw.githubusercontent.com (raw.githubusercontent.com)... 185.199.108.133, 185.199.109.133, 185.199.110.133, ...\n",
            "Connecting to raw.githubusercontent.com (raw.githubusercontent.com)|185.199.108.133|:443... connected.\n",
            "HTTP request sent, awaiting response... 200 OK\n",
            "Length: 3345 (3.3K) [text/plain]\n",
            "Saving to: ‘mri_to_graph.py’\n",
            "\n",
            "mri_to_graph.py     100%[===================>]   3.27K  --.-KB/s    in 0s      \n",
            "\n",
            "2023-12-20 13:34:32 (38.5 MB/s) - ‘mri_to_graph.py’ saved [3345/3345]\n",
            "\n",
            "URL transformed to HTTPS due to an HSTS policy\n",
            "--2023-12-20 13:34:32--  https://raw.githubusercontent.com/FrancescoMonaco/LFN_Project/main/graph_plotter.py\n",
            "Resolving raw.githubusercontent.com (raw.githubusercontent.com)... 185.199.108.133, 185.199.109.133, 185.199.110.133, ...\n",
            "Connecting to raw.githubusercontent.com (raw.githubusercontent.com)|185.199.108.133|:443... connected.\n",
            "HTTP request sent, awaiting response... 200 OK\n",
            "Length: 2101 (2.1K) [text/plain]\n",
            "Saving to: ‘graph_plotter.py’\n",
            "\n",
            "graph_plotter.py    100%[===================>]   2.05K  --.-KB/s    in 0s      \n",
            "\n",
            "2023-12-20 13:34:32 (27.1 MB/s) - ‘graph_plotter.py’ saved [2101/2101]\n",
            "\n"
          ]
        }
      ],
      "source": [
        "#@title Imports from external py files\n",
        "import requests\n",
        "base_url = \"raw.githubusercontent.com/FrancescoMonaco/LFN_Project/main\"\n",
        "files_to_download = [\"graph_metrics.py\", \"findpartitionofbrain.py\", \"mri_to_graph.py\", \"graph_plotter.py\"]\n",
        "for file_name in files_to_download:\n",
        "      file_url = f\"{base_url}/{file_name}\"\n",
        "      !wget {file_url}\n",
        "from graph_metrics import *\n",
        "from mri_to_graph import *\n",
        "from findpartitionofbrain import *\n",
        "from graph_plotter import *"
      ]
    },
    {
      "cell_type": "code",
      "execution_count": 3,
      "metadata": {
        "cellView": "form",
        "id": "G78iEb6snQcX"
      },
      "outputs": [],
      "source": [
        "#@title Download precomputed data or original (original needs about 10 minutes of processing)\n",
        "%%capture\n",
        "prec = True # @param {type:\"boolean\"}\n",
        "if prec:\n",
        "  import requests\n",
        "  import pickle\n",
        "  base_url = \"raw.githubusercontent.com/FrancescoMonaco/LFN_Project/main\"\n",
        "  files_to_download = [\"Dataframes/adhd_data.pkl\", \"Dataframes/control_data.pkl\", \"Dataframes/bp_data.pkl\", \"Dataframes/schz_data.pkl\"]\n",
        "\n",
        "# Download each file\n",
        "  for file_name in files_to_download:\n",
        "      file_url = f\"{base_url}/{file_name}\"\n",
        "      !wget {file_url}\n",
        "  # Load dataframes with graphs using Pickle\n",
        "  with open('/content/control_data.pkl', 'rb') as file:\n",
        "      control_data = pickle.load(file)\n",
        "\n",
        "  with open('/content/schz_data.pkl', 'rb') as file:\n",
        "      schz_data = pickle.load(file)\n",
        "\n",
        "  with open('/content/bp_data.pkl', 'rb') as file:\n",
        "      bp_data = pickle.load(file)\n",
        "\n",
        "  with open('/content/adhd_data.pkl', 'rb') as file:\n",
        "      adhd_data = pickle.load(file)\n",
        "else:\n",
        "  # Load the brain atlas\n",
        "  atlas = datasets.fetch_atlas_msdl()\n",
        "  # Load the atlas image stored in 'maps'\n",
        "  atlas_filename = atlas[\"maps\"]\n",
        "  # Load atlas data stored in 'labels'\n",
        "  labels = atlas[\"labels\"]\n",
        "\n",
        "  # Load the dataset\n",
        "  _, urls = datasets.fetch_ds000030_urls()\n",
        "\n",
        "  selected_subjects = [\n",
        "      'sub-10159', 'sub-10171', 'sub-10189', 'sub-10206', 'sub-10217',\n",
        "      'sub-10292', 'sub-10524', 'sub-10316', 'sub-10940', 'sub-11156',\n",
        "      'sub-50004', 'sub-50005', 'sub-50006', 'sub-50007', 'sub-50008',\n",
        "      'sub-50010', 'sub-50013', 'sub-50014', 'sub-50015', 'sub-50016',\n",
        "      'sub-60001', 'sub-60005', 'sub-60006', 'sub-60008', 'sub-60010',\n",
        "      'sub-60011', 'sub-60012', 'sub-60014', 'sub-60015', 'sub-60016',\n",
        "      'sub-70017', 'sub-70020', 'sub-70021', 'sub-70022', 'sub-70026',\n",
        "      'sub-70029', 'sub-70033', 'sub-70034', 'sub-70083', 'sub-70086'\n",
        "  ]\n",
        "\n",
        "  filtered_urls = [url for url in urls if any(subject in url for subject in selected_subjects)]\n",
        "\n",
        "  # Define exclusion patterns to exclude unwanted data\n",
        "  exclusion_patterns = [\n",
        "      \"*/freesurfer/*\"\n",
        "      \"*derivatives/task*\",\n",
        "      \"*task_group*\",\n",
        "      \"*/anat/*\",\n",
        "      \"*group*\",\n",
        "      \"*phenotype*\",\n",
        "      \"*mriqc*\",\n",
        "      \"*parameter_plots*\",\n",
        "      \"*physio_plots*\",\n",
        "      \"*space-fsaverage*\",\n",
        "      \"*space-T1w*\",\n",
        "      \"*dwi*\",\n",
        "      \"*beh*\",\n",
        "      \"*task-bart*\",\n",
        "      \"*task-pamenc*\",\n",
        "      \"*task-pamret*\",\n",
        "      \"*task-scap*\",\n",
        "      \"*task-task*\",\n",
        "      \"*task-stopsignal*\",\n",
        "      \"*task-bht*\"\n",
        "  ]\n",
        "\n",
        "  # Apply the filters to select subjects and exclude unwanted data\n",
        "  urls = datasets.select_from_index(\n",
        "      filtered_urls, exclusion_filters=exclusion_patterns\n",
        "  )\n",
        "\n",
        "  try:\n",
        "      # Fetch the selected subjects' data\n",
        "      data_dir, _ = datasets.fetch_openneuro_dataset(urls=urls)\n",
        "  except Exception as e:\n",
        "      print(f\"Finished, except: {e}\")"
      ]
    },
    {
      "cell_type": "code",
      "execution_count": 4,
      "metadata": {
        "cellView": "form",
        "id": "SV8_RWMwk7ed"
      },
      "outputs": [],
      "source": [
        "#@title Variables for data retrieval and manipulation\n",
        "if not prec:\n",
        "  base_path = \"/root/nilearn_data/ds000030/ds000030_R1.0.4/uncompressed/derivatives/fmriprep/\"\n",
        "\n",
        "  # Dataframes\n",
        "  cols = ['data', 'confounds', 'graph', 'nodes', 'edges']\n",
        "  control_data = pd.DataFrame(columns=cols)\n",
        "  schz_data = pd.DataFrame(columns=cols)\n",
        "  bp_data = pd.DataFrame(columns=cols)\n",
        "  adhd_data = pd.DataFrame(columns=cols)\n",
        "\n",
        "  # Visit each subject's folder\n",
        "  for subject_folder in os.scandir(base_path):\n",
        "      if subject_folder.is_dir():\n",
        "          condition = subject_folder.name[4]  # Extract the condition from the subject id\n",
        "\n",
        "          # Variables\n",
        "          data_path = None\n",
        "          confounds_data = None\n",
        "\n",
        "          # Retrieve the data\n",
        "\n",
        "          func_path = os.path.join(subject_folder.path, \"func\")\n",
        "          for func_file in os.scandir(func_path):\n",
        "            # Find the confounds variables file\n",
        "                if func_file.name.endswith(\".tsv\"):\n",
        "                      confounds_data = pd.read_csv(func_file.path, sep='\\t')\n",
        "            # Find the resting state fmri\n",
        "                if func_file.name.endswith(\"preproc.nii.gz\"):\n",
        "                      data_path = func_file.path\n",
        "\n",
        "          # Add data to the respective dataframe\n",
        "          if condition == \"1\":\n",
        "              control_data.loc[len(control_data)] = [data_path, confounds_data, None, None, None]\n",
        "          elif condition == \"5\":\n",
        "              schz_data.loc[len(schz_data)] = [data_path, confounds_data, None, None, None]\n",
        "          elif condition == \"6\":\n",
        "              bp_data.loc[len(bp_data)] = [data_path, confounds_data, None, None, None]\n",
        "          elif condition == \"7\":\n",
        "              adhd_data.loc[len(adhd_data)] = [data_path, confounds_data, None, None, None]"
      ]
    },
    {
      "cell_type": "markdown",
      "metadata": {
        "id": "idUdlfP47lhK"
      },
      "source": [
        "# MRI to Graph"
      ]
    },
    {
      "cell_type": "code",
      "execution_count": null,
      "metadata": {
        "cellView": "form",
        "colab": {
          "base_uri": "https://localhost:8080/"
        },
        "id": "Gv8Pe7sU1qW4",
        "outputId": "be05b4f5-c852-4295-c7d6-75aee52f94db"
      },
      "outputs": [
        {
          "name": "stdout",
          "output_type": "stream",
          "text": [
            "\n",
            "Dataset created in /root/nilearn_data/schaefer_2018\n",
            "\n",
            "Downloading data from https://raw.githubusercontent.com/ThomasYeoLab/CBIG/v0.14.3-Update_Yeo2011_Schaefer2018_labelname/stable_projects/brain_parcellation/Schaefer2018_LocalGlobal/Parcellations/MNI/Schaefer2018_1000Parcels_7Networks_order.txt ...\n"
          ]
        },
        {
          "name": "stderr",
          "output_type": "stream",
          "text": [
            " ...done. (0 seconds, 0 min)\n"
          ]
        },
        {
          "name": "stdout",
          "output_type": "stream",
          "text": [
            "Downloading data from https://raw.githubusercontent.com/ThomasYeoLab/CBIG/v0.14.3-Update_Yeo2011_Schaefer2018_labelname/stable_projects/brain_parcellation/Schaefer2018_LocalGlobal/Parcellations/MNI/Schaefer2018_1000Parcels_7Networks_order_FSLMNI152_1mm.nii.gz ...\n"
          ]
        },
        {
          "name": "stderr",
          "output_type": "stream",
          "text": [
            " ...done. (0 seconds, 0 min)\n"
          ]
        }
      ],
      "source": [
        "#@title Load brain atlas\n",
        "import nibabel as nib\n",
        "schaefer_1000 = datasets.fetch_atlas_schaefer_2018(n_rois=1000, yeo_networks=7, resolution_mm=1, verbose=1)\n",
        "\n",
        "# Load the atlas data\n",
        "atlas_img = nib.load(schaefer_1000.maps)\n",
        "\n",
        "# ROIs coordinates\n",
        "coords = np.vstack(np.where(atlas_img.get_fdata() > 0)).T"
      ]
    },
    {
      "cell_type": "code",
      "execution_count": null,
      "metadata": {
        "cellView": "form",
        "colab": {
          "base_uri": "https://localhost:8080/"
        },
        "id": "eYS8Klez4v2i",
        "outputId": "686f1b26-fd10-4c43-ad2b-bd09b8bbc7cf"
      },
      "outputs": [
        {
          "name": "stderr",
          "output_type": "stream",
          "text": [
            "100%|██████████| 10/10 [02:20<00:00, 14.04s/it]\n",
            "100%|██████████| 10/10 [02:22<00:00, 14.27s/it]\n",
            "100%|██████████| 10/10 [02:17<00:00, 13.74s/it]\n",
            "100%|██████████| 10/10 [02:16<00:00, 13.63s/it]\n"
          ]
        }
      ],
      "source": [
        "#@title Transform loop\n",
        "dataframes = [control_data, schz_data, bp_data, adhd_data]\n",
        "\n",
        "# Create processors for the data\n",
        "if not prec:\n",
        "    # Timeseries extractor\n",
        "  spheres_masker = NiftiLabelsMasker(\n",
        "      labels_img=schaefer_1000.maps,\n",
        "      smoothing_fwhm=1,\n",
        "      detrend=True,\n",
        "      standardize=\"zscore_sample\",\n",
        "      t_r=None\n",
        "  )\n",
        "\n",
        "  threshold = 0.85 # @param {type:\"slider\", min:0, max:1, step:0.01}\n",
        "\n",
        "  # Wrapper for the dataframes\n",
        "  dataframes = [control_data, schz_data, bp_data, adhd_data]\n",
        "  conditions = [\"Control\", \"Schizophrenia\", \"Bipolar\", \"ADHD\"]\n",
        "  num_processes = multiprocessing.cpu_count()  # Number of available CPU cores\n",
        "\n",
        "  # Execution\n",
        "  with Pool(processes=num_processes) as pool:\n",
        "      processed_data = pool.starmap(\n",
        "          process_dataframe,\n",
        "          [(dataframe, condition, spheres_masker, threshold) for dataframe, condition in zip(dataframes, conditions)]\n",
        "      )\n",
        "  for df, results in zip(dataframes, processed_data):\n",
        "      for result in results:\n",
        "          row_name, G, num_nodes, num_edges, corr_matr = result\n",
        "          df.at[row_name, 'graph'] = G\n",
        "          df.at[row_name, 'nodes'] = num_nodes\n",
        "          df.at[row_name, 'edges'] = num_edges\n",
        "          df.at[row_name, 'matrix'] =  tuple(corr_matr)"
      ]
    },
    {
      "cell_type": "code",
      "execution_count": null,
      "metadata": {
        "cellView": "form",
        "colab": {
          "base_uri": "https://localhost:8080/"
        },
        "id": "rvQIQz9f-7pC",
        "outputId": "5358b724-1d83-4c1f-d180-1ce32b8d3038"
      },
      "outputs": [
        {
          "name": "stdout",
          "output_type": "stream",
          "text": [
            "Mean Nodes: 757.825\n",
            "Mean Edges: 4246.0\n"
          ]
        },
        {
          "data": {
            "text/plain": [
              "17700"
            ]
          },
          "execution_count": 29,
          "metadata": {},
          "output_type": "execute_result"
        }
      ],
      "source": [
        "#@title Compute mean number of nodes and edges\n",
        "# Concatenate all dataframes into one\n",
        "combined_data = pd.concat(dataframes)\n",
        "\n",
        "# Calculate the mean number of nodes and edges\n",
        "mean_nodes = combined_data['nodes'].mean()\n",
        "mean_edges = combined_data['edges'].mean()\n",
        "\n",
        "print(f\"Mean Nodes: {mean_nodes}\")\n",
        "print(f\"Mean Edges: {mean_edges}\")\n",
        "\n",
        "# Run garbage collection\n",
        "del mean_nodes, mean_edges, spheres_masker, combined_data\n",
        "gc.collect()"
      ]
    },
    {
      "cell_type": "markdown",
      "metadata": {
        "id": "Mbws5Cnz-1JQ"
      },
      "source": [
        "# Test Area"
      ]
    },
    {
      "cell_type": "markdown",
      "metadata": {
        "id": "pAF3VRXlA7hr"
      },
      "source": [
        "##Plot test"
      ]
    },
    {
      "cell_type": "code",
      "execution_count": null,
      "metadata": {
        "colab": {
          "base_uri": "https://localhost:8080/",
          "height": 442
        },
        "id": "Pyu5T2Zy4j3T",
        "outputId": "bc8b3ea6-5859-45e2-85f8-a6499b36304c"
      },
      "outputs": [
        {
          "ename": "ValueError",
          "evalue": "ignored",
          "output_type": "error",
          "traceback": [
            "\u001b[0;31m---------------------------------------------------------------------------\u001b[0m",
            "\u001b[0;31mValueError\u001b[0m                                Traceback (most recent call last)",
            "\u001b[0;32m<ipython-input-13-d56e76e62613>\u001b[0m in \u001b[0;36m<cell line: 29>\u001b[0;34m()\u001b[0m\n\u001b[1;32m     27\u001b[0m \u001b[0;31m# Perform preprocessing on confounds_data if needed\u001b[0m\u001b[0;34m\u001b[0m\u001b[0;34m\u001b[0m\u001b[0m\n\u001b[1;32m     28\u001b[0m \u001b[0mconfounds_data\u001b[0m \u001b[0;34m=\u001b[0m \u001b[0mconfounds_data\u001b[0m\u001b[0;34m.\u001b[0m\u001b[0mreplace\u001b[0m\u001b[0;34m(\u001b[0m\u001b[0;34m[\u001b[0m\u001b[0mnp\u001b[0m\u001b[0;34m.\u001b[0m\u001b[0mnan\u001b[0m\u001b[0;34m,\u001b[0m \u001b[0mnp\u001b[0m\u001b[0;34m.\u001b[0m\u001b[0minf\u001b[0m\u001b[0;34m,\u001b[0m \u001b[0;34m-\u001b[0m\u001b[0mnp\u001b[0m\u001b[0;34m.\u001b[0m\u001b[0minf\u001b[0m\u001b[0;34m]\u001b[0m\u001b[0;34m,\u001b[0m \u001b[0;36m0\u001b[0m\u001b[0;34m)\u001b[0m\u001b[0;34m\u001b[0m\u001b[0;34m\u001b[0m\u001b[0m\n\u001b[0;32m---> 29\u001b[0;31m \u001b[0mtimeseries\u001b[0m \u001b[0;34m=\u001b[0m \u001b[0mspheres_masker\u001b[0m\u001b[0;34m.\u001b[0m\u001b[0mfit_transform\u001b[0m\u001b[0;34m(\u001b[0m\u001b[0mdata_path\u001b[0m\u001b[0;34m,\u001b[0m \u001b[0mconfounds\u001b[0m\u001b[0;34m=\u001b[0m\u001b[0mconfounds_data\u001b[0m\u001b[0;34m)\u001b[0m\u001b[0;34m\u001b[0m\u001b[0;34m\u001b[0m\u001b[0m\n\u001b[0m\u001b[1;32m     30\u001b[0m \u001b[0;34m\u001b[0m\u001b[0m\n\u001b[1;32m     31\u001b[0m \u001b[0mscaler\u001b[0m \u001b[0;34m=\u001b[0m \u001b[0mStandardScaler\u001b[0m\u001b[0;34m(\u001b[0m\u001b[0;34m)\u001b[0m\u001b[0;34m\u001b[0m\u001b[0;34m\u001b[0m\u001b[0m\n",
            "\u001b[0;32m/usr/local/lib/python3.10/dist-packages/sklearn/utils/_set_output.py\u001b[0m in \u001b[0;36mwrapped\u001b[0;34m(self, X, *args, **kwargs)\u001b[0m\n\u001b[1;32m    138\u001b[0m     \u001b[0;34m@\u001b[0m\u001b[0mwraps\u001b[0m\u001b[0;34m(\u001b[0m\u001b[0mf\u001b[0m\u001b[0;34m)\u001b[0m\u001b[0;34m\u001b[0m\u001b[0;34m\u001b[0m\u001b[0m\n\u001b[1;32m    139\u001b[0m     \u001b[0;32mdef\u001b[0m \u001b[0mwrapped\u001b[0m\u001b[0;34m(\u001b[0m\u001b[0mself\u001b[0m\u001b[0;34m,\u001b[0m \u001b[0mX\u001b[0m\u001b[0;34m,\u001b[0m \u001b[0;34m*\u001b[0m\u001b[0margs\u001b[0m\u001b[0;34m,\u001b[0m \u001b[0;34m**\u001b[0m\u001b[0mkwargs\u001b[0m\u001b[0;34m)\u001b[0m\u001b[0;34m:\u001b[0m\u001b[0;34m\u001b[0m\u001b[0;34m\u001b[0m\u001b[0m\n\u001b[0;32m--> 140\u001b[0;31m         \u001b[0mdata_to_wrap\u001b[0m \u001b[0;34m=\u001b[0m \u001b[0mf\u001b[0m\u001b[0;34m(\u001b[0m\u001b[0mself\u001b[0m\u001b[0;34m,\u001b[0m \u001b[0mX\u001b[0m\u001b[0;34m,\u001b[0m \u001b[0;34m*\u001b[0m\u001b[0margs\u001b[0m\u001b[0;34m,\u001b[0m \u001b[0;34m**\u001b[0m\u001b[0mkwargs\u001b[0m\u001b[0;34m)\u001b[0m\u001b[0;34m\u001b[0m\u001b[0;34m\u001b[0m\u001b[0m\n\u001b[0m\u001b[1;32m    141\u001b[0m         \u001b[0;32mif\u001b[0m \u001b[0misinstance\u001b[0m\u001b[0;34m(\u001b[0m\u001b[0mdata_to_wrap\u001b[0m\u001b[0;34m,\u001b[0m \u001b[0mtuple\u001b[0m\u001b[0;34m)\u001b[0m\u001b[0;34m:\u001b[0m\u001b[0;34m\u001b[0m\u001b[0;34m\u001b[0m\u001b[0m\n\u001b[1;32m    142\u001b[0m             \u001b[0;31m# only wrap the first output for cross decomposition\u001b[0m\u001b[0;34m\u001b[0m\u001b[0;34m\u001b[0m\u001b[0m\n",
            "\u001b[0;32m/usr/local/lib/python3.10/dist-packages/nilearn/maskers/nifti_labels_masker.py\u001b[0m in \u001b[0;36mfit_transform\u001b[0;34m(self, imgs, confounds, sample_mask)\u001b[0m\n\u001b[1;32m    461\u001b[0m \u001b[0;34m\u001b[0m\u001b[0m\n\u001b[1;32m    462\u001b[0m         \"\"\"\n\u001b[0;32m--> 463\u001b[0;31m         return self.fit(imgs).transform(\n\u001b[0m\u001b[1;32m    464\u001b[0m             \u001b[0mimgs\u001b[0m\u001b[0;34m,\u001b[0m \u001b[0mconfounds\u001b[0m\u001b[0;34m=\u001b[0m\u001b[0mconfounds\u001b[0m\u001b[0;34m,\u001b[0m \u001b[0msample_mask\u001b[0m\u001b[0;34m=\u001b[0m\u001b[0msample_mask\u001b[0m\u001b[0;34m\u001b[0m\u001b[0;34m\u001b[0m\u001b[0m\n\u001b[1;32m    465\u001b[0m         )\n",
            "\u001b[0;32m/usr/local/lib/python3.10/dist-packages/sklearn/utils/_set_output.py\u001b[0m in \u001b[0;36mwrapped\u001b[0;34m(self, X, *args, **kwargs)\u001b[0m\n\u001b[1;32m    138\u001b[0m     \u001b[0;34m@\u001b[0m\u001b[0mwraps\u001b[0m\u001b[0;34m(\u001b[0m\u001b[0mf\u001b[0m\u001b[0;34m)\u001b[0m\u001b[0;34m\u001b[0m\u001b[0;34m\u001b[0m\u001b[0m\n\u001b[1;32m    139\u001b[0m     \u001b[0;32mdef\u001b[0m \u001b[0mwrapped\u001b[0m\u001b[0;34m(\u001b[0m\u001b[0mself\u001b[0m\u001b[0;34m,\u001b[0m \u001b[0mX\u001b[0m\u001b[0;34m,\u001b[0m \u001b[0;34m*\u001b[0m\u001b[0margs\u001b[0m\u001b[0;34m,\u001b[0m \u001b[0;34m**\u001b[0m\u001b[0mkwargs\u001b[0m\u001b[0;34m)\u001b[0m\u001b[0;34m:\u001b[0m\u001b[0;34m\u001b[0m\u001b[0;34m\u001b[0m\u001b[0m\n\u001b[0;32m--> 140\u001b[0;31m         \u001b[0mdata_to_wrap\u001b[0m \u001b[0;34m=\u001b[0m \u001b[0mf\u001b[0m\u001b[0;34m(\u001b[0m\u001b[0mself\u001b[0m\u001b[0;34m,\u001b[0m \u001b[0mX\u001b[0m\u001b[0;34m,\u001b[0m \u001b[0;34m*\u001b[0m\u001b[0margs\u001b[0m\u001b[0;34m,\u001b[0m \u001b[0;34m**\u001b[0m\u001b[0mkwargs\u001b[0m\u001b[0;34m)\u001b[0m\u001b[0;34m\u001b[0m\u001b[0;34m\u001b[0m\u001b[0m\n\u001b[0m\u001b[1;32m    141\u001b[0m         \u001b[0;32mif\u001b[0m \u001b[0misinstance\u001b[0m\u001b[0;34m(\u001b[0m\u001b[0mdata_to_wrap\u001b[0m\u001b[0;34m,\u001b[0m \u001b[0mtuple\u001b[0m\u001b[0;34m)\u001b[0m\u001b[0;34m:\u001b[0m\u001b[0;34m\u001b[0m\u001b[0;34m\u001b[0m\u001b[0m\n\u001b[1;32m    142\u001b[0m             \u001b[0;31m# only wrap the first output for cross decomposition\u001b[0m\u001b[0;34m\u001b[0m\u001b[0;34m\u001b[0m\u001b[0m\n",
            "\u001b[0;32m/usr/local/lib/python3.10/dist-packages/nilearn/maskers/base_masker.py\u001b[0m in \u001b[0;36mtransform\u001b[0;34m(self, imgs, confounds, sample_mask)\u001b[0m\n\u001b[1;32m    265\u001b[0m                 \u001b[0mall_confounds\u001b[0m\u001b[0;34m.\u001b[0m\u001b[0mappend\u001b[0m\u001b[0;34m(\u001b[0m\u001b[0mconfounds\u001b[0m\u001b[0;34m)\u001b[0m\u001b[0;34m\u001b[0m\u001b[0;34m\u001b[0m\u001b[0m\n\u001b[1;32m    266\u001b[0m \u001b[0;34m\u001b[0m\u001b[0m\n\u001b[0;32m--> 267\u001b[0;31m         return self.transform_single_imgs(\n\u001b[0m\u001b[1;32m    268\u001b[0m             \u001b[0mimgs\u001b[0m\u001b[0;34m,\u001b[0m \u001b[0mconfounds\u001b[0m\u001b[0;34m=\u001b[0m\u001b[0mall_confounds\u001b[0m\u001b[0;34m,\u001b[0m \u001b[0msample_mask\u001b[0m\u001b[0;34m=\u001b[0m\u001b[0msample_mask\u001b[0m\u001b[0;34m\u001b[0m\u001b[0;34m\u001b[0m\u001b[0m\n\u001b[1;32m    269\u001b[0m         )\n",
            "\u001b[0;32m/usr/local/lib/python3.10/dist-packages/nilearn/maskers/nifti_labels_masker.py\u001b[0m in \u001b[0;36mtransform_single_imgs\u001b[0;34m(self, imgs, confounds, sample_mask)\u001b[0m\n\u001b[1;32m    522\u001b[0m \u001b[0;34m\u001b[0m\u001b[0m\n\u001b[1;32m    523\u001b[0m         \u001b[0;32mif\u001b[0m \u001b[0mself\u001b[0m\u001b[0;34m.\u001b[0m\u001b[0mresampling_target\u001b[0m \u001b[0;34m==\u001b[0m \u001b[0;34m\"data\"\u001b[0m\u001b[0;34m:\u001b[0m\u001b[0;34m\u001b[0m\u001b[0;34m\u001b[0m\u001b[0m\n\u001b[0;32m--> 524\u001b[0;31m             \u001b[0mimgs_\u001b[0m \u001b[0;34m=\u001b[0m \u001b[0m_utils\u001b[0m\u001b[0;34m.\u001b[0m\u001b[0mcheck_niimg\u001b[0m\u001b[0;34m(\u001b[0m\u001b[0mimgs\u001b[0m\u001b[0;34m,\u001b[0m \u001b[0matleast_4d\u001b[0m\u001b[0;34m=\u001b[0m\u001b[0;32mTrue\u001b[0m\u001b[0;34m)\u001b[0m\u001b[0;34m\u001b[0m\u001b[0;34m\u001b[0m\u001b[0m\n\u001b[0m\u001b[1;32m    525\u001b[0m             if not _utils.niimg_conversions._check_same_fov(\n\u001b[1;32m    526\u001b[0m                 \u001b[0mimgs_\u001b[0m\u001b[0;34m,\u001b[0m\u001b[0;34m\u001b[0m\u001b[0;34m\u001b[0m\u001b[0m\n",
            "\u001b[0;32m/usr/local/lib/python3.10/dist-packages/nilearn/_utils/niimg_conversions.py\u001b[0m in \u001b[0;36mcheck_niimg\u001b[0;34m(niimg, ensure_ndim, atleast_4d, dtype, return_iterator, wildcards)\u001b[0m\n\u001b[1;32m    304\u001b[0m                 \u001b[0;32mraise\u001b[0m \u001b[0mValueError\u001b[0m\u001b[0;34m(\u001b[0m\u001b[0mmessage\u001b[0m\u001b[0;34m)\u001b[0m\u001b[0;34m\u001b[0m\u001b[0;34m\u001b[0m\u001b[0m\n\u001b[1;32m    305\u001b[0m             \u001b[0;32melse\u001b[0m\u001b[0;34m:\u001b[0m\u001b[0;34m\u001b[0m\u001b[0;34m\u001b[0m\u001b[0m\n\u001b[0;32m--> 306\u001b[0;31m                 \u001b[0;32mraise\u001b[0m \u001b[0mValueError\u001b[0m\u001b[0;34m(\u001b[0m\u001b[0;34mf\"File not found: '{niimg}'\"\u001b[0m\u001b[0;34m)\u001b[0m\u001b[0;34m\u001b[0m\u001b[0;34m\u001b[0m\u001b[0m\n\u001b[0m\u001b[1;32m    307\u001b[0m         \u001b[0;32melif\u001b[0m \u001b[0;32mnot\u001b[0m \u001b[0mos\u001b[0m\u001b[0;34m.\u001b[0m\u001b[0mpath\u001b[0m\u001b[0;34m.\u001b[0m\u001b[0mexists\u001b[0m\u001b[0;34m(\u001b[0m\u001b[0mniimg\u001b[0m\u001b[0;34m)\u001b[0m\u001b[0;34m:\u001b[0m\u001b[0;34m\u001b[0m\u001b[0;34m\u001b[0m\u001b[0m\n\u001b[1;32m    308\u001b[0m             \u001b[0;32mraise\u001b[0m \u001b[0mValueError\u001b[0m\u001b[0;34m(\u001b[0m\u001b[0;34mf\"File not found: '{niimg}'\"\u001b[0m\u001b[0;34m)\u001b[0m\u001b[0;34m\u001b[0m\u001b[0;34m\u001b[0m\u001b[0m\n",
            "\u001b[0;31mValueError\u001b[0m: File not found: '/root/nilearn_data/ds000030/ds000030_R1.0.4/uncompressed/derivatives/fmriprep/sub-10171/func/sub-10171_task-rest_bold_space-MNI152NLin2009cAsym_preproc.nii.gz'"
          ]
        }
      ],
      "source": [
        "#@title Example to extract a correlation matrix from an fMRI\n",
        "import nibabel as nib\n",
        "schaefer_1000 = datasets.fetch_atlas_schaefer_2018(n_rois=1000, yeo_networks=7, resolution_mm=1, verbose=1)\n",
        "\n",
        "# Load the atlas data\n",
        "atlas_img = nib.load(schaefer_1000.maps)\n",
        "\n",
        "# ROIs coordinates\n",
        "coords = plotting.find_parcellation_cut_coords(atlas_img)\n",
        "#coords = np.vstack(np.where(atlas_img.get_fdata() > 0)).T\n",
        "\n",
        "# Timeseries extractor\n",
        "spheres_masker = NiftiLabelsMasker(\n",
        "    labels_img=schaefer_1000.maps,\n",
        "    smoothing_fwhm=1,\n",
        "    detrend=True,\n",
        "    standardize=\"zscore_sample\",\n",
        "    t_r=None\n",
        ")\n",
        "\n",
        "\n",
        "sample_row = control_data.iloc[0]  # Change the index (0) to the desired sample\n",
        "\n",
        "data_path = sample_row['data']\n",
        "confounds_data = sample_row['confounds']\n",
        "\n",
        "# Perform preprocessing on confounds_data if needed\n",
        "confounds_data = confounds_data.replace([np.nan, np.inf, -np.inf], 0)\n",
        "timeseries = spheres_masker.fit_transform(data_path, confounds=confounds_data)\n",
        "\n",
        "scaler = StandardScaler()\n",
        "\n",
        "# Apply Z-score normalization to your time series data\n",
        "timeseries_normalized = scaler.fit_transform(timeseries)\n",
        "\n",
        "correlation_matrix = np.corrcoef(timeseries_normalized, rowvar=False)\n",
        "\n",
        "# CONNECTOME MATRIX PLOTTING\n",
        "plotting.plot_matrix(\n",
        "    correlation_matrix,\n",
        "    vmin=-1.0,\n",
        "    vmax=1.0,\n",
        "    colorbar=True,\n",
        "    title=\"Power correlation matrix\",\n",
        ")"
      ]
    },
    {
      "cell_type": "code",
      "execution_count": null,
      "metadata": {
        "id": "4BzUHIYRtUa5"
      },
      "outputs": [],
      "source": [
        "display =plotting.plot_connectome(\n",
        "    correlation_matrix,\n",
        "    coords,\n",
        "    title=\"Power correlation graph\",\n",
        "    edge_threshold=\"99.96%\",\n",
        "    node_size=0.5,\n",
        "    colorbar=True,\n",
        ")"
      ]
    },
    {
      "cell_type": "code",
      "execution_count": null,
      "metadata": {
        "cellView": "form",
        "colab": {
          "base_uri": "https://localhost:8080/",
          "height": 245
        },
        "id": "ZF8a7xq35tKA",
        "outputId": "b28a5411-86a0-4656-db68-2e8b63d3cd18"
      },
      "outputs": [
        {
          "ename": "NameError",
          "evalue": "ignored",
          "output_type": "error",
          "traceback": [
            "\u001b[0;31m---------------------------------------------------------------------------\u001b[0m",
            "\u001b[0;31mNameError\u001b[0m                                 Traceback (most recent call last)",
            "\u001b[0;32m<ipython-input-12-6af106df4584>\u001b[0m in \u001b[0;36m<cell line: 2>\u001b[0;34m()\u001b[0m\n\u001b[1;32m      1\u001b[0m \u001b[0;31m# @title Example to process a correlation matrix\u001b[0m\u001b[0;34m\u001b[0m\u001b[0;34m\u001b[0m\u001b[0m\n\u001b[0;32m----> 2\u001b[0;31m \u001b[0mpower_correlation_matrix\u001b[0m \u001b[0;34m=\u001b[0m \u001b[0mcorrelation_matrix\u001b[0m\u001b[0;34m\u001b[0m\u001b[0;34m\u001b[0m\u001b[0m\n\u001b[0m\u001b[1;32m      3\u001b[0m \u001b[0mG\u001b[0m \u001b[0;34m=\u001b[0m \u001b[0mnx\u001b[0m\u001b[0;34m.\u001b[0m\u001b[0mGraph\u001b[0m\u001b[0;34m(\u001b[0m\u001b[0;34m)\u001b[0m\u001b[0;34m\u001b[0m\u001b[0;34m\u001b[0m\u001b[0m\n\u001b[1;32m      4\u001b[0m \u001b[0mn\u001b[0m \u001b[0;34m=\u001b[0m \u001b[0mpower_correlation_matrix\u001b[0m\u001b[0;34m.\u001b[0m\u001b[0mshape\u001b[0m\u001b[0;34m[\u001b[0m\u001b[0;36m0\u001b[0m\u001b[0;34m]\u001b[0m  \u001b[0;31m# Number of brain regions\u001b[0m\u001b[0;34m\u001b[0m\u001b[0;34m\u001b[0m\u001b[0m\n\u001b[1;32m      5\u001b[0m \u001b[0;34m\u001b[0m\u001b[0m\n",
            "\u001b[0;31mNameError\u001b[0m: name 'correlation_matrix' is not defined"
          ]
        }
      ],
      "source": [
        "# @title Example to process a correlation matrix\n",
        "power_correlation_matrix = correlation_matrix\n",
        "G = nx.Graph()\n",
        "n = power_correlation_matrix.shape[0]  # Number of brain regions\n",
        "\n",
        "n = power_correlation_matrix.shape[0]\n",
        "mask = ~np.eye(n, dtype=bool)\n",
        "\n",
        "# Calculate the threshold based on the top 0.2% of values, excluding the diagonal\n",
        "# Flatten the correlation matrix, excluding the diagonal\n",
        "values = power_correlation_matrix[mask].flatten()\n",
        "\n",
        "# Sort the values in descending order\n",
        "sorted_values = np.sort(values)[::-1]\n",
        "\n",
        "# Calculate the threshold\n",
        "top_percentage = 0.85\n",
        "threshold_idx = int(len(sorted_values) * top_percentage / 100)\n",
        "threshold = sorted_values[threshold_idx]\n",
        "\n",
        "for i in range(len(correlation_matrix)):\n",
        "    for j in range(i + 1, len(correlation_matrix)):\n",
        "        if abs(correlation_matrix[i, j]) >= threshold:\n",
        "            G.add_edge(i, j)\n",
        "\n"
      ]
    },
    {
      "cell_type": "markdown",
      "metadata": {
        "id": "k70WUKF1BFuc"
      },
      "source": [
        "## Metrics on the graph"
      ]
    },
    {
      "cell_type": "code",
      "execution_count": 5,
      "metadata": {
        "cellView": "form",
        "id": "zAHqw5B5qeId"
      },
      "outputs": [],
      "source": [
        "#@title Create random graphs using the same degree frequencies found in the original ones\n",
        "dataframes = [control_data, schz_data, bp_data, adhd_data]\n",
        "conditions = [\"Control\", \"Schizophrenia\", \"Bipolar\", \"ADHD\"]\n",
        "\n",
        "rand_grp = pd.DataFrame(columns=['graph'])\n",
        "\n",
        "for dataframe, condition in zip(dataframes,conditions):\n",
        "  for original_graph in dataframe['graph']:\n",
        "    # Get the degree sequence\n",
        "      degree_sequence = [degree for _, degree in original_graph.degree()]\n",
        "    # Generate multiple random graphs based on the same degree sequence\n",
        "      random_graph = nx.Graph(nx.configuration_model(degree_sequence, create_using=nx.Graph()))\n",
        "    # Add the random graph to the DataFrame\n",
        "      rand_grp = rand_grp.append({'graph':random_graph, 'edges':random_graph.number_of_edges(), 'nodes': random_graph.number_of_nodes()}, ignore_index=True)"
      ]
    },
    {
      "cell_type": "code",
      "execution_count": 6,
      "metadata": {
        "cellView": "form",
        "colab": {
          "base_uri": "https://localhost:8080/"
        },
        "id": "xtQ-8D67BI9w",
        "outputId": "a744617d-1b5b-45d1-d688-eb4bc6e55910"
      },
      "outputs": [
        {
          "output_type": "stream",
          "name": "stderr",
          "text": [
            "100%|██████████| 10/10 [01:49<00:00, 10.93s/it]\n",
            "100%|██████████| 10/10 [01:52<00:00, 11.29s/it]\n",
            "100%|██████████| 10/10 [01:31<00:00,  9.12s/it]\n",
            "100%|██████████| 10/10 [01:34<00:00,  9.48s/it]\n",
            "100%|██████████| 40/40 [03:31<00:00,  5.29s/it]\n"
          ]
        }
      ],
      "source": [
        "#@title Processing cycle to compute graph metrics\n",
        "# Wrapper for the dataframes\n",
        "dataframes = [control_data, schz_data, bp_data, adhd_data, rand_grp]\n",
        "conditions = [\"Control\", \"Schizophrenia\", \"Bipolar\", \"ADHD\", \"Random\"]\n",
        "num_processes = multiprocessing.cpu_count()  # Number of available CPU cores\n",
        "\n",
        "# Execution\n",
        "with Pool(processes=num_processes) as pool:\n",
        "    processed_data = pool.starmap(\n",
        "        process_graphs,\n",
        "        [(dataframe, condition) for dataframe, condition in zip(dataframes, conditions)]\n",
        "    )\n",
        "\n",
        "for df, results in zip(dataframes, processed_data):\n",
        "    for result in results:\n",
        "        (row_name, m_closeness, m_betweenness, m_degree, avg_clust,\n",
        "            top5_close, top5_betw,\n",
        "            top5_deg, top5_clust,\n",
        "            modularity, gbe,nc) = result\n",
        "\n",
        "        df.at[row_name, 'closeness'] = m_closeness\n",
        "        df.at[row_name, 'betweenness'] = m_betweenness\n",
        "        df.at[row_name, 'degree'] = m_degree\n",
        "        df.at[row_name, 'clustering'] = avg_clust\n",
        "        df.at[row_name,'top5_close'] = top5_close\n",
        "        df.at[row_name,'top5_betw'] = top5_betw\n",
        "        df.at[row_name,'top5_deg'] = top5_deg\n",
        "        df.at[row_name,'top5_clust'] = top5_clust\n",
        "        df.at[row_name, 'modularity'] = modularity\n",
        "        df.at[row_name, 'global_efficiency'] = gbe\n",
        "        df.at[row_name, 'network_cost'] = nc"
      ]
    },
    {
      "cell_type": "code",
      "execution_count": null,
      "metadata": {
        "cellView": "form",
        "colab": {
          "base_uri": "https://localhost:8080/"
        },
        "id": "N0gE2PZW1qP9",
        "outputId": "415bb38b-4e79-4878-f48e-11c559e78f20"
      },
      "outputs": [
        {
          "output_type": "stream",
          "name": "stdout",
          "text": [
            "+-------------------+--------------------+--------------------+--------------------+--------------------+---------------------+\n",
            "|      Metric       |      Control       |   Schizophrenia    |      Bipolar       |        ADHD        |       Random        |\n",
            "+-------------------+--------------------+--------------------+--------------------+--------------------+---------------------+\n",
            "|     closeness     |  0.1961 ± 0.0160   |  0.1929 ± 0.0261   |  0.2049 ± 0.0109   |  0.2074 ± 0.0192   |   0.3298 ± 0.0110   |\n",
            "|    betweenness    |  0.0048 ± 0.0005   |  0.0049 ± 0.0007   |  0.0048 ± 0.0006   |  0.0047 ± 0.0006   |   0.0027 ± 0.0001   |\n",
            "|      degree       |  11.1633 ± 0.8526  |  11.4453 ± 1.4024  |  11.3997 ± 1.0876  |  11.1900 ± 0.9379  |  10.9677 ± 0.9348   |\n",
            "|    clustering     |  0.3913 ± 0.0292   |  0.3870 ± 0.0306   |  0.3933 ± 0.0325   |  0.3853 ± 0.0549   |   0.0478 ± 0.0141   |\n",
            "|    top5_close     |  0.2692 ± 0.0235   |  0.2687 ± 0.0312   |  0.2768 ± 0.0122   |  0.2824 ± 0.0194   |   0.4267 ± 0.0165   |\n",
            "|     top5_betw     |  0.0630 ± 0.0178   |  0.0601 ± 0.0193   |  0.0605 ± 0.0146   |  0.0506 ± 0.0126   |   0.0279 ± 0.0039   |\n",
            "|     top5_deg      |  57.4600 ± 8.3406  | 59.4600 ± 14.3555  |  54.4600 ± 6.9423  |  58.3200 ± 4.5589  |  53.2350 ± 7.1794   |\n",
            "|    top5_clust     |  1.0000 ± 0.0000   |  1.0000 ± 0.0000   |  1.0000 ± 0.0000   |  1.0000 ± 0.0000   |   0.8328 ± 0.1828   |\n",
            "|    modularity     |  0.6529 ± 0.0439   |  0.6287 ± 0.0605   |  0.6521 ± 0.0271   |  0.6383 ± 0.0484   |   0.0023 ± 0.0013   |\n",
            "| global_efficiency |  0.2287 ± 0.0147   |  0.2258 ± 0.0234   |  0.2377 ± 0.0111   |  0.2384 ± 0.0175   |   0.3503 ± 0.0121   |\n",
            "|       edges       | 4246.0000 ± 0.0000 | 4246.0000 ± 0.0000 | 4246.0000 ± 0.0000 | 4246.0000 ± 0.0000 | 4124.3500 ± 41.1374 |\n",
            "|       nodes       | 764.8000 ± 59.6952 | 751.8000 ± 89.6955 | 751.1000 ± 71.9729 | 763.6000 ± 62.6280 | 757.8250 ± 69.4365  |\n",
            "+-------------------+--------------------+--------------------+--------------------+--------------------+---------------------+\n"
          ]
        }
      ],
      "source": [
        "#@title Print mean and std of the computed features across the various conditions\n",
        "print_mean_std(dataframes, conditions)"
      ]
    },
    {
      "cell_type": "code",
      "source": [
        "#@title Print p-values of the t-tests\n",
        "print_ttest_pval(dataframes, conditions)"
      ],
      "metadata": {
        "colab": {
          "base_uri": "https://localhost:8080/"
        },
        "id": "CKo1VEv17H3i",
        "outputId": "7777929a-6ecf-4910-f874-49d9a8d99236"
      },
      "execution_count": 27,
      "outputs": [
        {
          "output_type": "stream",
          "name": "stdout",
          "text": [
            "+-------------------+---------------+---------+--------+\n",
            "|      Metric       | Schizophrenia | Bipolar |  ADHD  |\n",
            "+-------------------+---------------+---------+--------+\n",
            "|     closeness     |    0.7458     | 0.1681  | 0.1705 |\n",
            "|    betweenness    |    0.9009     | 0.8906  | 0.5228 |\n",
            "|      degree       |    0.5936     | 0.5951  | 0.9477 |\n",
            "|    clustering     |    0.7563     | 0.8813  | 0.7647 |\n",
            "|    top5_close     |    0.9658     | 0.3772  | 0.1874 |\n",
            "|     top5_betw     |    0.7317     | 0.7382  | 0.0905 |\n",
            "|     top5_deg      |    0.7077     | 0.3935  | 0.7781 |\n",
            "|    top5_clust     |      nan      |   nan   |  nan   |\n",
            "|    modularity     |    0.3194     | 0.9586  | 0.4875 |\n",
            "| global_efficiency |    0.7390     | 0.1424  | 0.2003 |\n",
            "+-------------------+---------------+---------+--------+\n"
          ]
        }
      ]
    },
    {
      "cell_type": "code",
      "execution_count": null,
      "metadata": {
        "cellView": "form",
        "colab": {
          "base_uri": "https://localhost:8080/",
          "height": 419
        },
        "id": "Y9L9xnc5HeDT",
        "outputId": "1c63f67a-6c75-41d0-ded9-1f09b61a043b"
      },
      "outputs": [
        {
          "data": {
            "image/png": "[encoded data removed]",
            "text/plain": [
              "<Figure size 1000x600 with 1 Axes>"
            ]
          },
          "metadata": {},
          "output_type": "display_data"
        }
      ],
      "source": [
        "#@title Probability distributions plotter\n",
        "feature = \"betweenness\" # @param [\"global_efficiency\", \"closeness\", \"betweenness\", \"degree\", \"top5_deg\", \"top5_close\", \"top5_betw\", \"clustering\", \"degree\", \"top5_clust\", \"modularity\", \"global_efficiency\", \"network_cost\"]\n",
        "# Set the style\n",
        "sns.set(style=\"whitegrid\")\n",
        "\n",
        "# Plotting distributions with KDE and best-fit line\n",
        "plt.figure(figsize=(10, 6))\n",
        "\n",
        "# Control\n",
        "sns.kdeplot(control_data[feature], label='Control', fill=True, common_norm=True, cut = 3,\n",
        "    linewidth=0,)\n",
        "\n",
        "# Schizophrenia\n",
        "sns.kdeplot(schz_data[feature], label='Schizophrenia', fill=True, common_norm=True, cut = 3,\n",
        "    linewidth=0,)\n",
        "\n",
        "# Bipolar\n",
        "sns.kdeplot(bp_data[feature], label='Bipolar', fill=True, common_norm=True, cut = 3,\n",
        "    linewidth=0,)\n",
        "\n",
        "# ADHD\n",
        "sns.kdeplot(adhd_data[feature], label='ADHD', fill=True, common_norm=True, cut = 3,\n",
        "    linewidth=0,)\n",
        "\n",
        "sns.kdeplot(rand_grp[feature], label='Rand', fill=True, common_norm=True, cut = 3,\n",
        "    linewidth=0,)\n",
        "\n",
        "# Adding labels and title\n",
        "plt.xlabel(feature)\n",
        "plt.ylabel('Density')\n",
        "plt.title(feature + ' Distribution across Conditions')\n",
        "\n",
        "# Adding legend\n",
        "plt.legend()\n",
        "\n",
        "# Show the plot\n",
        "plt.show()\n"
      ]
    },
    {
      "cell_type": "markdown",
      "metadata": {
        "id": "0qjTi-sIBxZ_"
      },
      "source": [
        "##z-score, p-values computation"
      ]
    },
    {
      "cell_type": "code",
      "execution_count": null,
      "metadata": {
        "cellView": "form",
        "colab": {
          "base_uri": "https://localhost:8080/"
        },
        "id": "s60buMSMB0Ec",
        "outputId": "e5c9b882-c881-4825-ec61-7576ccf750a8"
      },
      "outputs": [
        {
          "name": "stdout",
          "output_type": "stream",
          "text": [
            "p-value Schizophrenia vs. Random: 0.000\n",
            "p-value Bipolar vs. Random: 0.000\n",
            "p-value ADHD vs. Random: 0.000\n",
            "p-value Control vs. Random: 0.000\n"
          ]
        }
      ],
      "source": [
        "#@title Features values\n",
        "from scipy.stats import ttest_ind, zscore\n",
        "\n",
        "def calculate_zscores(group, mean, std):\n",
        "    return (group - mean) / std\n",
        "\n",
        "feature = \"clustering\" # @param [\"global_efficiency\", \"closeness\", \"betweenness\", \"degree\", \"top5_deg\", \"top5_close\", \"top5_betw\", \"clustering\", \"degree\", \"top5_clust\", \"modularity\", \"global_efficiency\", \"network_cost\"]\n",
        "\n",
        "# Extract the feature of interest\n",
        "control_global_efficiency = control_data[feature]\n",
        "schz_global_efficiency = schz_data[feature]\n",
        "bp_global_efficiency = bp_data[feature]\n",
        "adhd_global_efficiency = adhd_data[feature]\n",
        "rand_global_efficiency = rand_grp[feature]\n",
        "\n",
        "schz_zscores_vs_random = calculate_zscores(schz_global_efficiency, rand_global_efficiency.mean(), rand_global_efficiency.std())\n",
        "bp_zscores_vs_random = calculate_zscores(bp_global_efficiency, rand_global_efficiency.mean(), rand_global_efficiency.std())\n",
        "adhd_zscores_vs_random = calculate_zscores(adhd_global_efficiency, rand_global_efficiency.mean(), rand_global_efficiency.std())\n",
        "control_zscores_vs_random = calculate_zscores(control_global_efficiency, rand_global_efficiency.mean(), rand_global_efficiency.std())\n",
        "rand_zscores = calculate_zscores(rand_global_efficiency, rand_global_efficiency.mean(), rand_global_efficiency.std())\n",
        "\n",
        "# Perform t-tests between each group and the random group\n",
        "t_stat_schz_vs_random, p_value_schz_vs_random = ttest_ind(schz_zscores_vs_random, rand_zscores, equal_var=False)\n",
        "t_stat_bp_vs_random, p_value_bp_vs_random = ttest_ind(bp_zscores_vs_random, rand_zscores, equal_var=False)\n",
        "t_stat_adhd_vs_random, p_value_adhd_vs_random = ttest_ind(adhd_zscores_vs_random, rand_zscores, equal_var=False)\n",
        "t_stat_control_vs_random, p_value_control_vs_random = ttest_ind(control_zscores_vs_random, rand_zscores, equal_var=False)\n",
        "\n",
        "# Print or use the p-values as needed\n",
        "print(\"p-value Schizophrenia vs. Random: {:.3f}\".format(p_value_schz_vs_random))\n",
        "print(\"p-value Bipolar vs. Random: {:.3f}\".format(p_value_bp_vs_random))\n",
        "print(\"p-value ADHD vs. Random: {:.3f}\".format(p_value_adhd_vs_random))\n",
        "print(\"p-value Control vs. Random: {:.3f}\".format(p_value_control_vs_random))"
      ]
    },
    {
      "cell_type": "markdown",
      "metadata": {
        "id": "9euFzEWiyhEZ"
      },
      "source": [
        "#Motifs"
      ]
    },
    {
      "cell_type": "code",
      "execution_count": null,
      "metadata": {
        "colab": {
          "base_uri": "https://localhost:8080/"
        },
        "id": "Rykzabx2wcwP",
        "outputId": "83cba1c6-9b13-4ad1-a776-2713ef5fcccd"
      },
      "outputs": [
        {
          "output_type": "stream",
          "name": "stdout",
          "text": [
            "Collecting igraph\n",
            "  Downloading igraph-0.11.3-cp39-abi3-manylinux_2_17_x86_64.manylinux2014_x86_64.whl (3.3 MB)\n",
            "\u001b[2K     \u001b[90m━━━━━━━━━━━━━━━━━━━━━━━━━━━━━━━━━━━━━━━━\u001b[0m \u001b[32m3.3/3.3 MB\u001b[0m \u001b[31m14.4 MB/s\u001b[0m eta \u001b[36m0:00:00\u001b[0m\n",
            "\u001b[?25hCollecting texttable>=1.6.2 (from igraph)\n",
            "  Downloading texttable-1.7.0-py2.py3-none-any.whl (10 kB)\n",
            "Installing collected packages: texttable, igraph\n",
            "Successfully installed igraph-0.11.3 texttable-1.7.0\n",
            "Reading package lists... Done\n",
            "Building dependency tree... Done\n",
            "Reading state information... Done\n",
            "pkg-config is already the newest version (0.29.2-1ubuntu3).\n",
            "python3-dev is already the newest version (3.10.6-1~22.04).\n",
            "python3-dev set to manually installed.\n",
            "The following additional packages will be installed:\n",
            "  libblkid-dev libcairo-script-interpreter2 libffi-dev libglib2.0-dev libglib2.0-dev-bin libice-dev\n",
            "  liblzo2-2 libmount-dev libpixman-1-dev libselinux1-dev libsepol-dev libsm-dev libxcb-render0-dev\n",
            "  libxcb-shm0-dev\n",
            "Suggested packages:\n",
            "  libcairo2-doc libgirepository1.0-dev libglib2.0-doc libgdk-pixbuf2.0-bin | libgdk-pixbuf2.0-dev\n",
            "  libxml2-utils libice-doc libsm-doc\n",
            "The following NEW packages will be installed:\n",
            "  libblkid-dev libcairo-script-interpreter2 libcairo2-dev libffi-dev libglib2.0-dev\n",
            "  libglib2.0-dev-bin libice-dev liblzo2-2 libmount-dev libpixman-1-dev libselinux1-dev libsepol-dev\n",
            "  libsm-dev libxcb-render0-dev libxcb-shm0-dev\n",
            "0 upgraded, 15 newly installed, 0 to remove and 15 not upgraded.\n",
            "Need to get 3,839 kB of archives.\n",
            "After this operation, 19.8 MB of additional disk space will be used.\n",
            "Get:1 http://archive.ubuntu.com/ubuntu jammy/main amd64 liblzo2-2 amd64 2.10-2build3 [53.7 kB]\n",
            "Get:2 http://archive.ubuntu.com/ubuntu jammy/main amd64 libcairo-script-interpreter2 amd64 1.16.0-5ubuntu2 [62.0 kB]\n",
            "Get:3 http://archive.ubuntu.com/ubuntu jammy/main amd64 libice-dev amd64 2:1.0.10-1build2 [51.4 kB]\n",
            "Get:4 http://archive.ubuntu.com/ubuntu jammy/main amd64 libsm-dev amd64 2:1.2.3-1build2 [18.1 kB]\n",
            "Get:5 http://archive.ubuntu.com/ubuntu jammy-updates/main amd64 libpixman-1-dev amd64 0.40.0-1ubuntu0.22.04.1 [280 kB]\n",
            "Get:6 http://archive.ubuntu.com/ubuntu jammy/main amd64 libxcb-render0-dev amd64 1.14-3ubuntu3 [19.6 kB]\n",
            "Get:7 http://archive.ubuntu.com/ubuntu jammy/main amd64 libxcb-shm0-dev amd64 1.14-3ubuntu3 [6,848 B]\n",
            "Get:8 http://archive.ubuntu.com/ubuntu jammy/main amd64 libffi-dev amd64 3.4.2-4 [63.7 kB]\n",
            "Get:9 http://archive.ubuntu.com/ubuntu jammy-updates/main amd64 libglib2.0-dev-bin amd64 2.72.4-0ubuntu2.2 [117 kB]\n",
            "Get:10 http://archive.ubuntu.com/ubuntu jammy/main amd64 libblkid-dev amd64 2.37.2-4ubuntu3 [185 kB]\n",
            "Get:11 http://archive.ubuntu.com/ubuntu jammy/main amd64 libsepol-dev amd64 3.3-1build1 [378 kB]\n",
            "Get:12 http://archive.ubuntu.com/ubuntu jammy/main amd64 libselinux1-dev amd64 3.3-1build2 [158 kB]\n",
            "Get:13 http://archive.ubuntu.com/ubuntu jammy/main amd64 libmount-dev amd64 2.37.2-4ubuntu3 [14.5 kB]\n",
            "Get:14 http://archive.ubuntu.com/ubuntu jammy-updates/main amd64 libglib2.0-dev amd64 2.72.4-0ubuntu2.2 [1,739 kB]\n",
            "Get:15 http://archive.ubuntu.com/ubuntu jammy/main amd64 libcairo2-dev amd64 1.16.0-5ubuntu2 [692 kB]\n",
            "Fetched 3,839 kB in 1s (4,838 kB/s)\n",
            "Selecting previously unselected package liblzo2-2:amd64.\n",
            "(Reading database ... 120899 files and directories currently installed.)\n",
            "Preparing to unpack .../00-liblzo2-2_2.10-2build3_amd64.deb ...\n",
            "Unpacking liblzo2-2:amd64 (2.10-2build3) ...\n",
            "Selecting previously unselected package libcairo-script-interpreter2:amd64.\n",
            "Preparing to unpack .../01-libcairo-script-interpreter2_1.16.0-5ubuntu2_amd64.deb ...\n",
            "Unpacking libcairo-script-interpreter2:amd64 (1.16.0-5ubuntu2) ...\n",
            "Selecting previously unselected package libice-dev:amd64.\n",
            "Preparing to unpack .../02-libice-dev_2%3a1.0.10-1build2_amd64.deb ...\n",
            "Unpacking libice-dev:amd64 (2:1.0.10-1build2) ...\n",
            "Selecting previously unselected package libsm-dev:amd64.\n",
            "Preparing to unpack .../03-libsm-dev_2%3a1.2.3-1build2_amd64.deb ...\n",
            "Unpacking libsm-dev:amd64 (2:1.2.3-1build2) ...\n",
            "Selecting previously unselected package libpixman-1-dev:amd64.\n",
            "Preparing to unpack .../04-libpixman-1-dev_0.40.0-1ubuntu0.22.04.1_amd64.deb ...\n",
            "Unpacking libpixman-1-dev:amd64 (0.40.0-1ubuntu0.22.04.1) ...\n",
            "Selecting previously unselected package libxcb-render0-dev:amd64.\n",
            "Preparing to unpack .../05-libxcb-render0-dev_1.14-3ubuntu3_amd64.deb ...\n",
            "Unpacking libxcb-render0-dev:amd64 (1.14-3ubuntu3) ...\n",
            "Selecting previously unselected package libxcb-shm0-dev:amd64.\n",
            "Preparing to unpack .../06-libxcb-shm0-dev_1.14-3ubuntu3_amd64.deb ...\n",
            "Unpacking libxcb-shm0-dev:amd64 (1.14-3ubuntu3) ...\n",
            "Selecting previously unselected package libffi-dev:amd64.\n",
            "Preparing to unpack .../07-libffi-dev_3.4.2-4_amd64.deb ...\n",
            "Unpacking libffi-dev:amd64 (3.4.2-4) ...\n",
            "Selecting previously unselected package libglib2.0-dev-bin.\n",
            "Preparing to unpack .../08-libglib2.0-dev-bin_2.72.4-0ubuntu2.2_amd64.deb ...\n",
            "Unpacking libglib2.0-dev-bin (2.72.4-0ubuntu2.2) ...\n",
            "Selecting previously unselected package libblkid-dev:amd64.\n",
            "Preparing to unpack .../09-libblkid-dev_2.37.2-4ubuntu3_amd64.deb ...\n",
            "Unpacking libblkid-dev:amd64 (2.37.2-4ubuntu3) ...\n",
            "Selecting previously unselected package libsepol-dev:amd64.\n",
            "Preparing to unpack .../10-libsepol-dev_3.3-1build1_amd64.deb ...\n",
            "Unpacking libsepol-dev:amd64 (3.3-1build1) ...\n",
            "Selecting previously unselected package libselinux1-dev:amd64.\n",
            "Preparing to unpack .../11-libselinux1-dev_3.3-1build2_amd64.deb ...\n",
            "Unpacking libselinux1-dev:amd64 (3.3-1build2) ...\n",
            "Selecting previously unselected package libmount-dev:amd64.\n",
            "Preparing to unpack .../12-libmount-dev_2.37.2-4ubuntu3_amd64.deb ...\n",
            "Unpacking libmount-dev:amd64 (2.37.2-4ubuntu3) ...\n",
            "Selecting previously unselected package libglib2.0-dev:amd64.\n",
            "Preparing to unpack .../13-libglib2.0-dev_2.72.4-0ubuntu2.2_amd64.deb ...\n",
            "Unpacking libglib2.0-dev:amd64 (2.72.4-0ubuntu2.2) ...\n",
            "Selecting previously unselected package libcairo2-dev:amd64.\n",
            "Preparing to unpack .../14-libcairo2-dev_1.16.0-5ubuntu2_amd64.deb ...\n",
            "Unpacking libcairo2-dev:amd64 (1.16.0-5ubuntu2) ...\n",
            "Setting up libglib2.0-dev-bin (2.72.4-0ubuntu2.2) ...\n",
            "Setting up libblkid-dev:amd64 (2.37.2-4ubuntu3) ...\n",
            "Setting up libpixman-1-dev:amd64 (0.40.0-1ubuntu0.22.04.1) ...\n",
            "Setting up libice-dev:amd64 (2:1.0.10-1build2) ...\n",
            "Setting up libsm-dev:amd64 (2:1.2.3-1build2) ...\n",
            "Setting up liblzo2-2:amd64 (2.10-2build3) ...\n",
            "Setting up libffi-dev:amd64 (3.4.2-4) ...\n",
            "Setting up libxcb-shm0-dev:amd64 (1.14-3ubuntu3) ...\n",
            "Setting up libsepol-dev:amd64 (3.3-1build1) ...\n",
            "Setting up libxcb-render0-dev:amd64 (1.14-3ubuntu3) ...\n",
            "Setting up libcairo-script-interpreter2:amd64 (1.16.0-5ubuntu2) ...\n",
            "Setting up libselinux1-dev:amd64 (3.3-1build2) ...\n",
            "Setting up libmount-dev:amd64 (2.37.2-4ubuntu3) ...\n",
            "Setting up libglib2.0-dev:amd64 (2.72.4-0ubuntu2.2) ...\n",
            "Processing triggers for libglib2.0-0:amd64 (2.72.4-0ubuntu2.2) ...\n",
            "Processing triggers for libc-bin (2.35-0ubuntu3.4) ...\n",
            "/sbin/ldconfig.real: /usr/local/lib/libtbbbind_2_0.so.3 is not a symbolic link\n",
            "\n",
            "/sbin/ldconfig.real: /usr/local/lib/libtbbbind.so.3 is not a symbolic link\n",
            "\n",
            "/sbin/ldconfig.real: /usr/local/lib/libtbbmalloc.so.2 is not a symbolic link\n",
            "\n",
            "/sbin/ldconfig.real: /usr/local/lib/libtbb.so.12 is not a symbolic link\n",
            "\n",
            "/sbin/ldconfig.real: /usr/local/lib/libtbbbind_2_5.so.3 is not a symbolic link\n",
            "\n",
            "/sbin/ldconfig.real: /usr/local/lib/libtbbmalloc_proxy.so.2 is not a symbolic link\n",
            "\n",
            "Processing triggers for man-db (2.10.2-1) ...\n",
            "Setting up libcairo2-dev:amd64 (1.16.0-5ubuntu2) ...\n",
            "Collecting python-igraph\n",
            "  Downloading python_igraph-0.11.3-py3-none-any.whl (9.1 kB)\n",
            "Collecting leidenalg\n",
            "  Downloading leidenalg-0.10.1-cp38-abi3-manylinux_2_17_x86_64.manylinux2014_x86_64.whl (2.0 MB)\n",
            "\u001b[2K     \u001b[90m━━━━━━━━━━━━━━━━━━━━━━━━━━━━━━━━━━━━━━━━\u001b[0m \u001b[32m2.0/2.0 MB\u001b[0m \u001b[31m9.9 MB/s\u001b[0m eta \u001b[36m0:00:00\u001b[0m\n",
            "\u001b[?25hCollecting cairocffi\n",
            "  Downloading cairocffi-1.6.1-py3-none-any.whl (75 kB)\n",
            "\u001b[2K     \u001b[90m━━━━━━━━━━━━━━━━━━━━━━━━━━━━━━━━━━━━━━━━\u001b[0m \u001b[32m75.1/75.1 kB\u001b[0m \u001b[31m8.6 MB/s\u001b[0m eta \u001b[36m0:00:00\u001b[0m\n",
            "\u001b[?25hRequirement already satisfied: igraph==0.11.3 in /usr/local/lib/python3.10/dist-packages (from python-igraph) (0.11.3)\n",
            "Requirement already satisfied: texttable>=1.6.2 in /usr/local/lib/python3.10/dist-packages (from igraph==0.11.3->python-igraph) (1.7.0)\n",
            "INFO: pip is looking at multiple versions of leidenalg to determine which version is compatible with other requirements. This could take a while.\n",
            "Collecting leidenalg\n",
            "  Downloading leidenalg-0.10.0-cp310-cp310-manylinux_2_17_x86_64.manylinux2014_x86_64.whl (2.0 MB)\n",
            "\u001b[2K     \u001b[90m━━━━━━━━━━━━━━━━━━━━━━━━━━━━━━━━━━━━━━━━\u001b[0m \u001b[32m2.0/2.0 MB\u001b[0m \u001b[31m20.3 MB/s\u001b[0m eta \u001b[36m0:00:00\u001b[0m\n",
            "\u001b[?25h  Downloading leidenalg-0.9.1-cp310-cp310-manylinux_2_17_x86_64.manylinux2014_x86_64.whl (1.3 MB)\n",
            "\u001b[2K     \u001b[90m━━━━━━━━━━━━━━━━━━━━━━━━━━━━━━━━━━━━━━━━\u001b[0m \u001b[32m1.3/1.3 MB\u001b[0m \u001b[31m24.4 MB/s\u001b[0m eta \u001b[36m0:00:00\u001b[0m\n",
            "\u001b[?25h  Downloading leidenalg-0.9.0-cp310-cp310-manylinux_2_17_x86_64.manylinux2014_x86_64.whl (1.3 MB)\n",
            "\u001b[2K     \u001b[90m━━━━━━━━━━━━━━━━━━━━━━━━━━━━━━━━━━━━━━━━\u001b[0m \u001b[32m1.3/1.3 MB\u001b[0m \u001b[31m32.3 MB/s\u001b[0m eta \u001b[36m0:00:00\u001b[0m\n",
            "\u001b[?25h  Downloading leidenalg-0.8.10-cp310-cp310-manylinux_2_17_x86_64.manylinux2014_x86_64.whl (1.3 MB)\n",
            "\u001b[2K     \u001b[90m━━━━━━━━━━━━━━━━━━━━━━━━━━━━━━━━━━━━━━━━\u001b[0m \u001b[32m1.3/1.3 MB\u001b[0m \u001b[31m33.5 MB/s\u001b[0m eta \u001b[36m0:00:00\u001b[0m\n",
            "\u001b[?25h  Downloading leidenalg-0.8.9.tar.gz (3.8 MB)\n",
            "\u001b[2K     \u001b[90m━━━━━━━━━━━━━━━━━━━━━━━━━━━━━━━━━━━━━━━━\u001b[0m \u001b[32m3.8/3.8 MB\u001b[0m \u001b[31m48.9 MB/s\u001b[0m eta \u001b[36m0:00:00\u001b[0m\n",
            "\u001b[?25h  Preparing metadata (setup.py) ... \u001b[?25l\u001b[?25hdone\n",
            "  Downloading leidenalg-0.8.8.tar.gz (3.7 MB)\n",
            "\u001b[2K     \u001b[90m━━━━━━━━━━━━━━━━━━━━━━━━━━━━━━━━━━━━━━━━\u001b[0m \u001b[32m3.7/3.7 MB\u001b[0m \u001b[31m10.6 MB/s\u001b[0m eta \u001b[36m0:00:00\u001b[0m\n",
            "\u001b[?25h  Preparing metadata (setup.py) ... \u001b[?25l\u001b[?25hdone\n",
            "Requirement already satisfied: cffi>=1.1.0 in /usr/local/lib/python3.10/dist-packages (from cairocffi) (1.16.0)\n",
            "Requirement already satisfied: pycparser in /usr/local/lib/python3.10/dist-packages (from cffi>=1.1.0->cairocffi) (2.21)\n",
            "Building wheels for collected packages: leidenalg\n",
            "  Building wheel for leidenalg (setup.py) ... \u001b[?25l\u001b[?25hdone\n",
            "  Created wheel for leidenalg: filename=leidenalg-0.8.8-cp310-cp310-linux_x86_64.whl size=1217495 sha256=e11946755c9f08123e19f0db566e6492d743acf8eed6e186a8d9b65b220adb44\n",
            "  Stored in directory: /root/.cache/pip/wheels/fc/f8/bd/b27166a256147cfc7d4a8aaceb4d57222aa165d895de62f519\n",
            "Successfully built leidenalg\n",
            "Installing collected packages: python-igraph, cairocffi, leidenalg\n",
            "Successfully installed cairocffi-1.6.1 leidenalg-0.8.8 python-igraph-0.11.3\n"
          ]
        }
      ],
      "source": [
        "!pip install igraph\n",
        "!apt install libcairo2-dev pkg-config python3-dev\n",
        "!pip install python-igraph leidenalg cairocffi"
      ]
    },
    {
      "cell_type": "code",
      "execution_count": null,
      "metadata": {
        "colab": {
          "base_uri": "https://localhost:8080/",
          "height": 522
        },
        "id": "MNuW4JeVZ5VO",
        "outputId": "d5c9ea2c-3a76-4ade-e5fa-ab53c595f781"
      },
      "outputs": [
        {
          "output_type": "stream",
          "name": "stdout",
          "text": [
            "Motif counts:\n",
            "Motif 0: nan\n",
            "Motif 1: nan\n",
            "Motif 2: nan\n",
            "Motif 3: nan\n",
            "Motif 4: 180388\n",
            "Motif 5: nan\n",
            "Motif 6: 378370\n",
            "Motif 7: 292888\n",
            "Motif 8: 6958\n",
            "Motif 9: 83968\n",
            "Motif 10: 29773\n",
            "the maximum value is 378370\n",
            "key of max is  6\n",
            "{4: 180388, 6: 378370, 7: 292888, 8: 6958, 9: 83968, 10: 29773}\n",
            "Undirected graph (|V| = 4, |E| = 3)\n"
          ]
        },
        {
          "output_type": "error",
          "ename": "NameError",
          "evalue": "ignored",
          "traceback": [
            "\u001b[0;31m---------------------------------------------------------------------------\u001b[0m",
            "\u001b[0;31mNameError\u001b[0m                                 Traceback (most recent call last)",
            "\u001b[0;32m<ipython-input-8-678163361a0d>\u001b[0m in \u001b[0;36m<cell line: 53>\u001b[0;34m()\u001b[0m\n\u001b[1;32m     51\u001b[0m \u001b[0mprint\u001b[0m\u001b[0;34m(\u001b[0m\u001b[0mprintiGraph\u001b[0m\u001b[0;34m)\u001b[0m\u001b[0;34m\u001b[0m\u001b[0;34m\u001b[0m\u001b[0m\n\u001b[1;32m     52\u001b[0m \u001b[0;34m\u001b[0m\u001b[0m\n\u001b[0;32m---> 53\u001b[0;31m \u001b[0mdistances\u001b[0m\u001b[0;34m(\u001b[0m\u001b[0mprintiGraph\u001b[0m\u001b[0;34m)\u001b[0m\u001b[0;34m\u001b[0m\u001b[0;34m\u001b[0m\u001b[0m\n\u001b[0m\u001b[1;32m     54\u001b[0m \u001b[0mcheckedG\u001b[0m \u001b[0;34m=\u001b[0m \u001b[0mprintiGraph\u001b[0m\u001b[0;34m.\u001b[0m\u001b[0mis_directed\u001b[0m\u001b[0;34m(\u001b[0m\u001b[0;34m)\u001b[0m\u001b[0;34m\u001b[0m\u001b[0;34m\u001b[0m\u001b[0m\n\u001b[1;32m     55\u001b[0m \u001b[0mprint\u001b[0m \u001b[0;34m(\u001b[0m \u001b[0;34m\"the graph is directed\"\u001b[0m\u001b[0;34m,\u001b[0m \u001b[0mcheckedG\u001b[0m\u001b[0;34m)\u001b[0m\u001b[0;34m\u001b[0m\u001b[0;34m\u001b[0m\u001b[0m\n",
            "\u001b[0;31mNameError\u001b[0m: name 'distances' is not defined"
          ]
        }
      ],
      "source": [
        "\n",
        "import igraph as ig\n",
        "import networkx as nx\n",
        "import math\n",
        "# import cairo\n",
        "import cairocffi\n",
        "import matplotlib.pyplot as plt\n",
        "\n",
        "\n",
        "# Selecting a single row for demonstration purposes\n",
        "selected_row = control_data.iloc[0]\n",
        "\n",
        "# Extracting the NetworkX graph from the 'graph' column\n",
        "nx_graph = selected_row['graph']\n",
        "\n",
        "# Convert the NetworkX graph to an iGraph graph\n",
        "# ig_graph = ig.Graph.Adjacency((nx.to_numpy_array(nx_graph) > 0).tolist())\n",
        "\n",
        "ig_graph = ig.Graph.from_networkx(nx_graph)\n",
        "\n",
        "# Set the maximum motif size\n",
        "max_motif_size = 4\n",
        "\n",
        "# Count motifs for all motifs up to size k\n",
        "motif_counts = ig_graph.motifs_randesu(max_motif_size)\n",
        "\n",
        "#create a dictionary for motifs\n",
        "\n",
        "motifdict = {}\n",
        "\n",
        "# Print the motif counts\n",
        "print(\"Motif counts:\")\n",
        "for i, count in enumerate(motif_counts):\n",
        "    print(f\"Motif {i}: {count}\")\n",
        "    if math.isnan(count):\n",
        "      continue\n",
        "    else:\n",
        "      motifdict[i] = count\n",
        "\n",
        "\n",
        "\n",
        "\n",
        "max_value = max(motifdict.values())\n",
        "print(\"the maximum value is\", max_value)\n",
        "\n",
        "max_key = max(motifdict, key = lambda k:motifdict[k])\n",
        "print(\"key of max is \", max_key)\n",
        "\n",
        "print(motifdict)\n",
        "\n",
        "printiGraph = ig.GraphBase.Isoclass(n=4, cls = max_key)\n",
        "print(printiGraph)\n",
        "\n",
        "# distances(printiGraph) this is a function from R language\n",
        "checkedG = printiGraph.is_directed()\n",
        "print ( \"the graph is directed\", checkedG)\n",
        "\n",
        "# ig.plot(printiGraph,bbox=(0, 0, 100, 100))\n",
        "\n",
        "# layout = printiGraph.layout(\"kk\")\n",
        "# ig.plot(printiGraph, layout=layout)\n",
        "\n",
        "# netiGraph = ig.Graph.to_networkx(printiGraph)\n",
        "\n",
        "layout = printiGraph.layout_kamada_kawai()\n",
        "ig.plot(printiGraph, layout=layout)\n",
        "\n",
        "# print(netiGraph)"
      ]
    },
    {
      "cell_type": "code",
      "execution_count": null,
      "metadata": {
        "colab": {
          "base_uri": "https://localhost:8080/",
          "height": 210
        },
        "id": "nHYHwt_nXh8-",
        "outputId": "780dcd6b-b1a4-47b0-8c50-95eb34039419"
      },
      "outputs": [
        {
          "ename": "AttributeError",
          "evalue": "ignored",
          "output_type": "error",
          "traceback": [
            "\u001b[0;31m---------------------------------------------------------------------------\u001b[0m",
            "\u001b[0;31mAttributeError\u001b[0m                            Traceback (most recent call last)",
            "\u001b[0;32m<ipython-input-8-85f5dae80a65>\u001b[0m in \u001b[0;36m<cell line: 3>\u001b[0;34m()\u001b[0m\n\u001b[1;32m      1\u001b[0m \u001b[0;31m#back to networkx to print\u001b[0m\u001b[0;34m\u001b[0m\u001b[0;34m\u001b[0m\u001b[0m\n\u001b[1;32m      2\u001b[0m \u001b[0;34m\u001b[0m\u001b[0m\n\u001b[0;32m----> 3\u001b[0;31m \u001b[0mn\u001b[0m \u001b[0;34m=\u001b[0m \u001b[0mprintiGraph\u001b[0m\u001b[0;34m.\u001b[0m\u001b[0mto_graph_tool\u001b[0m\u001b[0;34m(\u001b[0m\u001b[0;34m)\u001b[0m\u001b[0;34m\u001b[0m\u001b[0;34m\u001b[0m\u001b[0m\n\u001b[0m",
            "\u001b[0;31mAttributeError\u001b[0m: 'igraph._igraph.GraphBase' object has no attribute 'to_graph_tool'"
          ]
        }
      ],
      "source": [
        "#back to networkx to print\n",
        "\n",
        "#n = printiGraph.to_graph_tool()"
      ]
    },
    {
      "cell_type": "code",
      "execution_count": null,
      "metadata": {
        "colab": {
          "base_uri": "https://localhost:8080/",
          "height": 435
        },
        "id": "_xxNlMNvYTNJ",
        "outputId": "83027737-b2ee-4350-865d-001da797b447"
      },
      "outputs": [
        {
          "data": {
            "image/png": "[encoded data removed]",
            "text/plain": [
              "<Figure size 640x480 with 1 Axes>"
            ]
          },
          "metadata": {},
          "output_type": "display_data"
        }
      ],
      "source": [
        "# printing  in matplotlib\n",
        "\n",
        "import matplotlib.pyplot as plt\n",
        "fig, ax = plt.subplots()\n",
        "ig.plot(printiGraph, target=ax)"
      ]
    },
    {
      "cell_type": "markdown",
      "metadata": {
        "id": "nrBvGc0ft0eT"
      },
      "source": [
        "#CALL FUNCTION FOR BRAIN SUBSETS"
      ]
    },
    {
      "cell_type": "code",
      "execution_count": null,
      "metadata": {
        "colab": {
          "base_uri": "https://localhost:8080/"
        },
        "id": "PpIHx8yWt_I9",
        "outputId": "05cb826c-7828-4be5-b302-44fda59f6814"
      },
      "outputs": [
        {
          "name": "stdout",
          "output_type": "stream",
          "text": [
            "Requirement already satisfied: networkx in /usr/local/lib/python3.10/dist-packages (3.2.1)\n",
            "Requirement already satisfied: matplotlib in /usr/local/lib/python3.10/dist-packages (3.7.1)\n",
            "Requirement already satisfied: seaborn in /usr/local/lib/python3.10/dist-packages (0.12.2)\n",
            "Requirement already satisfied: contourpy>=1.0.1 in /usr/local/lib/python3.10/dist-packages (from matplotlib) (1.2.0)\n",
            "Requirement already satisfied: cycler>=0.10 in /usr/local/lib/python3.10/dist-packages (from matplotlib) (0.12.1)\n",
            "Requirement already satisfied: fonttools>=4.22.0 in /usr/local/lib/python3.10/dist-packages (from matplotlib) (4.45.1)\n",
            "Requirement already satisfied: kiwisolver>=1.0.1 in /usr/local/lib/python3.10/dist-packages (from matplotlib) (1.4.5)\n",
            "Requirement already satisfied: numpy>=1.20 in /usr/local/lib/python3.10/dist-packages (from matplotlib) (1.23.5)\n",
            "Requirement already satisfied: packaging>=20.0 in /usr/local/lib/python3.10/dist-packages (from matplotlib) (23.2)\n",
            "Requirement already satisfied: pillow>=6.2.0 in /usr/local/lib/python3.10/dist-packages (from matplotlib) (9.4.0)\n",
            "Requirement already satisfied: pyparsing>=2.3.1 in /usr/local/lib/python3.10/dist-packages (from matplotlib) (3.1.1)\n",
            "Requirement already satisfied: python-dateutil>=2.7 in /usr/local/lib/python3.10/dist-packages (from matplotlib) (2.8.2)\n",
            "Requirement already satisfied: pandas>=0.25 in /usr/local/lib/python3.10/dist-packages (from seaborn) (1.5.3)\n",
            "Requirement already satisfied: pytz>=2020.1 in /usr/local/lib/python3.10/dist-packages (from pandas>=0.25->seaborn) (2023.3.post1)\n",
            "Requirement already satisfied: six>=1.5 in /usr/local/lib/python3.10/dist-packages (from python-dateutil>=2.7->matplotlib) (1.16.0)\n"
          ]
        }
      ],
      "source": [
        "#take all the graphs for the patient , in order to understand how many hubs we have,\n",
        "#try also to take all the graphs.\n",
        "#print(control_data)\n",
        "!pip install networkx matplotlib seaborn\n",
        "import seaborn as sns\n",
        "\n",
        "import networkx as nx\n",
        "from networkx.algorithms import community\n",
        "from networkx.algorithms.community import greedy_modularity_communities\n",
        "\n",
        "\n",
        "dataframes = [control_data, schz_data, bp_data]\n",
        "conditions = [\"Control\", \"Schizophrenia\", \"Bipolar\", \"ADHD\", \"Random\"]\n",
        "G=control_data.at[0,'graph']\n",
        "\n",
        "#gives you all brain modules\n",
        "def modules(G):\n",
        "  module=greedy_modularity_communities(G)\n",
        "  return module\n",
        "\n",
        "\n",
        "communities=modules(G)\n",
        "\n",
        "# Create a dictionary to store node-community assignments\n",
        "node_community_dict = {node: i for i, comm in enumerate(communities) for node in comm}\n",
        "\n",
        "# Create a list of community assignments for each node\n",
        "node_community = [node_community_dict[node] for node in G.nodes()]"
      ]
    },
    {
      "cell_type": "code",
      "execution_count": null,
      "metadata": {
        "colab": {
          "base_uri": "https://localhost:8080/",
          "height": 542
        },
        "id": "2cvT8DbJbp_Y",
        "outputId": "a04f8541-f522-4fa0-8527-6c7f393b045b"
      },
      "outputs": [
        {
          "data": {
            "text/html": [
              "<html>\n",
              "<head><meta charset=\"utf-8\" /></head>\n",
              "<body>\n",
              "    <div>            <script src=\"https://cdnjs.cloudflare.com/ajax/libs/mathjax/2.7.5/MathJax.js?config=TeX-AMS-MML_SVG\"></script><script type=\"text/javascript\">if (window.MathJax && window.MathJax.Hub && window.MathJax.Hub.Config) {window.MathJax.Hub.Config({SVG: {font: \"STIX-Web\"}});}</script>                <script type=\"text/javascript\">window.PlotlyConfig = {MathJaxConfig: 'local'};</script>\n",
              "        <script charset=\"utf-8\" src=\"https://cdn.plot.ly/plotly-2.24.1.min.js\"></script>                <div id=\"a090c9da-a3ae-4072-b6c9-80b1b32a5238\" class=\"plotly-graph-div\" style=\"height:525px; width:100%;\"></div>            <script type=\"text/javascript\">                                    window.PLOTLYENV=window.PLOTLYENV || {};                                    if (document.getElementById(\"a090c9da-a3ae-4072-b6c9-80b1b32a5238\")) {                    Plotly.newPlot(                        \"a090c9da-a3ae-4072-b6c9-80b1b32a5238\",                        [{\"marker\":{\"color\":[\"#7592ca\",\"#7592ca\",\"#0c0392\",\"#0c0392\",\"#0c0392\",\"#0c0392\",\"#0c0392\",\"#0c0392\",\"#0c0392\",\"#0c0392\",\"#5e229d\",\"#5e229d\",\"#0c0392\",\"#0c0392\",\"#0c0392\",\"#0c0392\",\"#0c0392\",\"#0c0392\",\"#0c0392\",\"#0c0392\",\"#0c0392\",\"#0c0392\",\"#0c0392\",\"#0c0392\",\"#0c0392\",\"#0c0392\",\"#0c0392\",\"#0c0392\",\"#0c0392\",\"#0c0392\",\"#0c0392\",\"#0c0392\",\"#0c0392\",\"#0c0392\",\"#0c0392\",\"#0c0392\",\"#0c0392\",\"#5e229d\",\"#0c0392\",\"#0c0392\",\"#dc8b9d\",\"#0c0392\",\"#0c0392\",\"#0c0392\",\"#0c0392\",\"#0c0392\",\"#0c0392\",\"#0c0392\",\"#0c0392\",\"#0c0392\",\"#0c0392\",\"#0c0392\",\"#0c0392\",\"#0c0392\",\"#0c0392\",\"#0c0392\",\"#0c0392\",\"#0c0392\",\"#0c0392\",\"#0c0392\",\"#0c0392\",\"#0c0392\",\"#0c0392\",\"#0c0392\",\"#d5a6e3\",\"#d5a6e3\",\"#0c0392\",\"#0c0392\",\"#0c0392\",\"#0c0392\",\"#0c0392\",\"#0c0392\",\"#0c0392\",\"#0c0392\",\"#0c0392\",\"#0c0392\",\"#0c0392\",\"#0c0392\",\"#0c0392\",\"#0c0392\",\"#0c0392\",\"#0c0392\",\"#4f1933\",\"#0c0392\",\"#3457a5\",\"#0c0392\",\"#d5a6e3\",\"#0c0392\",\"#0c0392\",\"#0c0392\",\"#0c0392\",\"#0c0392\",\"#0c0392\",\"#0c0392\",\"#0c0392\",\"#0c0392\",\"#0c0392\",\"#0c0392\",\"#7ee443\",\"#7ee443\",\"#0c0392\",\"#dc8b9d\",\"#0c0392\",\"#0c0392\",\"#0c0392\",\"#0c0392\",\"#dc8b9d\",\"#dc8b9d\",\"#dc8b9d\",\"#0c0392\",\"#0c0392\",\"#0c0392\",\"#0c0392\",\"#0c0392\",\"#3457a5\",\"#0c0392\",\"#0c0392\",\"#0c0392\",\"#0c0392\",\"#0c0392\",\"#0c0392\",\"#0c0392\",\"#0c0392\",\"#dc8b9d\",\"#4f1933\",\"#4f1933\",\"#3457a5\",\"#3457a5\",\"#0c0392\",\"#3457a5\",\"#3457a5\",\"#3457a5\",\"#3457a5\",\"#0c0392\",\"#0c0392\",\"#0c0392\",\"#0c0392\",\"#dc8b9d\",\"#dc8b9d\",\"#7ee443\",\"#7ee443\",\"#0c0392\",\"#7ee443\",\"#0c0392\",\"#0c0392\",\"#0c0392\",\"#3457a5\",\"#0c0392\",\"#0c0392\",\"#0c0392\",\"#0c0392\",\"#0c0392\",\"#0c0392\",\"#0c0392\",\"#0c0392\",\"#3457a5\",\"#3457a5\",\"#3457a5\",\"#0c0392\",\"#0c0392\",\"#0c0392\",\"#0c0392\",\"#0c0392\",\"#0c0392\",\"#0c0392\",\"#0c0392\",\"#3457a5\",\"#0c0392\",\"#0c0392\",\"#0c0392\",\"#0c0392\",\"#0c0392\",\"#0c0392\",\"#0c0392\",\"#0c0392\",\"#0c0392\",\"#0c0392\",\"#0c0392\",\"#0c0392\",\"#0c0392\",\"#0c0392\",\"#0c0392\",\"#0c0392\",\"#0c0392\",\"#ee7767\",\"#ee7767\",\"#dc8b9d\",\"#4f1933\",\"#dc8b9d\",\"#dc8b9d\",\"#dc8b9d\",\"#dc8b9d\",\"#dc8b9d\",\"#dc8b9d\",\"#dc8b9d\",\"#dc8b9d\",\"#dc8b9d\",\"#dc8b9d\",\"#dc8b9d\",\"#dc8b9d\",\"#dc8b9d\",\"#dc8b9d\",\"#dc8b9d\",\"#dc8b9d\",\"#dc8b9d\",\"#dc8b9d\",\"#dc8b9d\",\"#dc8b9d\",\"#dc8b9d\",\"#dc8b9d\",\"#dc8b9d\",\"#dc8b9d\",\"#dc8b9d\",\"#4f1933\",\"#4f1933\",\"#4f1933\",\"#dc8b9d\",\"#dc8b9d\",\"#dc8b9d\",\"#dc8b9d\",\"#dc8b9d\",\"#dc8b9d\",\"#dc8b9d\",\"#dc8b9d\",\"#dc8b9d\",\"#dc8b9d\",\"#dc8b9d\",\"#dc8b9d\",\"#dc8b9d\",\"#3457a5\",\"#3457a5\",\"#3457a5\",\"#dc8b9d\",\"#dc8b9d\",\"#dc8b9d\",\"#dc8b9d\",\"#dc8b9d\",\"#dc8b9d\",\"#dc8b9d\",\"#dc8b9d\",\"#dc8b9d\",\"#dc8b9d\",\"#dc8b9d\",\"#dc8b9d\",\"#dc8b9d\",\"#dc8b9d\",\"#0c0392\",\"#dc8b9d\",\"#dc8b9d\",\"#dc8b9d\",\"#dc8b9d\",\"#3457a5\",\"#3457a5\",\"#3457a5\",\"#3457a5\",\"#3457a5\",\"#3457a5\",\"#3457a5\",\"#4f1933\",\"#4f1933\",\"#4f1933\",\"#4f1933\",\"#4f1933\",\"#dada47\",\"#dada47\",\"#3457a5\",\"#3457a5\",\"#3457a5\",\"#3457a5\",\"#3457a5\",\"#3457a5\",\"#3457a5\",\"#3457a5\",\"#3457a5\",\"#3457a5\",\"#3457a5\",\"#3457a5\",\"#3457a5\",\"#3457a5\",\"#3457a5\",\"#3457a5\",\"#3457a5\",\"#3457a5\",\"#3457a5\",\"#3457a5\",\"#3457a5\",\"#3457a5\",\"#3457a5\",\"#3457a5\",\"#3457a5\",\"#3457a5\",\"#dc8b9d\",\"#3457a5\",\"#3457a5\",\"#3457a5\",\"#4f1933\",\"#4f1933\",\"#3457a5\",\"#3457a5\",\"#3457a5\",\"#0c0392\",\"#3457a5\",\"#0c0392\",\"#3457a5\",\"#3457a5\",\"#3457a5\",\"#3457a5\",\"#3457a5\",\"#3457a5\",\"#3457a5\",\"#3457a5\",\"#3457a5\",\"#3457a5\",\"#3457a5\",\"#3457a5\",\"#3457a5\",\"#3457a5\",\"#3457a5\",\"#3457a5\",\"#0c0392\",\"#3457a5\",\"#3457a5\",\"#3457a5\",\"#3457a5\",\"#3457a5\",\"#3457a5\",\"#0c0392\",\"#3457a5\",\"#3457a5\",\"#3457a5\",\"#3457a5\",\"#3457a5\",\"#3457a5\",\"#3457a5\",\"#3457a5\",\"#3457a5\",\"#3457a5\",\"#3457a5\",\"#3457a5\",\"#3457a5\",\"#3457a5\",\"#07f16b\",\"#3457a5\",\"#3457a5\",\"#3457a5\",\"#3457a5\",\"#3457a5\",\"#3457a5\",\"#3457a5\",\"#3457a5\",\"#3457a5\",\"#3457a5\",\"#3457a5\",\"#4f1933\",\"#3457a5\",\"#3457a5\",\"#3457a5\",\"#3457a5\",\"#3457a5\",\"#2af367\",\"#2af367\",\"#3457a5\",\"#0c0392\",\"#0c0392\",\"#0c0392\",\"#3457a5\",\"#3457a5\",\"#3457a5\",\"#dc8b9d\",\"#dc8b9d\",\"#dc8b9d\",\"#4f1933\",\"#dc8b9d\",\"#dc8b9d\",\"#0c0392\",\"#0c0392\",\"#0c0392\",\"#0c0392\",\"#0c0392\",\"#0c0392\",\"#0c0392\",\"#0c0392\",\"#4f1933\",\"#4f1933\",\"#0c0392\",\"#0c0392\",\"#0c0392\",\"#0c0392\",\"#0c0392\",\"#0c0392\",\"#0c0392\",\"#0c0392\",\"#0c0392\",\"#07f16b\",\"#f5c6b5\",\"#f5c6b5\",\"#ff3585\",\"#ff3585\",\"#0c0392\",\"#0c0392\",\"#0c0392\",\"#0c0392\",\"#0c0392\",\"#0c0392\",\"#0c0392\",\"#0c0392\",\"#0c0392\",\"#4f1933\",\"#0c0392\",\"#0c0392\",\"#dc8b9d\",\"#0c0392\",\"#0c0392\",\"#07f16b\",\"#0c0392\",\"#0c0392\",\"#0c0392\",\"#0c0392\",\"#0c0392\",\"#0c0392\",\"#0c0392\",\"#0c0392\",\"#07f16b\",\"#0c0392\",\"#07f16b\",\"#0c0392\",\"#07f16b\",\"#0c0392\",\"#0c0392\",\"#0c0392\",\"#0c0392\",\"#07f16b\",\"#07f16b\",\"#0c0392\",\"#0c0392\",\"#0c0392\",\"#0c0392\",\"#0c0392\",\"#4f1933\",\"#0c0392\",\"#4f1933\",\"#0c0392\",\"#07f16b\",\"#07f16b\",\"#07f16b\",\"#07f16b\",\"#3457a5\",\"#07f16b\",\"#07f16b\",\"#4f1933\",\"#0c0392\",\"#3457a5\",\"#3457a5\",\"#07f16b\",\"#3457a5\",\"#706cfb\",\"#706cfb\",\"#dada47\",\"#dada47\",\"#3457a5\",\"#dc8b9d\",\"#3457a5\",\"#4f1933\",\"#dc8b9d\",\"#0c0392\",\"#dc8b9d\",\"#4f1933\",\"#4f1933\",\"#4f1933\",\"#dc8b9d\",\"#dc8b9d\",\"#dc8b9d\",\"#dc8b9d\",\"#dc8b9d\",\"#dc8b9d\",\"#2af367\",\"#dc8b9d\",\"#dc8b9d\",\"#dc8b9d\",\"#3457a5\",\"#3457a5\",\"#daa7f2\",\"#daa7f2\",\"#3457a5\",\"#3457a5\",\"#3457a5\",\"#3457a5\",\"#3457a5\",\"#3457a5\",\"#3457a5\",\"#3457a5\",\"#3457a5\",\"#3457a5\",\"#3457a5\",\"#3457a5\",\"#3457a5\",\"#3457a5\",\"#3457a5\",\"#3457a5\",\"#3457a5\",\"#3457a5\",\"#3457a5\",\"#07f16b\",\"#3457a5\",\"#4f1933\",\"#4f1933\",\"#3457a5\",\"#3457a5\",\"#3457a5\",\"#3457a5\",\"#3457a5\",\"#3457a5\",\"#3457a5\",\"#3457a5\",\"#3457a5\",\"#3457a5\",\"#3457a5\",\"#3457a5\",\"#e1f2e5\",\"#e1f2e5\",\"#3457a5\",\"#3457a5\",\"#2af367\",\"#2af367\",\"#2af367\",\"#2af367\",\"#2af367\",\"#2af367\",\"#2af367\",\"#2af367\",\"#2af367\",\"#2af367\",\"#2af367\",\"#2af367\",\"#2af367\",\"#2af367\",\"#2af367\",\"#2af367\",\"#2af367\",\"#2af367\",\"#2af367\",\"#2af367\",\"#2af367\",\"#2af367\",\"#2af367\",\"#2af367\",\"#2af367\",\"#2af367\",\"#2af367\",\"#2af367\",\"#2af367\",\"#2af367\",\"#2af367\",\"#2af367\",\"#2af367\",\"#2af367\",\"#2af367\",\"#2af367\",\"#2af367\",\"#2af367\",\"#2af367\",\"#2af367\",\"#2af367\",\"#2af367\",\"#2af367\",\"#2af367\",\"#2af367\",\"#2af367\",\"#2af367\",\"#2af367\",\"#2af367\",\"#2af367\",\"#2af367\",\"#2af367\",\"#2af367\",\"#2af367\",\"#2af367\",\"#2af367\",\"#2af367\",\"#3bcd58\",\"#3bcd58\",\"#dc8b9d\",\"#1e492f\",\"#1e492f\",\"#0c0392\",\"#0c0392\",\"#0c0392\",\"#dc8b9d\",\"#0c0392\",\"#dc8b9d\",\"#0c0392\",\"#dc8b9d\",\"#dc8b9d\",\"#0c0392\",\"#0c0392\",\"#07f16b\",\"#dc8b9d\",\"#07f16b\",\"#07f16b\",\"#07f16b\",\"#3457a5\",\"#07f16b\",\"#07f16b\",\"#3457a5\",\"#0c0392\",\"#dc8b9d\",\"#3457a5\",\"#dc8b9d\",\"#dc8b9d\",\"#2af367\",\"#2af367\",\"#07f16b\",\"#07f16b\",\"#dc8b9d\",\"#dc8b9d\",\"#0c0392\",\"#0c0392\",\"#0c0392\",\"#0c0392\",\"#0c0392\",\"#0c0392\",\"#0c0392\",\"#dc8b9d\",\"#dc8b9d\",\"#dc8b9d\",\"#dc8b9d\",\"#dc8b9d\",\"#dc8b9d\",\"#dc8b9d\",\"#dc8b9d\",\"#dc8b9d\",\"#dc8b9d\",\"#0c0392\",\"#3457a5\",\"#3457a5\",\"#dc8b9d\",\"#dc8b9d\",\"#4f1933\",\"#dc8b9d\",\"#dc8b9d\",\"#dc8b9d\",\"#dc8b9d\",\"#dc8b9d\",\"#dc8b9d\",\"#dc8b9d\",\"#dc8b9d\",\"#dc8b9d\",\"#dc8b9d\",\"#2af367\",\"#dc8b9d\",\"#dc8b9d\",\"#dc8b9d\",\"#2af367\",\"#2af367\",\"#2af367\",\"#2af367\",\"#6d53db\",\"#6d53db\",\"#dc8b9d\",\"#dc8b9d\",\"#3457a5\",\"#4f1933\",\"#4f1933\",\"#4f1933\",\"#3457a5\",\"#4f1933\",\"#dc8b9d\",\"#4f1933\",\"#4f1933\",\"#4f1933\",\"#4f1933\",\"#4f1933\",\"#dc8b9d\",\"#0c0392\",\"#0c0392\",\"#0c0392\",\"#7ee443\",\"#dc8b9d\",\"#dc8b9d\",\"#dc8b9d\",\"#dc8b9d\",\"#dc8b9d\",\"#0c0392\",\"#2af367\",\"#0c0392\",\"#0c0392\",\"#0c0392\",\"#0c0392\",\"#2e731b\",\"#0c0392\",\"#2e731b\",\"#2e731b\",\"#2e731b\",\"#0c0392\",\"#0c0392\",\"#0c0392\",\"#dc8b9d\",\"#71b1ec\",\"#71b1ec\",\"#0c0392\",\"#0c0392\",\"#0c0392\",\"#0c0392\",\"#0c0392\",\"#0c0392\",\"#0c0392\",\"#4f1933\",\"#0c0392\",\"#dc8b9d\",\"#dc8b9d\",\"#2af367\",\"#2af367\",\"#4f1933\",\"#4f1933\",\"#2af367\",\"#ba29b0\",\"#ba29b0\",\"#dc8b9d\",\"#dc8b9d\",\"#dc8b9d\",\"#dc8b9d\",\"#3457a5\",\"#dc8b9d\",\"#3457a5\",\"#3457a5\",\"#3457a5\",\"#3457a5\",\"#3457a5\",\"#3457a5\",\"#3457a5\",\"#3457a5\",\"#3457a5\",\"#3457a5\",\"#3457a5\",\"#3457a5\",\"#3457a5\",\"#3457a5\",\"#3457a5\",\"#3457a5\",\"#3457a5\",\"#3457a5\",\"#3457a5\",\"#3457a5\",\"#3457a5\",\"#3457a5\",\"#3457a5\",\"#3457a5\",\"#3457a5\",\"#3457a5\",\"#3457a5\",\"#3457a5\",\"#3457a5\",\"#3457a5\",\"#2af367\",\"#dc8b9d\",\"#4f1933\",\"#dc8b9d\",\"#3457a5\",\"#0c0392\",\"#0c0392\",\"#30b909\",\"#30b909\",\"#0c0392\",\"#0c0392\",\"#4f1933\",\"#4f1933\",\"#4f1933\",\"#07f16b\",\"#07f16b\",\"#07f16b\",\"#4f1933\",\"#07f16b\",\"#0c0392\",\"#4f1933\",\"#3457a5\",\"#4f1933\",\"#dc8b9d\",\"#dc8b9d\",\"#4f1933\",\"#dc8b9d\",\"#dc8b9d\",\"#4f1933\",\"#4f1933\",\"#dc8b9d\",\"#07f16b\",\"#3457a5\",\"#3457a5\",\"#0c0392\",\"#3457a5\",\"#3457a5\",\"#3457a5\",\"#9991f6\",\"#9991f6\",\"#07f16b\",\"#3457a5\",\"#2af367\",\"#2af367\",\"#2af367\",\"#ceaaa3\",\"#ceaaa3\",\"#2af367\",\"#2af367\",\"#dc8b9d\",\"#07f16b\",\"#07f16b\",\"#0c0392\",\"#0c0392\",\"#0c0392\",\"#dc8b9d\",\"#07f16b\",\"#07f16b\",\"#0c0392\",\"#0c0392\",\"#0c0392\",\"#0c0392\",\"#07f16b\",\"#2af367\",\"#ee670e\",\"#ee670e\",\"#07f16b\",\"#07f16b\",\"#07f16b\",\"#4f1933\",\"#4f1933\",\"#2af367\",\"#4f1933\",\"#dc8b9d\",\"#dc8b9d\"],\"size\":10},\"mode\":\"markers\",\"x\":[0.19882163405418396,0.26011383533477783,0.1137942373752594,-0.02143864519894123,-0.018931284546852112,-0.07448367774486542,-0.08100781589746475,-0.031163062900304794,-0.06223311647772789,-0.06005999073386192,0.20714068412780762,0.14205995202064514,-0.06626534461975098,0.048777539283037186,-0.06794991344213486,-0.07315642386674881,-0.05662601441144943,-0.05774379521608353,-0.060942620038986206,-0.06763062626123428,-0.0398833230137825,-0.04224870353937149,0.0525454618036747,-0.05054066702723503,-0.06451667100191116,-0.06120362505316734,0.015819931402802467,-0.011552990414202213,0.009826225228607655,-0.12572182714939117,-0.09807873517274857,-0.0653175413608551,-0.05713605135679245,-0.086325503885746,-0.06193535774946213,-0.07870342582464218,-0.07598629593849182,0.04811824858188629,-0.0633632019162178,-0.07785435020923615,-0.03360065072774887,-0.0950186625123024,-0.07587677240371704,-0.11350195854902267,-0.10230764001607895,-0.07557863742113113,-0.07412508130073547,-0.06186862289905548,-0.05248958617448807,-0.0519510880112648,-0.0765380710363388,-0.05264124274253845,-0.05959150195121765,-0.07218927890062332,-0.08562767505645752,-0.0790272206068039,-0.11788416653871536,-0.09414590895175934,-0.09836671501398087,-0.08723378926515579,-0.05973802134394646,-0.0804557129740715,-0.06332507729530334,-0.09814903140068054,-0.2262507528066635,-0.16514484584331512,-0.04910235106945038,-0.042652569711208344,-0.05626203864812851,-0.033422261476516724,-0.03582396358251572,-0.026142150163650513,-0.06302624195814133,-0.050694726407527924,-0.02275870554149151,-0.04370986297726631,-0.039096761494874954,-0.10422562807798386,-0.12640120089054108,-0.04090019688010216,-0.047881435602903366,-0.045682135969400406,-0.08819237351417542,-0.07742436230182648,0.03900336101651192,-0.03334133327007294,-0.07658796012401581,-0.02405340038239956,-0.016832096502184868,-0.016538038849830627,-0.01298013236373663,-0.03057512454688549,-0.03776714950799942,-0.03367745503783226,-0.003954641055315733,-0.07386232167482376,-0.02876107580959797,-0.02547675371170044,0.26548391580581665,0.20700043439865112,-0.051051679998636246,-0.06622447073459625,-0.04720635712146759,-0.06639336794614792,-0.049432359635829926,0.0031169888097792864,-0.076795794069767,-0.008991923183202744,-0.03286656364798546,-0.00983278825879097,-0.010056465864181519,-0.025563325732946396,-0.01971207559108734,0.023910503834486008,-0.02079644426703453,-0.0030203082133084536,0.010965092107653618,0.01544137392193079,0.20528598129749298,0.13575346767902374,-0.007356329821050167,-0.011623065918684006,0.004510435741394758,-0.012668544426560402,-0.2024080902338028,-0.17156073451042175,0.01703551597893238,0.06099794805049896,0.06151619181036949,-0.02751731313765049,-0.07010246813297272,0.014122339896857738,0.021196117624640465,0.03098529763519764,0.03141132369637489,0.03744442015886307,0.03946108743548393,-0.11246012151241302,-0.044235460460186005,0.1901724934577942,0.1644221991300583,0.16525167226791382,0.19656935334205627,0.13841290771961212,0.03538469597697258,-0.010200133547186852,-0.14593972265720367,0.045866843312978745,0.09271987527608871,0.05771607905626297,0.041031792759895325,0.050364259630441666,0.05617621913552284,0.07478511333465576,0.05556466430425644,0.03770780563354492,0.0167342908680439,3.306033613625914e-05,0.10583612322807312,0.08051266521215439,0.08016844838857651,0.10270626097917557,0.029012909159064293,0.08625690639019012,0.06115792691707611,0.08944083750247955,0.02375943213701248,0.11484990268945694,0.1185242235660553,0.11808110773563385,0.13916070759296417,0.10497940331697464,0.12929946184158325,0.12286704778671265,0.1473538875579834,0.12509693205356598,0.11991427838802338,0.09707190096378326,0.09345731884241104,0.11296084523200989,0.10573050379753113,0.1224774569272995,0.12358000129461288,0.12451814860105515,0.33461660146713257,0.3404356837272644,-0.10661859065294266,-0.15257267653942108,-0.13141410052776337,-0.07860538363456726,-0.026439614593982697,-0.03271514177322388,-0.051394738256931305,-0.039552975445985794,-0.034937310963869095,-0.03296659514307976,-0.034832634031772614,-0.048733122646808624,-0.05462516471743584,-0.027540499344468117,-0.03874870389699936,-0.035227108746767044,-0.04136775806546211,-0.035751815885305405,-0.06182870641350746,-0.1171175166964531,-0.1301068514585495,-0.05306307598948479,-0.025378871709108353,-0.051267389208078384,-0.04104852303862572,-0.04389837011694908,-0.0538766048848629,-0.1978759765625,-0.20942582190036774,-0.24582940340042114,-0.1365116983652115,-0.06527918577194214,-0.019344359636306763,-0.028741491958498955,-0.017258958891034126,-0.025021418929100037,-0.031673822551965714,-0.0376509353518486,-0.031172527000308037,-0.048702992498874664,-0.008797448128461838,-0.0381142683327198,-0.04007731005549431,0.2071429044008255,0.2158580720424652,0.15699757635593414,-0.08157579600811005,-0.04355775937438011,-0.05760768800973892,-0.030121363699436188,-0.018390756100416183,-0.028400389477610588,-0.014093566685914993,-0.04912656173110008,-0.01895989291369915,-0.05232933536171913,-0.02551192231476307,0.0065017323940992355,-0.07123412936925888,-0.05184418335556984,-0.05766325071454048,-0.045048218220472336,-0.05511742830276489,-0.055274154990911484,-0.036646850407123566,0.16619497537612915,0.2541561424732208,0.20226553082466125,0.1734100580215454,0.19587822258472443,0.14248883724212646,0.11172578483819962,-0.09181784093379974,-0.013591479510068893,-0.12359636276960373,-0.09667393565177917,-0.12941357493400574,0.27188870310783386,0.230209082365036,0.15185071527957916,0.12607190012931824,0.10316053032875061,0.11533982306718826,0.09859771281480789,0.08722834289073944,0.11041755229234695,0.1349845975637436,0.08944465965032578,-0.02073132060468197,0.08670613169670105,0.18328872323036194,0.02410849556326866,0.13237355649471283,0.10265929996967316,0.05203913524746895,0.060202743858098984,0.09797535836696625,0.03503584861755371,0.028320996090769768,0.030637329444289207,0.02596409246325493,-0.0012520344462245703,0.05413835495710373,0.00039367680437862873,-0.004834778606891632,0.00910055823624134,-0.08089621365070343,-0.04375071823596954,-0.10628852993249893,-0.16349001228809357,-0.10552319884300232,0.1667099893093109,0.08085018396377563,0.22228866815567017,-0.18480417132377625,0.2430603951215744,-0.028360728174448013,0.01092377956956625,0.02236013486981392,0.033617742359638214,0.016544699668884277,0.02282659336924553,-0.0046083275228738785,0.023680849000811577,0.019195817410945892,0.0425870455801487,0.05306897684931755,0.031580012291669846,0.044417835772037506,-0.009897599928081036,0.039636168628931046,0.0571182556450367,0.058623719960451126,-0.18837614357471466,0.026258500292897224,0.02878214232623577,0.05001908540725708,0.012339855544269085,-0.02673431485891342,-0.013452420942485332,0.0733475312590599,-0.02579578198492527,0.0374801829457283,0.02099861577153206,0.009362246841192245,-0.07929078489542007,-0.02019692398607731,-0.0040209670551121235,0.0008548904443159699,0.03719564154744148,0.012324013747274876,-0.015293515287339687,0.04072457179427147,0.10384281724691391,0.032898012548685074,0.10654918849468231,-0.12039552628993988,-0.1309654861688614,-0.12648583948612213,0.058637626469135284,0.03232822194695473,0.05693405866622925,0.028663886711001396,0.026493839919567108,0.03357795253396034,-0.00039306149119511247,-0.03448406979441643,-0.018193772062659264,0.00481022521853447,0.20773974061012268,0.15157219767570496,0.02677133120596409,0.016245799139142036,-0.09014277905225754,-0.14921781420707703,0.01957986317574978,0.16053828597068787,0.191329225897789,0.14988991618156433,0.08584523946046829,0.05886460468173027,-0.04245202988386154,-0.04834406450390816,-0.007604570593684912,-0.09558302164077759,-0.03460974618792534,-0.07829409837722778,-0.0667577013373375,-0.12735587358474731,0.12157244980335236,0.11513755470514297,0.12588302791118622,0.1265472024679184,0.1222626268863678,0.10454872995615005,0.09405349940061569,-0.13535450398921967,-0.15365058183670044,0.0790085569024086,0.09874404221773148,0.10463479906320572,0.10607105493545532,0.13023138046264648,0.1182888001203537,0.12499591708183289,0.12362033873796463,0.13277187943458557,0.12506534159183502,-0.6638852953910828,-0.637391984462738,-0.8067525029182434,-0.8407343626022339,0.13574156165122986,0.1255217343568802,0.11120238900184631,0.13426224887371063,0.10863026231527328,0.10139051079750061,0.11386629939079285,0.07142915576696396,0.07367338985204697,-0.1268714964389801,0.0995144173502922,0.07888637483119965,0.05821746215224266,0.11674275249242783,0.10130536556243896,0.1863596886396408,0.11943160742521286,0.10713757574558258,0.13978946208953857,0.13192741572856903,0.1368085741996765,0.12263564020395279,0.1262146532535553,0.06835267692804337,0.11705715954303741,0.13958925008773804,0.04812021926045418,0.12482091784477234,0.14611300826072693,0.1646154224872589,0.09014653414487839,0.08824999630451202,0.08178972452878952,0.08546622842550278,0.13857384026050568,0.10712122917175293,0.0793110728263855,0.09609698504209518,0.08369220048189163,0.13050250709056854,0.07862599194049835,0.06751842051744461,0.03157024458050728,0.08370185643434525,0.17509569227695465,0.1669331043958664,0.14951542019844055,0.20952817797660828,0.09168903529644012,0.09360743314027786,0.10336647182703018,-0.011248229071497917,0.15086142718791962,0.02265024557709694,0.03053188882768154,0.09931746125221252,0.048518624156713486,0.8435794711112976,0.8426305651664734,0.31026169657707214,0.27889499068260193,-0.03699219971895218,-0.07268154621124268,0.00846613198518753,-0.04188936948776245,-0.04300050809979439,0.1010700985789299,0.0024599917232990265,-0.12791699171066284,-0.14469948410987854,-0.08277498930692673,0.02531796507537365,0.006994834169745445,-0.017335334792733192,0.004118116572499275,0.00917297787964344,0.028810933232307434,-0.09433278441429138,-0.04656125605106354,0.0027703780215233564,-0.032087910920381546,-0.07802802324295044,-0.03699290379881859,0.8331215977668762,0.8225622773170471,0.12061826139688492,0.11725276708602905,-0.012953449040651321,0.011302541941404343,-0.002804913092404604,0.015127178281545639,-0.021200016140937805,0.0015735157066956162,-0.05782769247889519,-0.0408652201294899,-0.01139670331031084,-0.02621600590646267,-0.018881240859627724,-0.0031788123305886984,-0.025278937071561813,-0.0449417419731617,-0.04870575666427612,-0.0006066986243240535,0.019351517781615257,0.09834303706884384,-0.02277078665792942,-0.22124464809894562,-0.2716991603374481,-0.06900307536125183,-0.04892523214221001,-0.10096865147352219,-0.009738080203533173,-0.013208908028900623,-0.0036817786749452353,-0.009978712536394596,-0.02665647491812706,-0.04126765951514244,-0.03330540284514427,-0.019036883488297462,0.05917022377252579,0.38937732577323914,0.40168389678001404,0.018009962514042854,0.04508517310023308,-0.12473513185977936,-0.11156847327947617,-0.18072988092899323,-0.2162671685218811,-0.16505393385887146,-0.16760236024856567,-0.17743434011936188,-0.1690327674150467,-0.1638135313987732,-0.20722933113574982,-0.16293483972549438,-0.17425768077373505,-0.16565638780593872,-0.20404106378555298,-0.17356297373771667,-0.1580149233341217,-0.13824990391731262,-0.17964087426662445,-0.1722615361213684,-0.19101275503635406,-0.15806196630001068,-0.15479886531829834,-0.16332903504371643,-0.16910320520401,-0.1371563822031021,-0.16143372654914856,-0.1672789454460144,-0.1412513703107834,-0.19365596771240234,-0.16008515655994415,-0.167159765958786,-0.16572585701942444,-0.15033356845378876,-0.17998376488685608,-0.17518830299377441,-0.15469270944595337,-0.1660906821489334,-0.16014701128005981,-0.20978710055351257,-0.13656750321388245,-0.15680301189422607,-0.0784679651260376,-0.16037017107009888,-0.17397791147232056,-0.16467314958572388,-0.13041962683200836,-0.17810271680355072,-0.17422181367874146,-0.19683344662189484,-0.21767716109752655,-0.1863982081413269,-0.2157166451215744,-0.19241732358932495,-0.1767968237400055,-0.18403981626033783,-0.1511598825454712,-0.11877293139696121,1.0,0.9681728482246399,0.017739443108439445,-0.1562555879354477,-0.145491823554039,0.14442303776741028,0.08726875483989716,0.12335823476314545,0.04497365653514862,0.0946580022573471,0.040375351905822754,0.08071272820234299,0.04941485822200775,0.06370624154806137,0.09852028638124466,0.14449293911457062,0.19267286360263824,-0.014754373580217361,0.0837114229798317,0.10858474671840668,0.053269486874341965,0.03848213329911232,0.12268941104412079,0.15799261629581451,0.005725678987801075,0.10061635822057724,-0.10520972311496735,-0.06326951086521149,-0.07086332887411118,-0.10815205425024033,-0.15410900115966797,-0.1447582244873047,0.09938657283782959,0.11678703129291534,-0.00023169581254478544,0.019186167046427727,0.1354362517595291,0.16904442012310028,0.17337378859519958,0.1457693725824356,0.1482023149728775,0.13761557638645172,0.15371555089950562,0.021254172548651695,0.009248816408216953,0.05609320104122162,0.011641808785498142,0.027564233168959618,0.03326334431767464,0.007831119000911713,0.006416488438844681,0.05187017098069191,0.031552042812108994,0.20943507552146912,0.05771547183394432,-0.042566582560539246,0.015870992094278336,-0.00674908421933651,-0.11126278340816498,0.022217130288481712,-0.026596887037158012,-0.052063435316085815,0.0666104108095169,0.035172075033187866,0.02755901776254177,0.17131619155406952,0.11495421081781387,0.04300244152545929,-0.04049666225910187,-0.21383628249168396,-0.1009528636932373,-0.09254434704780579,-0.06240822374820709,-0.20161262154579163,-0.13608112931251526,-0.15520355105400085,-0.19384396076202393,0.6148634552955627,0.6038440465927124,-0.030269671231508255,-0.08221068978309631,-0.036447010934352875,-0.325673371553421,-0.3786594569683075,-0.24922405183315277,-0.043830931186676025,-0.08608577400445938,-0.1136387437582016,-0.058335140347480774,-0.06737122684717178,-0.006190564949065447,0.022940825670957565,-0.18743468821048737,-0.09111412614583969,0.1559961438179016,0.08733759075403214,0.20527395606040955,0.21649567782878876,0.04567047581076622,0.03532746434211731,0.02925070933997631,0.06555021554231644,0.0441431924700737,0.07680285722017288,-0.0642150342464447,-0.11157871782779694,-0.0991196483373642,-0.08286987245082855,-0.14740245044231415,-0.07865860313177109,-0.10370852798223495,-0.05703141167759895,-0.05304853618144989,-0.07810425758361816,-0.08762059360742569,-0.03920162469148636,-0.06125830113887787,-0.19294975697994232,-0.7361710071563721,-0.7603505253791809,0.1837088018655777,0.24046233296394348,0.20091167092323303,0.07567152380943298,0.04775605723261833,0.06309046596288681,0.06934169679880142,0.026949280872941017,0.10615432262420654,-0.1577616184949875,-0.10098452866077423,-0.16022366285324097,-0.1596747636795044,-0.17137454450130463,-0.24717077612876892,-0.1624356061220169,-0.731711745262146,-0.7133667469024658,-0.14582127332687378,-0.20017662644386292,-0.08851037919521332,-0.12635213136672974,0.07344816625118256,-0.19976845383644104,0.05000240355730057,0.07987519353628159,0.07074372470378876,0.19134801626205444,0.14167439937591553,0.21080061793327332,0.12846466898918152,0.1584838479757309,-0.007892434485256672,0.07017479091882706,0.07962699979543686,0.07586877048015594,0.08200285583734512,0.027682937681674957,0.05217839032411575,0.002088123932480812,0.09281664341688156,0.08699360489845276,-0.060407500714063644,0.07327383011579514,0.07457061856985092,0.004496000241488218,0.07441993802785873,-0.06455531716346741,0.10367251932621002,0.07226135581731796,0.06520736217498779,-0.0038329672534018755,0.042545709758996964,0.05092545598745346,-0.18897613883018494,-0.12223819643259048,-0.1027984619140625,-0.08746377378702164,0.08128754049539566,0.16038602590560913,0.11996147036552429,-0.8736603856086731,-0.9040213823318481,0.1275167167186737,0.15713365375995636,0.05619334802031517,-0.046193793416023254,-0.05766163766384125,0.12062682211399078,0.19868415594100952,0.24193184077739716,-0.06432627141475677,0.10374657064676285,0.10802920162677765,-0.015872037038207054,0.13903376460075378,-0.1830996572971344,-0.1122184544801712,-0.09539470076560974,-0.22270293533802032,0.045709285885095596,0.10471279174089432,-0.22607669234275818,-0.21157421171665192,-0.09613234549760818,0.0816149041056633,-0.06937547773122787,-0.07642067223787308,0.24829919636249542,-0.11320675164461136,-0.010134999640285969,0.07004100829362869,-0.3771290183067322,-0.36669278144836426,0.07524633407592773,0.1323528289794922,-0.18577708303928375,-0.18272647261619568,-0.17335256934165955,0.9025362133979797,0.8798405528068542,-0.18232811987400055,-0.19734765589237213,0.15138991177082062,0.15937668085098267,0.21409091353416443,0.07112985849380493,0.11921367049217224,0.1710779368877411,-0.01070427242666483,0.1946679651737213,0.19583790004253387,0.17416149377822876,0.16593441367149353,0.15805602073669434,0.20805859565734863,0.13206890225410461,-0.2062198519706726,-0.7895188331604004,-0.7830512523651123,0.19451501965522766,0.1395803838968277,0.14791588485240936,-0.0014400436775758862,-0.05278541147708893,-0.2185361534357071,-0.08202547580003738,0.06580997258424759,0.06706253439188004],\"y\":[0.20903067290782928,0.273731529712677,0.11644802987575531,0.2740510404109955,0.2076702117919922,0.12439830601215363,0.09510822594165802,0.11068440228700638,0.09993436187505722,0.10963752120733261,-0.22360333800315857,-0.18023857474327087,0.1512046903371811,0.1443977802991867,0.1851748526096344,0.09711797535419464,0.06776133924722672,0.07836602628231049,0.09288571774959564,0.06750110536813736,0.12439893186092377,0.08178924024105072,0.12866877019405365,0.13016080856323242,0.11345810443162918,0.08148675411939621,0.12303919345140457,0.10611991584300995,0.1123698502779007,0.21681445837020874,0.16749918460845947,0.05426650866866112,-0.03962681069970131,-0.0004714413662441075,0.014266710728406906,0.018365515395998955,-0.022330570966005325,-0.11765344440937042,-0.0777992308139801,-0.04299148917198181,-0.08825962245464325,-0.0295817069709301,-0.011246182955801487,-0.016462985426187515,0.006688558962196112,0.11126356571912766,0.09637264162302017,0.07369311153888702,0.1018391102552414,0.12623342871665955,0.07586787641048431,0.08628441393375397,0.06771807372570038,0.09296393394470215,0.08327343314886093,0.03545341268181801,0.1527114063501358,0.017792219296097755,-0.006616069469600916,-0.005935474298894405,0.033843785524368286,0.013856415636837482,0.03628900647163391,0.11617838591337204,0.40618228912353516,0.3493135869503021,0.1033986434340477,0.11792651563882828,0.10539175570011139,0.06473566591739655,0.12527337670326233,0.09289529174566269,0.05058172345161438,0.10943133383989334,0.1324026882648468,0.11432909965515137,0.11719466745853424,0.0062536015175282955,-0.05069141462445259,-0.005876949988305569,0.06975941359996796,0.07772533595561981,-0.11231151968240738,0.02282668463885784,0.052050407975912094,0.0244609322398901,0.2674679160118103,0.13624465465545654,0.18900166451931,0.1638716161251068,0.1338862031698227,0.12402859330177307,0.147732675075531,0.11973690241575241,0.1268940567970276,0.08108078688383102,0.14226031303405762,0.12318401038646698,-0.04096316918730736,-0.017839234322309494,-0.07826210558414459,-0.08605138957500458,-0.07479473203420639,-0.05342860519886017,-0.07329519093036652,0.13834530115127563,-0.09786681085824966,-0.07243645191192627,-0.08494917303323746,0.2683398425579071,0.2180071324110031,0.32932281494140625,0.2450709342956543,0.1949138641357422,0.19407105445861816,0.20615679025650024,0.18828259408473969,0.21826811134815216,-0.02395554631948471,0.0065239956602454185,0.12553530931472778,0.12286429107189178,0.1446668654680252,-0.06167861819267273,-0.4524937570095062,-0.3977365493774414,0.17050272226333618,0.12350951135158539,0.13707998394966125,0.16586486995220184,0.21950741112232208,0.14079101383686066,0.10014752298593521,0.15815766155719757,0.14959502220153809,0.14238117635250092,0.1533980816602707,-0.1865348517894745,-0.11895789206027985,-0.0037134436424821615,-0.011079850606620312,0.006436001043766737,0.0024029419291764498,-0.008589777164161205,0.1416526436805725,0.16855676472187042,0.2766266167163849,0.15828801691532135,0.04287472367286682,0.1418580561876297,0.13897240161895752,0.1615830510854721,0.14310221374034882,0.10881087183952332,0.12050677090883255,0.1070527508854866,0.10944708436727524,0.1346249282360077,0.08317817002534866,0.08518198877573013,0.20025385916233063,0.14971721172332764,0.11712012439966202,0.104462631046772,0.12837868928909302,0.09625057876110077,-0.07086211442947388,0.00415425980463624,0.011502538807690144,0.023731376975774765,0.01725430227816105,-0.007900149561464787,0.006918889004737139,0.008483103476464748,0.033819083124399185,0.006519312970340252,0.03698122873902321,0.07061179727315903,0.1167975515127182,0.10105425864458084,0.035230908542871475,0.05956239998340607,0.03879779204726219,0.03326978161931038,0.8526592254638672,0.8152283430099487,-0.17799390852451324,-0.19777463376522064,-0.17923255264759064,-0.1425117552280426,-0.10055075585842133,-0.10985837131738663,-0.12571287155151367,-0.10386472195386887,-0.10477428883314133,-0.1116475984454155,-0.11741703748703003,-0.10471519827842712,-0.11527615785598755,-0.10191759467124939,-0.10458791255950928,-0.11394945532083511,-0.10744864493608475,-0.11632122099399567,-0.13801246881484985,-0.1897767186164856,-0.20795755088329315,-0.14438311755657196,-0.10418804734945297,-0.1486567109823227,-0.12947849929332733,-0.11286650598049164,-0.1318012923002243,-0.23647983372211456,-0.2520681321620941,-0.27710360288619995,-0.1952926516532898,-0.15963058173656464,-0.09446170181035995,-0.10684406757354736,-0.09054749459028244,-0.10449668020009995,-0.1174735426902771,-0.12108723819255829,-0.10086764395236969,-0.11456631124019623,-0.08246579766273499,-0.10243558138608932,-0.11508739739656448,-0.058490052819252014,-0.03459366410970688,-0.05696047097444534,-0.1340479999780655,-0.09370715171098709,-0.12976066768169403,-0.10924086719751358,-0.09601520001888275,-0.09894101321697235,-0.0899636521935463,-0.1084686666727066,-0.09214230626821518,-0.12080933153629303,-0.12684603035449982,-0.0756530836224556,-0.13767200708389282,-0.10626883059740067,-0.08304136246442795,-0.12550075352191925,-0.11650250107049942,-0.11017455160617828,-0.0986897349357605,-0.023255210369825363,-0.07953408360481262,-0.06163111701607704,-0.03657162934541702,-0.04970617964863777,-0.04455967992544174,-0.0120134511962533,-0.2477038949728012,-0.16896851360797882,-0.3091315031051636,-0.2504814863204956,-0.20670263469219208,0.136299729347229,0.0856633335351944,-0.00046698751975782216,-0.041153449565172195,-0.05528402328491211,-0.03044791705906391,-0.005597387906163931,-0.09302868694067001,-0.06124133989214897,-0.03839651867747307,-0.06003929302096367,-0.15741518139839172,-0.08704701066017151,-0.07378743588924408,-0.10767631232738495,-0.03410474210977554,-0.015650710090994835,-0.08403406292200089,-0.069687120616436,-0.07226916402578354,-0.11913059651851654,-0.12643931806087494,-0.16842058300971985,-0.16761226952075958,-0.16799232363700867,-0.13242687284946442,-0.1017560288310051,-0.06714858114719391,-0.09185972064733505,0.1352410614490509,0.10806398093700409,0.15416844189167023,-0.13860175013542175,-0.06593827158212662,-0.010336995124816895,0.04530568793416023,-0.06994043290615082,-0.12726782262325287,-0.09080223739147186,0.06590878963470459,0.09028635919094086,0.05266227200627327,0.08277672529220581,0.0670117437839508,0.06236507371068001,0.08596817404031754,0.07972956448793411,-0.031689729541540146,0.058018144220113754,0.047361720353364944,0.08296725898981094,0.09231641888618469,0.09502581506967545,0.07785383611917496,0.04606663063168526,0.053402047604322433,-0.13030901551246643,0.039753641933202744,0.04531053826212883,0.0710449293255806,0.11079655587673187,0.07730309665203094,0.10389585047960281,0.07258789241313934,0.12584900856018066,0.08806052058935165,0.07101075351238251,0.08192858099937439,0.02426229976117611,0.10430966317653656,0.10169637948274612,0.09351681172847748,0.10676716268062592,0.11337260901927948,0.15014594793319702,0.12239694595336914,0.09070693701505661,0.1561371386051178,0.03550182282924652,0.03282637521624565,0.026145922020077705,0.03943469002842903,0.050114259123802185,0.05420723557472229,0.07908498495817184,0.08643209934234619,0.11636894196271896,0.1037822961807251,0.129006490111351,0.11399874836206436,0.05568834766745567,0.12074615061283112,0.04633130133152008,0.03319196403026581,0.11115120351314545,0.1370667964220047,0.045104995369911194,-0.006488167215138674,0.130246102809906,0.15445733070373535,0.1364046335220337,0.11036927998065948,0.11229057610034943,0.07132957875728607,0.19386430084705353,-0.07719999551773071,-0.0875481441617012,-0.06628330796957016,-0.09802421927452087,-0.11551589518785477,-0.1003861278295517,-0.12086319923400879,0.06963089108467102,0.10181161761283875,0.0738556757569313,0.08532494306564331,0.07295452058315277,0.05800222232937813,0.1997869610786438,-0.3218175172805786,-0.3576299846172333,0.11823570728302002,0.07818664610385895,0.03948953002691269,0.04419901221990585,0.05195852369070053,0.022396784275770187,0.04785957187414169,0.029347632080316544,0.05609626695513725,0.02517612837255001,0.8633674383163452,0.8629828691482544,-0.48781123757362366,-0.47752875089645386,0.04044916853308678,0.029200216755270958,0.032112862914800644,0.09272207319736481,0.01881112903356552,0.009572172537446022,0.03018770180642605,-0.018797215074300766,-0.006026590708643198,-0.17815980315208435,0.003830856643617153,-0.019133105874061584,-0.030198242515325546,0.004103727173060179,0.006841300521045923,0.09166000038385391,0.012842792086303234,-0.005655257031321526,0.03331538289785385,0.002590836025774479,0.020238585770130157,0.01689281314611435,0.026509014889597893,0.022963983938097954,0.05054946616292,0.05957896634936333,0.08464321494102478,0.053541842848062515,0.08512000739574432,0.06374538689851761,-0.026681704446673393,-0.010975955054163933,-0.01913616620004177,-0.013647209852933884,0.02535034902393818,0.012026406824588776,-0.017897872254252434,-0.00982144195586443,-0.017998676747083664,0.014026390388607979,-0.06753455847501755,-0.028500361368060112,-0.0768079087138176,-0.013526092283427715,0.1613922119140625,0.22211869060993195,0.10595691949129105,0.15943142771720886,-0.02036302350461483,0.026772914454340935,0.03444819897413254,0.12470586597919464,0.07168888300657272,-0.19543467462062836,-0.18753986060619354,0.0015978890005499125,-0.032818976789712906,0.9246405363082886,0.8988744616508484,0.18062077462673187,0.1375444084405899,-0.1909969002008438,-0.19200950860977173,-0.1895928978919983,-0.1496649533510208,-0.11802106350660324,-0.032390426844358444,-0.07256733626127243,-0.3188343048095703,-0.2696531414985657,-0.16935114562511444,-0.058210648596286774,-0.08097688108682632,-0.07181517034769058,-0.08112338930368423,-0.07615131884813309,-0.060676589608192444,-0.06256772577762604,-0.10136338323354721,-0.06650061160326004,-0.1220424622297287,-0.2212681770324707,-0.15645411610603333,0.17854490876197815,0.19095386564731598,-0.1299017071723938,-0.09119047969579697,-0.14262358844280243,-0.12199951708316803,-0.10703171789646149,-0.10186392813920975,-0.15462346374988556,-0.1447421759366989,-0.2889251708984375,-0.22924712300300598,-0.14459580183029175,-0.11606664955615997,-0.15178370475769043,-0.11557431519031525,-0.18153995275497437,-0.13620315492153168,-0.20552025735378265,-0.16398286819458008,-0.13354136049747467,-0.0151481032371521,-0.18160134553909302,-0.2495018094778061,-0.2879027724266052,-0.22506320476531982,-0.11124693602323532,-0.0926629826426506,-0.14832428097724915,-0.07066727429628372,-0.11089108884334564,-0.1420942097902298,-0.20089055597782135,-0.2540963888168335,-0.1878494918346405,-0.1660938709974289,-0.0837627723813057,0.2046586275100708,0.21359670162200928,-0.08705007284879684,-0.10533782094717026,-0.008601276203989983,-0.03805849701166153,-0.02498524822294712,-0.01923545077443123,-0.04763221740722656,-0.031154392287135124,-0.041246604174375534,-0.043097447603940964,-0.05009446665644646,-0.010980512946844101,-0.055213458836078644,-0.034327298402786255,-0.05056194216012955,-0.018557198345661163,-0.05311331897974014,-0.03509010374546051,0.008108335547149181,-0.019209478050470352,-0.035944126546382904,-0.0428740456700325,-0.04003090411424637,-0.06855977326631546,-0.03926920145750046,-0.031084338203072548,-0.041694339364767075,-0.04095666855573654,-0.04526233673095703,-0.06017841398715973,-0.0595964677631855,-0.019534440711140633,-0.03169838711619377,-0.01297621987760067,-0.018099991604685783,-0.03700018674135208,-0.023427017033100128,-0.037632353603839874,-0.030148137360811234,-0.040473684668540955,-0.034878700971603394,-0.016248421743512154,-0.012677864171564579,-0.048660919070243835,-0.01617586985230446,-0.026959633454680443,-0.03398609161376953,0.035740580409765244,0.016747042536735535,-0.024834150448441505,0.006698007695376873,0.03027292713522911,-0.0399058498442173,-0.035612158477306366,-0.05855896323919296,-0.05320664867758751,-0.04640322923660278,-0.07252459228038788,-0.07167702168226242,0.5361981987953186,0.5310587882995605,-0.0688132494688034,0.9457106590270996,0.9826304912567139,-0.05715920776128769,-0.04788012430071831,-0.0451454222202301,-0.05186335742473602,0.007357759401202202,-0.0878216102719307,-0.030729498714208603,-0.046904273331165314,-0.03373831883072853,-0.016293322667479515,0.008190960623323917,0.0848991870880127,-0.09021247923374176,-0.009218196384608746,0.034245505928993225,-0.013053360395133495,-0.08465337008237839,0.015353281982243061,0.062157511711120605,-0.08704441785812378,0.0025128312408924103,-0.21945901215076447,-0.13671110570430756,-0.15698204934597015,-0.14710396528244019,-0.050919309258461,-0.0289236418902874,-0.03031979687511921,0.005046131554991007,-0.12097376585006714,-0.07091222703456879,0.007945957593619823,-0.00832819752395153,-0.007297039031982422,-0.01263720728456974,-0.0035992360208183527,0.013964036479592323,0.023195521906018257,-0.08256445825099945,-0.09595882147550583,-0.05300278216600418,-0.06935981661081314,-0.06368740648031235,-0.06685091555118561,-0.08141256123781204,-0.0887894332408905,-0.049140654504299164,-0.0741327702999115,0.055657606571912766,-0.14744412899017334,-0.1507895588874817,-0.07813315838575363,-0.10401033610105515,-0.1483021378517151,-0.1211642399430275,-0.08462408185005188,-0.13377517461776733,-0.04770539328455925,-0.07179556787014008,-0.07930374890565872,-0.22241538763046265,-0.16884200274944305,-0.0779065415263176,-0.14690576493740082,-0.03710376098752022,-0.11918821185827255,-0.19286075234413147,-0.1372058242559433,-0.1157262995839119,-0.07886607199907303,-0.11349934339523315,-0.08969954401254654,0.643214225769043,0.6656461954116821,-0.06608729064464569,-0.1519576907157898,-0.21090997755527496,-0.3071512281894684,-0.3395620882511139,-0.26265016198158264,-0.21385341882705688,-0.16501253843307495,-0.20512722432613373,-0.163996160030365,-0.1489563137292862,-0.10835353285074234,-0.12990660965442657,-0.13151568174362183,-0.15934021770954132,-0.07320370525121689,-0.035192251205444336,-0.05104752629995346,0.015753544867038727,-0.056626930832862854,-0.09733010083436966,-0.10465103387832642,-0.05897969380021095,-0.045143112540245056,-0.048239585012197495,0.055322859436273575,0.15716713666915894,0.2357100248336792,0.19937965273857117,-0.05656704306602478,0.2686249315738678,0.08922622352838516,0.3553857207298279,0.29622480273246765,0.32312020659446716,0.11713319271802902,0.20408661663532257,0.22740581631660461,-0.23155143857002258,-0.370601087808609,-0.38476845622062683,0.015904851257801056,-0.0361858606338501,-0.03336265683174133,0.2323155403137207,0.17842520773410797,0.15097446739673615,0.1595226377248764,0.14363376796245575,0.16704127192497253,-0.2221323400735855,-0.10268339514732361,-0.09869562089443207,-0.05968392267823219,-0.22699768841266632,-0.16934362053871155,-0.05237026512622833,-0.7986440658569336,-0.8202667236328125,-0.20003734529018402,-0.257088303565979,-0.18136927485466003,-0.18424880504608154,0.07431163638830185,-0.252867728471756,0.04798188805580139,0.06684676557779312,0.06809889525175095,-0.043760996311903,-0.02733372338116169,-0.07655613124370575,-0.03264475613832474,-0.04361412301659584,-0.023519309237599373,0.03541039302945137,0.05047472566366196,-0.09584415704011917,0.05346352607011795,0.025264643132686615,0.04068749025464058,0.01768609695136547,0.08808043599128723,0.0779511108994484,0.12789517641067505,0.08696464449167252,0.08473331481218338,0.03750209882855415,0.08040567487478256,0.19308079779148102,0.08461081236600876,0.09065499156713486,0.10422170907258987,0.1658782809972763,0.173738494515419,0.22219066321849823,-0.05585811287164688,-0.10524734854698181,-0.18123458325862885,-0.14202868938446045,0.09328895807266235,0.12174562364816666,0.04600394144654274,0.7839546203613281,0.76674884557724,0.03754505515098572,0.06102488189935684,-0.032941579818725586,-0.09099848568439484,-0.14330023527145386,0.026706814765930176,0.20574511587619781,0.2613520622253418,-0.04562411829829216,0.21741871535778046,0.022063016891479492,0.18192213773727417,-0.033841487020254135,-0.2511787414550781,-0.18061545491218567,-0.16179580986499786,-0.2946544289588928,-0.06912919878959656,-0.03891139477491379,-0.29277074337005615,-0.2850649058818817,-0.1495690494775772,-0.014117392711341381,-0.26782530546188354,-0.2646442651748657,0.030229222029447556,-0.20699934661388397,-0.17442317306995392,-0.14207743108272552,0.015148675069212914,0.01503102295100689,0.006102545652538538,-0.024114074185490608,-0.022214854136109352,-0.009545261971652508,-0.04706317558884621,0.9814158082008362,1.0,-0.03628561645746231,-0.05973416194319725,-0.005502639804035425,0.06891355663537979,0.10134225338697433,0.0035167981404811144,0.014746935106813908,0.06150040403008461,-0.13202933967113495,0.08990580588579178,0.09521231055259705,0.008597738109529018,0.013230151496827602,-0.01542905904352665,0.12541618943214417,0.02980891615152359,-0.07210244238376617,-0.49525186419487,-0.5009626746177673,0.09634063392877579,0.030140811577439308,0.05694907531142235,-0.09000008553266525,-0.10715324431657791,-0.055676598101854324,-0.2156037986278534,-0.139290452003479,-0.1375078558921814],\"type\":\"scatter\"}],                        {\"title\":{\"text\":\"Community Detection using Greedy Modularity\"},\"xaxis\":{\"title\":{\"text\":\"\"}},\"yaxis\":{\"title\":{\"text\":\"\"}},\"template\":{\"data\":{\"histogram2dcontour\":[{\"type\":\"histogram2dcontour\",\"colorbar\":{\"outlinewidth\":0,\"ticks\":\"\"},\"colorscale\":[[0.0,\"#0d0887\"],[0.1111111111111111,\"#46039f\"],[0.2222222222222222,\"#7201a8\"],[0.3333333333333333,\"#9c179e\"],[0.4444444444444444,\"#bd3786\"],[0.5555555555555556,\"#d8576b\"],[0.6666666666666666,\"#ed7953\"],[0.7777777777777778,\"#fb9f3a\"],[0.8888888888888888,\"#fdca26\"],[1.0,\"#f0f921\"]]}],\"choropleth\":[{\"type\":\"choropleth\",\"colorbar\":{\"outlinewidth\":0,\"ticks\":\"\"}}],\"histogram2d\":[{\"type\":\"histogram2d\",\"colorbar\":{\"outlinewidth\":0,\"ticks\":\"\"},\"colorscale\":[[0.0,\"#0d0887\"],[0.1111111111111111,\"#46039f\"],[0.2222222222222222,\"#7201a8\"],[0.3333333333333333,\"#9c179e\"],[0.4444444444444444,\"#bd3786\"],[0.5555555555555556,\"#d8576b\"],[0.6666666666666666,\"#ed7953\"],[0.7777777777777778,\"#fb9f3a\"],[0.8888888888888888,\"#fdca26\"],[1.0,\"#f0f921\"]]}],\"heatmap\":[{\"type\":\"heatmap\",\"colorbar\":{\"outlinewidth\":0,\"ticks\":\"\"},\"colorscale\":[[0.0,\"#0d0887\"],[0.1111111111111111,\"#46039f\"],[0.2222222222222222,\"#7201a8\"],[0.3333333333333333,\"#9c179e\"],[0.4444444444444444,\"#bd3786\"],[0.5555555555555556,\"#d8576b\"],[0.6666666666666666,\"#ed7953\"],[0.7777777777777778,\"#fb9f3a\"],[0.8888888888888888,\"#fdca26\"],[1.0,\"#f0f921\"]]}],\"heatmapgl\":[{\"type\":\"heatmapgl\",\"colorbar\":{\"outlinewidth\":0,\"ticks\":\"\"},\"colorscale\":[[0.0,\"#0d0887\"],[0.1111111111111111,\"#46039f\"],[0.2222222222222222,\"#7201a8\"],[0.3333333333333333,\"#9c179e\"],[0.4444444444444444,\"#bd3786\"],[0.5555555555555556,\"#d8576b\"],[0.6666666666666666,\"#ed7953\"],[0.7777777777777778,\"#fb9f3a\"],[0.8888888888888888,\"#fdca26\"],[1.0,\"#f0f921\"]]}],\"contourcarpet\":[{\"type\":\"contourcarpet\",\"colorbar\":{\"outlinewidth\":0,\"ticks\":\"\"}}],\"contour\":[{\"type\":\"contour\",\"colorbar\":{\"outlinewidth\":0,\"ticks\":\"\"},\"colorscale\":[[0.0,\"#0d0887\"],[0.1111111111111111,\"#46039f\"],[0.2222222222222222,\"#7201a8\"],[0.3333333333333333,\"#9c179e\"],[0.4444444444444444,\"#bd3786\"],[0.5555555555555556,\"#d8576b\"],[0.6666666666666666,\"#ed7953\"],[0.7777777777777778,\"#fb9f3a\"],[0.8888888888888888,\"#fdca26\"],[1.0,\"#f0f921\"]]}],\"surface\":[{\"type\":\"surface\",\"colorbar\":{\"outlinewidth\":0,\"ticks\":\"\"},\"colorscale\":[[0.0,\"#0d0887\"],[0.1111111111111111,\"#46039f\"],[0.2222222222222222,\"#7201a8\"],[0.3333333333333333,\"#9c179e\"],[0.4444444444444444,\"#bd3786\"],[0.5555555555555556,\"#d8576b\"],[0.6666666666666666,\"#ed7953\"],[0.7777777777777778,\"#fb9f3a\"],[0.8888888888888888,\"#fdca26\"],[1.0,\"#f0f921\"]]}],\"mesh3d\":[{\"type\":\"mesh3d\",\"colorbar\":{\"outlinewidth\":0,\"ticks\":\"\"}}],\"scatter\":[{\"fillpattern\":{\"fillmode\":\"overlay\",\"size\":10,\"solidity\":0.2},\"type\":\"scatter\"}],\"parcoords\":[{\"type\":\"parcoords\",\"line\":{\"colorbar\":{\"outlinewidth\":0,\"ticks\":\"\"}}}],\"scatterpolargl\":[{\"type\":\"scatterpolargl\",\"marker\":{\"colorbar\":{\"outlinewidth\":0,\"ticks\":\"\"}}}],\"bar\":[{\"error_x\":{\"color\":\"#2a3f5f\"},\"error_y\":{\"color\":\"#2a3f5f\"},\"marker\":{\"line\":{\"color\":\"#E5ECF6\",\"width\":0.5},\"pattern\":{\"fillmode\":\"overlay\",\"size\":10,\"solidity\":0.2}},\"type\":\"bar\"}],\"scattergeo\":[{\"type\":\"scattergeo\",\"marker\":{\"colorbar\":{\"outlinewidth\":0,\"ticks\":\"\"}}}],\"scatterpolar\":[{\"type\":\"scatterpolar\",\"marker\":{\"colorbar\":{\"outlinewidth\":0,\"ticks\":\"\"}}}],\"histogram\":[{\"marker\":{\"pattern\":{\"fillmode\":\"overlay\",\"size\":10,\"solidity\":0.2}},\"type\":\"histogram\"}],\"scattergl\":[{\"type\":\"scattergl\",\"marker\":{\"colorbar\":{\"outlinewidth\":0,\"ticks\":\"\"}}}],\"scatter3d\":[{\"type\":\"scatter3d\",\"line\":{\"colorbar\":{\"outlinewidth\":0,\"ticks\":\"\"}},\"marker\":{\"colorbar\":{\"outlinewidth\":0,\"ticks\":\"\"}}}],\"scattermapbox\":[{\"type\":\"scattermapbox\",\"marker\":{\"colorbar\":{\"outlinewidth\":0,\"ticks\":\"\"}}}],\"scatterternary\":[{\"type\":\"scatterternary\",\"marker\":{\"colorbar\":{\"outlinewidth\":0,\"ticks\":\"\"}}}],\"scattercarpet\":[{\"type\":\"scattercarpet\",\"marker\":{\"colorbar\":{\"outlinewidth\":0,\"ticks\":\"\"}}}],\"carpet\":[{\"aaxis\":{\"endlinecolor\":\"#2a3f5f\",\"gridcolor\":\"white\",\"linecolor\":\"white\",\"minorgridcolor\":\"white\",\"startlinecolor\":\"#2a3f5f\"},\"baxis\":{\"endlinecolor\":\"#2a3f5f\",\"gridcolor\":\"white\",\"linecolor\":\"white\",\"minorgridcolor\":\"white\",\"startlinecolor\":\"#2a3f5f\"},\"type\":\"carpet\"}],\"table\":[{\"cells\":{\"fill\":{\"color\":\"#EBF0F8\"},\"line\":{\"color\":\"white\"}},\"header\":{\"fill\":{\"color\":\"#C8D4E3\"},\"line\":{\"color\":\"white\"}},\"type\":\"table\"}],\"barpolar\":[{\"marker\":{\"line\":{\"color\":\"#E5ECF6\",\"width\":0.5},\"pattern\":{\"fillmode\":\"overlay\",\"size\":10,\"solidity\":0.2}},\"type\":\"barpolar\"}],\"pie\":[{\"automargin\":true,\"type\":\"pie\"}]},\"layout\":{\"autotypenumbers\":\"strict\",\"colorway\":[\"#636efa\",\"#EF553B\",\"#00cc96\",\"#ab63fa\",\"#FFA15A\",\"#19d3f3\",\"#FF6692\",\"#B6E880\",\"#FF97FF\",\"#FECB52\"],\"font\":{\"color\":\"#2a3f5f\"},\"hovermode\":\"closest\",\"hoverlabel\":{\"align\":\"left\"},\"paper_bgcolor\":\"white\",\"plot_bgcolor\":\"#E5ECF6\",\"polar\":{\"bgcolor\":\"#E5ECF6\",\"angularaxis\":{\"gridcolor\":\"white\",\"linecolor\":\"white\",\"ticks\":\"\"},\"radialaxis\":{\"gridcolor\":\"white\",\"linecolor\":\"white\",\"ticks\":\"\"}},\"ternary\":{\"bgcolor\":\"#E5ECF6\",\"aaxis\":{\"gridcolor\":\"white\",\"linecolor\":\"white\",\"ticks\":\"\"},\"baxis\":{\"gridcolor\":\"white\",\"linecolor\":\"white\",\"ticks\":\"\"},\"caxis\":{\"gridcolor\":\"white\",\"linecolor\":\"white\",\"ticks\":\"\"}},\"coloraxis\":{\"colorbar\":{\"outlinewidth\":0,\"ticks\":\"\"}},\"colorscale\":{\"sequential\":[[0.0,\"#0d0887\"],[0.1111111111111111,\"#46039f\"],[0.2222222222222222,\"#7201a8\"],[0.3333333333333333,\"#9c179e\"],[0.4444444444444444,\"#bd3786\"],[0.5555555555555556,\"#d8576b\"],[0.6666666666666666,\"#ed7953\"],[0.7777777777777778,\"#fb9f3a\"],[0.8888888888888888,\"#fdca26\"],[1.0,\"#f0f921\"]],\"sequentialminus\":[[0.0,\"#0d0887\"],[0.1111111111111111,\"#46039f\"],[0.2222222222222222,\"#7201a8\"],[0.3333333333333333,\"#9c179e\"],[0.4444444444444444,\"#bd3786\"],[0.5555555555555556,\"#d8576b\"],[0.6666666666666666,\"#ed7953\"],[0.7777777777777778,\"#fb9f3a\"],[0.8888888888888888,\"#fdca26\"],[1.0,\"#f0f921\"]],\"diverging\":[[0,\"#8e0152\"],[0.1,\"#c51b7d\"],[0.2,\"#de77ae\"],[0.3,\"#f1b6da\"],[0.4,\"#fde0ef\"],[0.5,\"#f7f7f7\"],[0.6,\"#e6f5d0\"],[0.7,\"#b8e186\"],[0.8,\"#7fbc41\"],[0.9,\"#4d9221\"],[1,\"#276419\"]]},\"xaxis\":{\"gridcolor\":\"white\",\"linecolor\":\"white\",\"ticks\":\"\",\"title\":{\"standoff\":15},\"zerolinecolor\":\"white\",\"automargin\":true,\"zerolinewidth\":2},\"yaxis\":{\"gridcolor\":\"white\",\"linecolor\":\"white\",\"ticks\":\"\",\"title\":{\"standoff\":15},\"zerolinecolor\":\"white\",\"automargin\":true,\"zerolinewidth\":2},\"scene\":{\"xaxis\":{\"backgroundcolor\":\"#E5ECF6\",\"gridcolor\":\"white\",\"linecolor\":\"white\",\"showbackground\":true,\"ticks\":\"\",\"zerolinecolor\":\"white\",\"gridwidth\":2},\"yaxis\":{\"backgroundcolor\":\"#E5ECF6\",\"gridcolor\":\"white\",\"linecolor\":\"white\",\"showbackground\":true,\"ticks\":\"\",\"zerolinecolor\":\"white\",\"gridwidth\":2},\"zaxis\":{\"backgroundcolor\":\"#E5ECF6\",\"gridcolor\":\"white\",\"linecolor\":\"white\",\"showbackground\":true,\"ticks\":\"\",\"zerolinecolor\":\"white\",\"gridwidth\":2}},\"shapedefaults\":{\"line\":{\"color\":\"#2a3f5f\"}},\"annotationdefaults\":{\"arrowcolor\":\"#2a3f5f\",\"arrowhead\":0,\"arrowwidth\":1},\"geo\":{\"bgcolor\":\"white\",\"landcolor\":\"#E5ECF6\",\"subunitcolor\":\"white\",\"showland\":true,\"showlakes\":true,\"lakecolor\":\"white\"},\"title\":{\"x\":0.05},\"mapbox\":{\"style\":\"light\"}}}},                        {\"responsive\": true}                    ).then(function(){\n",
              "                            \n",
              "var gd = document.getElementById('a090c9da-a3ae-4072-b6c9-80b1b32a5238');\n",
              "var x = new MutationObserver(function (mutations, observer) {{\n",
              "        var display = window.getComputedStyle(gd).display;\n",
              "        if (!display || display === 'none') {{\n",
              "            console.log([gd, 'removed!']);\n",
              "            Plotly.purge(gd);\n",
              "            observer.disconnect();\n",
              "        }}\n",
              "}});\n",
              "\n",
              "// Listen for the removal of the full notebook cells\n",
              "var notebookContainer = gd.closest('#notebook-container');\n",
              "if (notebookContainer) {{\n",
              "    x.observe(notebookContainer, {childList: true});\n",
              "}}\n",
              "\n",
              "// Listen for the clearing of the current output cell\n",
              "var outputEl = gd.closest('.output');\n",
              "if (outputEl) {{\n",
              "    x.observe(outputEl, {childList: true});\n",
              "}}\n",
              "\n",
              "                        })                };                            </script>        </div>\n",
              "</body>\n",
              "</html>"
            ]
          },
          "metadata": {},
          "output_type": "display_data"
        }
      ],
      "source": [
        "import random\n",
        "# Generate random colors for each node\n",
        "node_colors = [f'#{random.randint(0, 0xFFFFFF):06x}' for _ in range(len(G.nodes()))]\n",
        "\n",
        "# Map community assignments to corresponding colors\n",
        "node_colors = [node_colors[comm] for comm in node_community]\n",
        "\n",
        "# Create a Plotly scatter plot\n",
        "scatter = go.Scatter(\n",
        "    x=[pos[0] for pos in nx.spring_layout(G).values()],\n",
        "    y=[pos[1] for pos in nx.spring_layout(G).values()],\n",
        "    mode='markers',\n",
        "    marker=dict(\n",
        "        size=10,\n",
        "        color=node_colors,  # Use random colors for nodes\n",
        "        colorbar=None\n",
        "    )\n",
        ")\n",
        "\n",
        "# Create the layout\n",
        "layout = go.Layout(\n",
        "    title='Community Detection using Greedy Modularity',\n",
        "    xaxis=dict(title=''),\n",
        "    yaxis=dict(title='')\n",
        ")\n",
        "\n",
        "# Create the figure\n",
        "fig = go.Figure(data=[scatter], layout=layout)\n",
        "\n",
        "# Show the figure\n",
        "fig.show()"
      ]
    },
    {
      "cell_type": "markdown",
      "metadata": {
        "id": "lZ5Q0IvTBAkB"
      },
      "source": [
        "#Save zone"
      ]
    },
    {
      "cell_type": "code",
      "execution_count": null,
      "metadata": {
        "cellView": "form",
        "colab": {
          "base_uri": "https://localhost:8080/",
          "height": 104
        },
        "id": "pUWOjHP2xqXr",
        "outputId": "424af4d2-afd9-451d-b472-e61b42936a73"
      },
      "outputs": [
        {
          "name": "stdout",
          "output_type": "stream",
          "text": [
            "Dataframes saved!\n",
            "  adding: content/control_data.pkl (deflated 5%)\n",
            "  adding: content/schz_data.pkl (deflated 5%)\n",
            "  adding: content/bp_data.pkl (deflated 5%)\n",
            "  adding: content/adhd_data.pkl (deflated 5%)\n"
          ]
        },
        {
          "data": {
            "application/javascript": [
              "\n",
              "    async function download(id, filename, size) {\n",
              "      if (!google.colab.kernel.accessAllowed) {\n",
              "        return;\n",
              "      }\n",
              "      const div = document.createElement('div');\n",
              "      const label = document.createElement('label');\n",
              "      label.textContent = `Downloading \"${filename}\": `;\n",
              "      div.appendChild(label);\n",
              "      const progress = document.createElement('progress');\n",
              "      progress.max = size;\n",
              "      div.appendChild(progress);\n",
              "      document.body.appendChild(div);\n",
              "\n",
              "      const buffers = [];\n",
              "      let downloaded = 0;\n",
              "\n",
              "      const channel = await google.colab.kernel.comms.open(id);\n",
              "      // Send a message to notify the kernel that we're ready.\n",
              "      channel.send({})\n",
              "\n",
              "      for await (const message of channel.messages) {\n",
              "        // Send a message to notify the kernel that we're ready.\n",
              "        channel.send({})\n",
              "        if (message.buffers) {\n",
              "          for (const buffer of message.buffers) {\n",
              "            buffers.push(buffer);\n",
              "            downloaded += buffer.byteLength;\n",
              "            progress.value = downloaded;\n",
              "          }\n",
              "        }\n",
              "      }\n",
              "      const blob = new Blob(buffers, {type: 'application/binary'});\n",
              "      const a = document.createElement('a');\n",
              "      a.href = window.URL.createObjectURL(blob);\n",
              "      a.download = filename;\n",
              "      div.appendChild(a);\n",
              "      a.click();\n",
              "      div.remove();\n",
              "    }\n",
              "  "
            ],
            "text/plain": [
              "<IPython.core.display.Javascript object>"
            ]
          },
          "metadata": {},
          "output_type": "display_data"
        },
        {
          "data": {
            "application/javascript": [
              "download(\"download_49a37206-6518-40b9-ac8d-4ab68f46d087\", \"dataframes.zip\", 307703813)"
            ],
            "text/plain": [
              "<IPython.core.display.Javascript object>"
            ]
          },
          "metadata": {},
          "output_type": "display_data"
        }
      ],
      "source": [
        "#@title Save dataframes as csv?\n",
        "save_data = True # @param {type:\"boolean\"}\n",
        "if save_data:\n",
        "      import pickle\n",
        "\n",
        "      # Save dataframes with graphs using Pickle\n",
        "      with open('/content/control_data.pkl', 'wb') as file:\n",
        "          pickle.dump(control_data, file)\n",
        "\n",
        "      with open('/content/schz_data.pkl', 'wb') as file:\n",
        "          pickle.dump(schz_data, file)\n",
        "\n",
        "      with open('/content/bp_data.pkl', 'wb') as file:\n",
        "          pickle.dump(bp_data, file)\n",
        "\n",
        "      with open('/content/adhd_data.pkl', 'wb') as file:\n",
        "          pickle.dump(adhd_data, file)\n",
        "      print('Dataframes saved!')\n",
        "\n",
        "download_data = True # @param {type:\"boolean\"}\n",
        "if download_data:\n",
        "  from google.colab import files\n",
        "  zip_file = '/content/dataframes.zip'\n",
        "  !zip -r dataframes.zip /content/control_data.pkl /content/schz_data.pkl /content/bp_data.pkl /content/adhd_data.pkl\n",
        "  files.download(zip_file)"
      ]
    }
  ],
  "metadata": {
    "colab": {
      "provenance": [],
      "collapsed_sections": [
        "OYGZwaqH7ay5",
        "idUdlfP47lhK",
        "pAF3VRXlA7hr"
      ],
      "include_colab_link": true
    },
    "kernelspec": {
      "display_name": "Python 3",
      "name": "python3"
    },
    "language_info": {
      "name": "python"
    }
  },
  "nbformat": 4,
  "nbformat_minor": 0
}