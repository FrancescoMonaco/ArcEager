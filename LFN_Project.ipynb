{
  "cells": [
    {
      "cell_type": "markdown",
      "metadata": {
        "id": "view-in-github",
        "colab_type": "text"
      },
      "source": [
        "<a href=\"https://colab.research.google.com/github/FrancescoMonaco/ArcEager/blob/main/LFN_Project.ipynb\" target=\"_parent\"><img src=\"https://colab.research.google.com/assets/colab-badge.svg\" alt=\"Open In Colab\"/></a>"
      ]
    },
    {
      "cell_type": "markdown",
      "metadata": {
        "id": "OYGZwaqH7ay5"
      },
      "source": [
        "# Installations, Imports, Data Retrieval\n",
        "\n"
      ]
    },
    {
      "cell_type": "code",
      "execution_count": null,
      "metadata": {
        "id": "ghgod2aNo1Cs"
      },
      "outputs": [],
      "source": [
        "#@title Libraries install and imports\n",
        "%%capture\n",
        "!pip install nilearn\n",
        "!pip install plotly\n",
        "!pip install python-louvain\n",
        "\n",
        "import warnings\n",
        "warnings.simplefilter(action='ignore', category=FutureWarning)\n",
        "#*** Libraries to manipulate fMRI data\n",
        "from nilearn import datasets, plotting\n",
        "from nilearn.maskers import NiftiMapsMasker, NiftiSpheresMasker\n",
        "from nilearn.input_data import NiftiLabelsMasker\n",
        "#*** Libraries for graphs\n",
        "import networkx as nx\n",
        "#*** Basic imports\n",
        "import numpy as np\n",
        "import matplotlib.pyplot as plt\n",
        "import seaborn as sns\n",
        "import plotly.graph_objects as go\n",
        "import pandas as pd\n",
        "import gc, os\n",
        "from tqdm import tqdm\n",
        "import scipy.stats as stats\n",
        "import pickle\n",
        "#*** Scaler for the data\n",
        "from sklearn.preprocessing import StandardScaler\n",
        "#*** Multiprocessing tools\n",
        "import multiprocessing\n",
        "from multiprocessing import Pool\n",
        "\n",
        "#*** Import the python-greedy modularity package\n",
        "import matplotlib.cm as cm\n",
        "from networkx.algorithms import community\n",
        "from networkx.algorithms.community import greedy_modularity_communities"
      ]
    },
    {
      "cell_type": "code",
      "execution_count": null,
      "metadata": {
        "id": "J53YlGWubjXv",
        "colab": {
          "base_uri": "https://localhost:8080/"
        },
        "outputId": "0fd66fc2-9e6f-4be2-eb2f-e9c17fa3f838"
      },
      "outputs": [
        {
          "output_type": "execute_result",
          "data": {
            "text/plain": [
              "'\\n%%capture\\n!echo \"deb http://downloads.skewed.de/apt jammy main\" >> /etc/apt/sources.list\\n!apt-key adv --keyserver keyserver.ubuntu.com --recv-key 612DEFB798507F25\\n!apt-get update\\n!apt-get install python3-graph-tool python3-matplotlib python3-cairo\\n!apt purge python3-cairo\\n!apt install libcairo2-dev pkg-config python3-dev\\n!pip install --force-reinstall pycairo\\n!pip install zstandard\\n!pip install --force-reinstall nilearn\\n'"
            ],
            "application/vnd.google.colaboratory.intrinsic+json": {
              "type": "string"
            }
          },
          "metadata": {},
          "execution_count": 2
        }
      ],
      "source": [
        "#@title Download graph-tool\n",
        "\n",
        "%%capture\n",
        "!echo \"deb http://downloads.skewed.de/apt jammy main\" >> /etc/apt/sources.list\n",
        "!apt-key adv --keyserver keyserver.ubuntu.com --recv-key 612DEFB798507F25\n",
        "!apt-get update\n",
        "!apt-get install python3-graph-tool python3-matplotlib python3-cairo\n",
        "!apt purge python3-cairo\n",
        "!apt install libcairo2-dev pkg-config python3-dev\n",
        "!pip install --force-reinstall pycairo\n",
        "!pip install zstandard\n",
        "!pip install --force-reinstall nilearn\n"
      ]
    },
    {
      "cell_type": "code",
      "execution_count": null,
      "metadata": {
        "colab": {
          "base_uri": "https://localhost:8080/"
        },
        "id": "tqGAZcRfFCZ9",
        "outputId": "b23a8ba1-1400-4e91-d7d7-306227920341"
      },
      "outputs": [
        {
          "output_type": "stream",
          "name": "stdout",
          "text": [
            "--2024-01-11 14:01:38--  http://raw.githubusercontent.com/FrancescoMonaco/LFN_Project/main/graph_metrics.py\n",
            "Resolving raw.githubusercontent.com (raw.githubusercontent.com)... 185.199.108.133, 185.199.109.133, 185.199.110.133, ...\n",
            "Connecting to raw.githubusercontent.com (raw.githubusercontent.com)|185.199.108.133|:80... connected.\n",
            "HTTP request sent, awaiting response... 301 Moved Permanently\n",
            "Location: https://raw.githubusercontent.com/FrancescoMonaco/LFN_Project/main/graph_metrics.py [following]\n",
            "--2024-01-11 14:01:38--  https://raw.githubusercontent.com/FrancescoMonaco/LFN_Project/main/graph_metrics.py\n",
            "Connecting to raw.githubusercontent.com (raw.githubusercontent.com)|185.199.108.133|:443... connected.\n",
            "HTTP request sent, awaiting response... 200 OK\n",
            "Length: 11564 (11K) [text/plain]\n",
            "Saving to: ‘graph_metrics.py’\n",
            "\n",
            "\rgraph_metrics.py      0%[                    ]       0  --.-KB/s               \rgraph_metrics.py    100%[===================>]  11.29K  --.-KB/s    in 0s      \n",
            "\n",
            "2024-01-11 14:01:38 (39.9 MB/s) - ‘graph_metrics.py’ saved [11564/11564]\n",
            "\n",
            "URL transformed to HTTPS due to an HSTS policy\n",
            "--2024-01-11 14:01:38--  https://raw.githubusercontent.com/FrancescoMonaco/LFN_Project/main/findpartitionofbrain.py\n",
            "Resolving raw.githubusercontent.com (raw.githubusercontent.com)... 185.199.109.133, 185.199.111.133, 185.199.108.133, ...\n",
            "Connecting to raw.githubusercontent.com (raw.githubusercontent.com)|185.199.109.133|:443... connected.\n",
            "HTTP request sent, awaiting response... 200 OK\n",
            "Length: 1113 (1.1K) [text/plain]\n",
            "Saving to: ‘findpartitionofbrain.py’\n",
            "\n",
            "findpartitionofbrai 100%[===================>]   1.09K  --.-KB/s    in 0s      \n",
            "\n",
            "2024-01-11 14:01:39 (39.0 MB/s) - ‘findpartitionofbrain.py’ saved [1113/1113]\n",
            "\n",
            "URL transformed to HTTPS due to an HSTS policy\n",
            "--2024-01-11 14:01:39--  https://raw.githubusercontent.com/FrancescoMonaco/LFN_Project/main/mri_to_graph.py\n",
            "Resolving raw.githubusercontent.com (raw.githubusercontent.com)... 185.199.108.133, 185.199.109.133, 185.199.110.133, ...\n",
            "Connecting to raw.githubusercontent.com (raw.githubusercontent.com)|185.199.108.133|:443... connected.\n",
            "HTTP request sent, awaiting response... 200 OK\n",
            "Length: 3682 (3.6K) [text/plain]\n",
            "Saving to: ‘mri_to_graph.py’\n",
            "\n",
            "mri_to_graph.py     100%[===================>]   3.60K  --.-KB/s    in 0s      \n",
            "\n",
            "2024-01-11 14:01:39 (47.0 MB/s) - ‘mri_to_graph.py’ saved [3682/3682]\n",
            "\n",
            "URL transformed to HTTPS due to an HSTS policy\n",
            "--2024-01-11 14:01:39--  https://raw.githubusercontent.com/FrancescoMonaco/LFN_Project/main/graph_plotter.py\n",
            "Resolving raw.githubusercontent.com (raw.githubusercontent.com)... 185.199.108.133, 185.199.109.133, 185.199.110.133, ...\n",
            "Connecting to raw.githubusercontent.com (raw.githubusercontent.com)|185.199.108.133|:443... connected.\n",
            "HTTP request sent, awaiting response... 200 OK\n",
            "Length: 2101 (2.1K) [text/plain]\n",
            "Saving to: ‘graph_plotter.py’\n",
            "\n",
            "graph_plotter.py    100%[===================>]   2.05K  --.-KB/s    in 0s      \n",
            "\n",
            "2024-01-11 14:01:39 (21.9 MB/s) - ‘graph_plotter.py’ saved [2101/2101]\n",
            "\n",
            "URL transformed to HTTPS due to an HSTS policy\n",
            "--2024-01-11 14:01:39--  https://raw.githubusercontent.com/FrancescoMonaco/LFN_Project/main/motif_plotter.py\n",
            "Resolving raw.githubusercontent.com (raw.githubusercontent.com)... 185.199.108.133, 185.199.109.133, 185.199.110.133, ...\n",
            "Connecting to raw.githubusercontent.com (raw.githubusercontent.com)|185.199.108.133|:443... connected.\n",
            "HTTP request sent, awaiting response... 200 OK\n",
            "Length: 2973 (2.9K) [text/plain]\n",
            "Saving to: ‘motif_plotter.py’\n",
            "\n",
            "motif_plotter.py    100%[===================>]   2.90K  --.-KB/s    in 0s      \n",
            "\n",
            "2024-01-11 14:01:40 (18.2 MB/s) - ‘motif_plotter.py’ saved [2973/2973]\n",
            "\n"
          ]
        }
      ],
      "source": [
        "#@title Imports from external py files\n",
        "import requests\n",
        "base_url = \"raw.githubusercontent.com/FrancescoMonaco/LFN_Project/main\"\n",
        "files_to_download = [\"graph_metrics.py\", \"findpartitionofbrain.py\", \"mri_to_graph.py\", \"graph_plotter.py\", \"motif_plotter.py\"]\n",
        "for file_name in files_to_download:\n",
        "      file_url = f\"{base_url}/{file_name}\"\n",
        "      !wget {file_url}\n",
        "\n",
        "import nilearn\n",
        "\n",
        "from graph_metrics import *\n",
        "from mri_to_graph import *\n",
        "from findpartitionofbrain import *\n",
        "from graph_plotter import *\n",
        "from motif_plotter import *"
      ]
    },
    {
      "cell_type": "code",
      "execution_count": null,
      "metadata": {
        "id": "G78iEb6snQcX"
      },
      "outputs": [],
      "source": [
        "#@title Download precomputed data or original (original needs about 10 minutes of processing)\n",
        "%%capture\n",
        "prec = True # @param {type:\"boolean\"}\n",
        "if prec:\n",
        "  import requests\n",
        "  import pickle\n",
        "  base_url = \"raw.githubusercontent.com/FrancescoMonaco/LFN_Project/main\"\n",
        "  files_to_download = [\"Dataframes/adhd_data.pkl\", \"Dataframes/control_data.pkl\", \"Dataframes/bp_data.pkl\", \"Dataframes/schz_data.pkl\"]\n",
        "\n",
        "# Download each file\n",
        "  for file_name in files_to_download:\n",
        "      file_url = f\"{base_url}/{file_name}\"\n",
        "      !wget {file_url}\n",
        "  # Load dataframes with graphs using Pickle\n",
        "  with open('/content/control_data.pkl', 'rb') as file:\n",
        "      control_data = pickle.load(file)\n",
        "\n",
        "  with open('/content/schz_data.pkl', 'rb') as file:\n",
        "      schz_data = pickle.load(file)\n",
        "\n",
        "  with open('/content/bp_data.pkl', 'rb') as file:\n",
        "      bp_data = pickle.load(file)\n",
        "\n",
        "  with open('/content/adhd_data.pkl', 'rb') as file:\n",
        "      adhd_data = pickle.load(file)\n",
        "else:\n",
        "  # Load the brain atlas\n",
        "  atlas = datasets.fetch_atlas_msdl()\n",
        "  # Load the atlas image stored in 'maps'\n",
        "  atlas_filename = atlas[\"maps\"]\n",
        "  # Load atlas data stored in 'labels'\n",
        "  labels = atlas[\"labels\"]\n",
        "\n",
        "  # Load the dataset\n",
        "  _, urls = datasets.fetch_ds000030_urls()\n",
        "\n",
        "  selected_subjects = [\n",
        "      'sub-10159', 'sub-10171', 'sub-10189', 'sub-10206', 'sub-10217',\n",
        "      'sub-10292', 'sub-10524', 'sub-10316', 'sub-10940', 'sub-11156',\n",
        "      'sub-10506', 'sub-10678', 'sub-10523', 'sub-10525', 'sub-10530',\n",
        "      'sub-10674','sub-11122', 'sub-10680', 'sub-10686', 'sub-10696',\n",
        "      'sub-50077', 'sub-50085', 'sub-50080', 'sub-50058', 'sub-50056',\n",
        "      'sub-50054', 'sub-50055', 'sub-50053', 'sub-50051','sub-50052'\n",
        "      'sub-50004', 'sub-50005', 'sub-50006', 'sub-50007', 'sub-50008',\n",
        "      'sub-50010', 'sub-50013', 'sub-50014', 'sub-50015', 'sub-50016',\n",
        "      'sub-60001', 'sub-60005', 'sub-60006', 'sub-60008', 'sub-60010',\n",
        "      'sub-60011', 'sub-60012', 'sub-60014', 'sub-60015', 'sub-60016',\n",
        "      'sub-60017','sub-60018','sub-60019','sub-60020','sub-60021',\n",
        "      'sub-60022','sub-60028','sub-60033','sub-60036','sub-60037',\n",
        "      'sub-70040','sub-70046','sub-70048','sub-70049','sub-70051',\n",
        "      'sub-70052','sub-70055','sub-70057','sub-70058','sub-70061',\n",
        "      'sub-70017', 'sub-70020', 'sub-70021', 'sub-70022', 'sub-70026',\n",
        "      'sub-70029', 'sub-70033', 'sub-70034', 'sub-70083', 'sub-70086'\n",
        "  ]\n",
        "\n",
        "  filtered_urls = [url for url in urls if any(subject in url for subject in selected_subjects)]\n",
        "\n",
        "  # Define exclusion patterns to exclude unwanted data\n",
        "  exclusion_patterns = [\n",
        "      \"*/freesurfer/*\"\n",
        "      \"*derivatives/task*\",\n",
        "      \"*task_group*\",\n",
        "      \"*/anat/*\",\n",
        "      \"*group*\",\n",
        "      \"*phenotype*\",\n",
        "      \"*mriqc*\",\n",
        "      \"*parameter_plots*\",\n",
        "      \"*physio_plots*\",\n",
        "      \"*space-fsaverage*\",\n",
        "      \"*space-T1w*\",\n",
        "      \"*dwi*\",\n",
        "      \"*beh*\",\n",
        "      \"*task-bart*\",\n",
        "      \"*task-pamenc*\",\n",
        "      \"*task-pamret*\",\n",
        "      \"*task-scap*\",\n",
        "      \"*task-task*\",\n",
        "      \"*task-stopsignal*\",\n",
        "      \"*task-bht*\"\n",
        "  ]\n",
        "\n",
        "  # Apply the filters to select subjects and exclude unwanted data\n",
        "  urls = datasets.select_from_index(\n",
        "      filtered_urls, exclusion_filters=exclusion_patterns\n",
        "  )\n",
        "\n",
        "  try:\n",
        "      # Fetch the selected subjects' data\n",
        "      data_dir, _ = datasets.fetch_openneuro_dataset(urls=urls)\n",
        "  except Exception as e:\n",
        "      print(f\"Finished, except: {e}\")"
      ]
    },
    {
      "cell_type": "code",
      "execution_count": null,
      "metadata": {
        "cellView": "form",
        "id": "SV8_RWMwk7ed"
      },
      "outputs": [],
      "source": [
        "#@title Variables for data retrieval and manipulation\n",
        "if not prec:\n",
        "  base_path = \"/root/nilearn_data/ds000030/ds000030_R1.0.4/uncompressed/derivatives/fmriprep/\"\n",
        "\n",
        "  # Dataframes\n",
        "  cols = ['data', 'confounds', 'graph', 'nodes', 'edges']\n",
        "  control_data = pd.DataFrame(columns=cols)\n",
        "  schz_data = pd.DataFrame(columns=cols)\n",
        "  bp_data = pd.DataFrame(columns=cols)\n",
        "  adhd_data = pd.DataFrame(columns=cols)\n",
        "\n",
        "  # Visit each subject's folder\n",
        "  for subject_folder in os.scandir(base_path):\n",
        "      if subject_folder.is_dir():\n",
        "          condition = subject_folder.name[4]  # Extract the condition from the subject id\n",
        "\n",
        "          # Variables\n",
        "          data_path = None\n",
        "          confounds_data = None\n",
        "\n",
        "          # Retrieve the data\n",
        "\n",
        "          func_path = os.path.join(subject_folder.path, \"func\")\n",
        "          for func_file in os.scandir(func_path):\n",
        "            # Find the confounds variables file\n",
        "                if func_file.name.endswith(\".tsv\"):\n",
        "                      confounds_data = pd.read_csv(func_file.path, sep='\\t')\n",
        "            # Find the resting state fmri\n",
        "                if func_file.name.endswith(\"preproc.nii.gz\"):\n",
        "                      data_path = func_file.path\n",
        "\n",
        "          # Add data to the respective dataframe\n",
        "          if condition == \"1\":\n",
        "              control_data.loc[len(control_data)] = [data_path, confounds_data, None, None, None]\n",
        "          elif condition == \"5\":\n",
        "              schz_data.loc[len(schz_data)] = [data_path, confounds_data, None, None, None]\n",
        "          elif condition == \"6\":\n",
        "              bp_data.loc[len(bp_data)] = [data_path, confounds_data, None, None, None]\n",
        "          elif condition == \"7\":\n",
        "              adhd_data.loc[len(adhd_data)] = [data_path, confounds_data, None, None, None]"
      ]
    },
    {
      "cell_type": "markdown",
      "metadata": {
        "id": "idUdlfP47lhK"
      },
      "source": [
        "# MRI to Graph\n",
        "This converts fMRIs to graphs using a data-adaptive algorithm"
      ]
    },
    {
      "cell_type": "code",
      "execution_count": null,
      "metadata": {
        "id": "Gv8Pe7sU1qW4",
        "colab": {
          "base_uri": "https://localhost:8080/"
        },
        "outputId": "238ff3e5-e8d2-497a-e984-11f7f29081d9",
        "cellView": "form"
      },
      "outputs": [
        {
          "output_type": "stream",
          "name": "stdout",
          "text": [
            "\n",
            "Dataset created in /root/nilearn_data/schaefer_2018\n",
            "\n",
            "Downloading data from https://raw.githubusercontent.com/ThomasYeoLab/CBIG/v0.14.3-Update_Yeo2011_Schaefer2018_labelname/stable_projects/brain_parcellation/Schaefer2018_LocalGlobal/Parcellations/MNI/Schaefer2018_1000Parcels_7Networks_order.txt ...\n"
          ]
        },
        {
          "output_type": "stream",
          "name": "stderr",
          "text": [
            " ...done. (1 seconds, 0 min)\n"
          ]
        },
        {
          "output_type": "stream",
          "name": "stdout",
          "text": [
            "Downloading data from https://raw.githubusercontent.com/ThomasYeoLab/CBIG/v0.14.3-Update_Yeo2011_Schaefer2018_labelname/stable_projects/brain_parcellation/Schaefer2018_LocalGlobal/Parcellations/MNI/Schaefer2018_1000Parcels_7Networks_order_FSLMNI152_1mm.nii.gz ...\n"
          ]
        },
        {
          "output_type": "stream",
          "name": "stderr",
          "text": [
            " ...done. (0 seconds, 0 min)\n"
          ]
        }
      ],
      "source": [
        "#@title Load brain atlas\n",
        "import nibabel as nib\n",
        "schaefer_1000 = datasets.fetch_atlas_schaefer_2018(n_rois=1000, yeo_networks=7, resolution_mm=1, verbose=1)\n",
        "\n",
        "# Load the atlas data\n",
        "atlas_img = nib.load(schaefer_1000.maps)\n",
        "\n",
        "# ROIs coordinates\n",
        "coords = np.vstack(np.where(atlas_img.get_fdata() > 0)).T"
      ]
    },
    {
      "cell_type": "code",
      "execution_count": null,
      "metadata": {
        "id": "eYS8Klez4v2i",
        "cellView": "form"
      },
      "outputs": [],
      "source": [
        "#@title Transform loop\n",
        "dataframes = [control_data, schz_data, bp_data, adhd_data]\n",
        "\n",
        "# Create processors for the data\n",
        "if not prec:\n",
        "    # Timeseries extractor\n",
        "  spheres_masker = NiftiLabelsMasker(\n",
        "      labels_img=schaefer_1000.maps,\n",
        "      smoothing_fwhm=1,\n",
        "      detrend=True,\n",
        "      standardize=\"zscore_sample\",\n",
        "      t_r=None\n",
        "  )\n",
        "\n",
        "  threshold = 0.85 # @param {type:\"slider\", min:0, max:1, step:0.01}\n",
        "\n",
        "  # Wrapper for the dataframes\n",
        "  dataframes = [control_data, schz_data, bp_data, adhd_data]\n",
        "  conditions = [\"Control\", \"Schizophrenia\", \"Bipolar\", \"ADHD\"]\n",
        "  num_processes = multiprocessing.cpu_count()  # Number of available CPU cores\n",
        "\n",
        "  # Execution\n",
        "  with Pool(processes=num_processes) as pool:\n",
        "      processed_data = pool.starmap(\n",
        "          process_dataframe,\n",
        "          [(dataframe, condition, spheres_masker, threshold) for dataframe, condition in zip(dataframes, conditions)]\n",
        "      )\n",
        "  for df, results in zip(dataframes, processed_data):\n",
        "      for result in results:\n",
        "          row_name, G, num_nodes, num_edges, corr_matr, num_nodes_per_component = result\n",
        "          df.at[row_name, 'graph'] = G\n",
        "          df.at[row_name, 'nodes'] = num_nodes\n",
        "          df.at[row_name, 'edges'] = num_edges\n",
        "          #df.at[row_name, 'matrix'] =  tuple(corr_matr)\n",
        "         # df.at[row_name, 'nodes_per_component'] =  num_nodes_per_component"
      ]
    },
    {
      "cell_type": "code",
      "execution_count": null,
      "metadata": {
        "colab": {
          "base_uri": "https://localhost:8080/"
        },
        "id": "rvQIQz9f-7pC",
        "outputId": "047349f1-e4f6-4a0f-d374-0c663ef72c2b",
        "cellView": "form"
      },
      "outputs": [
        {
          "output_type": "stream",
          "name": "stdout",
          "text": [
            "Mean Nodes: 767.8552631578947\n",
            "Mean Edges: 4246.0\n"
          ]
        },
        {
          "output_type": "execute_result",
          "data": {
            "text/plain": [
              "7"
            ]
          },
          "metadata": {},
          "execution_count": 8
        }
      ],
      "source": [
        "#@title Compute mean number of nodes and edges\n",
        "# Concatenate all dataframes into one\n",
        "combined_data = pd.concat(dataframes)\n",
        "\n",
        "# Calculate the mean number of nodes and edges\n",
        "mean_nodes = combined_data['nodes'].mean()\n",
        "mean_edges = combined_data['edges'].mean()\n",
        "\n",
        "print(f\"Mean Nodes: {mean_nodes}\")\n",
        "print(f\"Mean Edges: {mean_edges}\")\n",
        "\n",
        "# Run garbage collection\n",
        "del mean_nodes, mean_edges, combined_data\n",
        "gc.collect()"
      ]
    },
    {
      "cell_type": "markdown",
      "metadata": {
        "id": "Mbws5Cnz-1JQ"
      },
      "source": [
        "# Graph Analysis\n",
        "Local and global features, significance w.r.t. random graphs, analysis on the features"
      ]
    },
    {
      "cell_type": "markdown",
      "metadata": {
        "id": "k70WUKF1BFuc"
      },
      "source": [
        "## Metrics on the graph"
      ]
    },
    {
      "cell_type": "code",
      "execution_count": null,
      "metadata": {
        "id": "zAHqw5B5qeId",
        "cellView": "form"
      },
      "outputs": [],
      "source": [
        "#@title Create random graphs using the same degree frequencies found in the original ones\n",
        "dataframes = [control_data, schz_data, bp_data, adhd_data]\n",
        "conditions = [\"Control\", \"Schizophrenia\", \"Bipolar\", \"ADHD\"]\n",
        "\n",
        "rand_grp = pd.DataFrame(columns=['graph'])\n",
        "\n",
        "for dataframe, condition in zip(dataframes,conditions):\n",
        "  for original_graph in dataframe['graph']:\n",
        "    # Get the degree sequence\n",
        "      degree_sequence = [degree for _, degree in original_graph.degree()]\n",
        "    # Generate multiple random graphs based on the same degree sequence\n",
        "      random_graph = nx.Graph(nx.configuration_model(degree_sequence, create_using=nx.Graph()))\n",
        "    # Add the random graph to the DataFrame\n",
        "      rand_grp = rand_grp.append({'graph':random_graph, 'edges':random_graph.number_of_edges(), 'nodes': random_graph.number_of_nodes()}, ignore_index=True)"
      ]
    },
    {
      "cell_type": "code",
      "execution_count": null,
      "metadata": {
        "colab": {
          "base_uri": "https://localhost:8080/"
        },
        "id": "xtQ-8D67BI9w",
        "outputId": "60290cbd-ac77-4e25-eb3f-9657493a0e66",
        "cellView": "form"
      },
      "outputs": [
        {
          "output_type": "stream",
          "name": "stderr",
          "text": [
            "100%|██████████| 18/18 [07:03<00:00, 23.53s/it]\n",
            "100%|██████████| 20/20 [08:19<00:00, 24.98s/it]\n",
            "100%|██████████| 18/18 [07:01<00:00, 23.43s/it]\n",
            "100%|██████████| 20/20 [07:40<00:00, 23.05s/it]\n",
            "100%|██████████| 76/76 [12:35<00:00,  9.94s/it]\n"
          ]
        }
      ],
      "source": [
        "#@title Processing cycle to compute graph metrics\n",
        "# Wrapper for the dataframes\n",
        "dataframes = [control_data, schz_data, bp_data, adhd_data, rand_grp]\n",
        "conditions = [\"Control\", \"Schizophrenia\", \"Bipolar\", \"ADHD\", \"Random\"]\n",
        "num_processes = multiprocessing.cpu_count()  # Number of available CPU cores\n",
        "\n",
        "# Execution\n",
        "with Pool(processes=num_processes) as pool:\n",
        "    processed_data = pool.starmap(\n",
        "        process_graphs,\n",
        "        [(dataframe, condition) for dataframe, condition in zip(dataframes, conditions)]\n",
        "    )\n",
        "\n",
        "for df, results in zip(dataframes, processed_data):\n",
        "    for result in results:\n",
        "        (row_name, m_closeness, m_betweenness, m_degree, avg_clust,\n",
        "            top5_close, top5_betw,\n",
        "            top5_deg, top5_clust,\n",
        "            modularity, gbe,ass, tran,lc,top_nodes_modular_closeness,top5_modular_betweeness) = result\n",
        "\n",
        "        df.at[row_name, 'closeness'] = m_closeness\n",
        "        df.at[row_name, 'betweenness'] = m_betweenness\n",
        "        df.at[row_name, 'degree'] = m_degree\n",
        "        df.at[row_name, 'clustering'] = avg_clust\n",
        "        df.at[row_name,'top5_close'] = top5_close\n",
        "        df.at[row_name,'top5_betw'] = top5_betw\n",
        "        df.at[row_name,'top5_deg'] = top5_deg\n",
        "        df.at[row_name,'top5_clust'] = top5_clust\n",
        "        df.at[row_name, 'modularity'] = modularity\n",
        "        df.at[row_name, 'global_efficiency'] = gbe\n",
        "        df.at[row_name, 'assortativity'] = ass\n",
        "        df.at[row_name, 'transitivity'] = tran\n",
        "        df.at[row_name, 'local_efficiency'] = lc\n",
        "        df.at[row_name, 'top5_modular_closeness'] = np.mean([top_nodes_modular_closeness[node] for node in top_nodes_modular_closeness])\n",
        "        df.at[row_name, 'top5_modular_betweenness'] = np.mean([top5_modular_betweeness[node] for node in top5_modular_betweeness])\n"
      ]
    },
    {
      "cell_type": "code",
      "execution_count": null,
      "metadata": {
        "id": "N0gE2PZW1qP9",
        "colab": {
          "base_uri": "https://localhost:8080/"
        },
        "outputId": "74ee6ff1-4fcd-4505-ad09-399061287b46",
        "cellView": "form"
      },
      "outputs": [
        {
          "output_type": "stream",
          "name": "stdout",
          "text": [
            "+--------------------------+---------------------+--------------------+--------------------+--------------------+---------------------+\n",
            "|          Metric          |       Control       |   Schizophrenia    |      Bipolar       |        ADHD        |       Random        |\n",
            "+--------------------------+---------------------+--------------------+--------------------+--------------------+---------------------+\n",
            "|        closeness         |   0.2009 ± 0.0140   |  0.1969 ± 0.0170   |  0.2083 ± 0.0177   |  0.2057 ± 0.0148   |   0.3284 ± 0.0102   |\n",
            "|       betweenness        |   0.0047 ± 0.0005   |  0.0048 ± 0.0005   |  0.0046 ± 0.0005   |  0.0046 ± 0.0005   |   0.0027 ± 0.0001   |\n",
            "|          degree          |  11.0967 ± 0.7213   |  11.4928 ± 1.2532  |  11.2157 ± 1.0959  |  10.8211 ± 0.8681  |  10.8349 ± 0.8877   |\n",
            "|        clustering        |   0.3900 ± 0.0265   |  0.3937 ± 0.0297   |  0.3796 ± 0.0458   |  0.3810 ± 0.0435   |   0.0448 ± 0.0141   |\n",
            "|        top5_close        |   0.2762 ± 0.0192   |  0.2740 ± 0.0201   |  0.2825 ± 0.0222   |  0.2782 ± 0.0169   |   0.4242 ± 0.0161   |\n",
            "|        top5_betw         |   0.0578 ± 0.0150   |  0.0603 ± 0.0146   |  0.0564 ± 0.0153   |  0.0493 ± 0.0102   |   0.0277 ± 0.0040   |\n",
            "|         top5_deg         |  54.2500 ± 7.8932   | 60.2667 ± 13.2132  |  55.1556 ± 6.3895  |  54.5300 ± 6.6495  |  52.3237 ± 7.3323   |\n",
            "|        top5_clust        |   1.0000 ± 0.0000   |  1.0000 ± 0.0000   |  1.0000 ± 0.0000   |  1.0000 ± 0.0000   |   0.7861 ± 0.2023   |\n",
            "|        modularity        |   7.0561 ± 2.6546   |  6.9279 ± 2.8339   |  6.2486 ± 1.9614   |  5.4550 ± 1.9286   |   0.4743 ± 0.2179   |\n",
            "|    global_efficiency     |   0.2324 ± 0.0126   |  0.2293 ± 0.0158   |  0.2397 ± 0.0175   |  0.2359 ± 0.0139   |   0.3486 ± 0.0113   |\n",
            "|          edges           | 4246.0000 ± 0.0000  | 4246.0000 ± 0.0000 | 4246.0000 ± 0.0000 | 4246.0000 ± 0.0000 | 4130.3816 ± 39.9887 |\n",
            "|          nodes           | 768.3500 ± 49.9708  | 747.1111 ± 80.1586 | 764.1111 ± 75.5886 | 789.4000 ± 61.1361 | 767.8553 ± 67.5386  |\n",
            "|      assortativity       |   0.3314 ± 0.0657   |  0.3626 ± 0.0981   |  0.3053 ± 0.1039   |  0.3639 ± 0.0708   |  -0.0148 ± 0.0174   |\n",
            "|       transitivity       |   0.4291 ± 0.0297   |  0.4416 ± 0.0513   |  0.4182 ± 0.0415   |  0.4168 ± 0.0438   |   0.0516 ± 0.0164   |\n",
            "|     local_efficiency     |   0.5167 ± 0.0301   |  0.5177 ± 0.0281   |  0.5048 ± 0.0534   |  0.5085 ± 0.0496   |   0.0789 ± 0.0321   |\n",
            "|  top5_modular_closeness  |   0.1994 ± 0.0713   |  0.2199 ± 0.0727   |  0.2466 ± 0.0871   |  0.2512 ± 0.0806   |   1.4066 ± 0.1583   |\n",
            "| top5_modular_betweenness | 149.0496 ± 439.1249 | 78.5334 ± 79.4061  | 48.4879 ± 34.1240  | 95.4409 ± 83.2634  |   3.0597 ± 2.1722   |\n",
            "+--------------------------+---------------------+--------------------+--------------------+--------------------+---------------------+\n"
          ]
        }
      ],
      "source": [
        "#@title Print mean and std of the computed features across the various conditions\n",
        "print_mean_std(dataframes, conditions)"
      ]
    },
    {
      "cell_type": "markdown",
      "metadata": {
        "id": "0qjTi-sIBxZ_"
      },
      "source": [
        "###z-score, p-values computation\n",
        "Interactive check of the significance of the features, probability of observing the data given the means of the group and the controls."
      ]
    },
    {
      "cell_type": "code",
      "execution_count": null,
      "metadata": {
        "cellView": "form",
        "id": "s60buMSMB0Ec",
        "colab": {
          "base_uri": "https://localhost:8080/"
        },
        "outputId": "8dd7f743-65f4-4cc4-93c2-1e6ef2f00f61"
      },
      "outputs": [
        {
          "output_type": "stream",
          "name": "stdout",
          "text": [
            "p-value Schizophrenia vs. Random: 0.000\n",
            "p-value Bipolar vs. Random: 0.000\n",
            "p-value ADHD vs. Random: 0.000\n",
            "p-value Control vs. Random: 0.000\n"
          ]
        }
      ],
      "source": [
        "#@title Features values\n",
        "from scipy.stats import ttest_ind, zscore\n",
        "\n",
        "def calculate_zscores(group, mean, std):\n",
        "    return (group - mean) / std\n",
        "\n",
        "feature = \"top5_modular_closeness\" # @param [\"closeness\", \"betweenness\", \"degree\", \"top5_deg\", \"top5_close\", \"top5_betw\", \"clustering\", \"degree\", \"top5_clust\", \"modularity\", \"global_efficiency\", \"network_cost\", \"assortativity\", \"transitivity\", \"top5_modular_closeness\", \"top5_modular_betweenness\"]\n",
        "\n",
        "# Extract the feature of interest\n",
        "control_global_efficiency = control_data[feature]\n",
        "schz_global_efficiency = schz_data[feature]\n",
        "bp_global_efficiency = bp_data[feature]\n",
        "adhd_global_efficiency = adhd_data[feature]\n",
        "rand_global_efficiency = rand_grp[feature]\n",
        "\n",
        "schz_zscores_vs_random = calculate_zscores(schz_global_efficiency, rand_global_efficiency.mean(), rand_global_efficiency.std())\n",
        "bp_zscores_vs_random = calculate_zscores(bp_global_efficiency, rand_global_efficiency.mean(), rand_global_efficiency.std())\n",
        "adhd_zscores_vs_random = calculate_zscores(adhd_global_efficiency, rand_global_efficiency.mean(), rand_global_efficiency.std())\n",
        "control_zscores_vs_random = calculate_zscores(control_global_efficiency, rand_global_efficiency.mean(), rand_global_efficiency.std())\n",
        "rand_zscores = calculate_zscores(rand_global_efficiency, rand_global_efficiency.mean(), rand_global_efficiency.std())\n",
        "\n",
        "# Perform t-tests between each group and the random group\n",
        "t_stat_schz_vs_random, p_value_schz_vs_random = ttest_ind(schz_zscores_vs_random, rand_zscores, equal_var=False)\n",
        "t_stat_bp_vs_random, p_value_bp_vs_random = ttest_ind(bp_zscores_vs_random, rand_zscores, equal_var=False)\n",
        "t_stat_adhd_vs_random, p_value_adhd_vs_random = ttest_ind(adhd_zscores_vs_random, rand_zscores, equal_var=False)\n",
        "t_stat_control_vs_random, p_value_control_vs_random = ttest_ind(control_zscores_vs_random, rand_zscores, equal_var=False)\n",
        "\n",
        "# Print or use the p-values as needed\n",
        "print(\"p-value Schizophrenia vs. Random: {:.3f}\".format(p_value_schz_vs_random))\n",
        "print(\"p-value Bipolar vs. Random: {:.3f}\".format(p_value_bp_vs_random))\n",
        "print(\"p-value ADHD vs. Random: {:.3f}\".format(p_value_adhd_vs_random))\n",
        "print(\"p-value Control vs. Random: {:.3f}\".format(p_value_control_vs_random))"
      ]
    },
    {
      "cell_type": "code",
      "execution_count": null,
      "metadata": {
        "id": "CKo1VEv17H3i",
        "colab": {
          "base_uri": "https://localhost:8080/"
        },
        "outputId": "f34a733b-89d7-43f9-c452-10252784a7c4",
        "cellView": "form"
      },
      "outputs": [
        {
          "output_type": "stream",
          "name": "stdout",
          "text": [
            "+--------------------------+---------------+---------+--------+\n",
            "|          Metric          | Schizophrenia | Bipolar |  ADHD  |\n",
            "+--------------------------+---------------+---------+--------+\n",
            "|        closeness         |    0.4367     | 0.1608  | 0.2953 |\n",
            "|       betweenness        |    0.5535     | 0.5887  | 0.5237 |\n",
            "|          degree          |    0.2345     | 0.6921  | 0.2816 |\n",
            "|        clustering        |    0.6856     | 0.3943  | 0.4369 |\n",
            "|        top5_close        |    0.7346     | 0.3510  | 0.7245 |\n",
            "|        top5_betw         |    0.6105     | 0.7723  | 0.0434 |\n",
            "|         top5_deg         |    0.0932     | 0.7018  | 0.9041 |\n",
            "|        top5_clust        |      nan      |   nan   |  nan   |\n",
            "|        modularity        |    0.8864     | 0.2979  | 0.0354 |\n",
            "|    global_efficiency     |    0.5031     | 0.1451  | 0.4084 |\n",
            "|      assortativity       |    0.2539     | 0.3556  | 0.1409 |\n",
            "|       transitivity       |    0.3580     | 0.3561  | 0.3066 |\n",
            "|     local_efficiency     |    0.9092     | 0.3967  | 0.5350 |\n",
            "|  top5_modular_closeness  |    0.3871     | 0.0749  | 0.0378 |\n",
            "| top5_modular_betweenness |    0.5067     | 0.3397  | 0.5948 |\n",
            "+--------------------------+---------------+---------+--------+\n"
          ]
        },
        {
          "output_type": "stream",
          "name": "stderr",
          "text": [
            "/usr/local/lib/python3.10/dist-packages/scipy/stats/_axis_nan_policy.py:523: RuntimeWarning: Precision loss occurred in moment calculation due to catastrophic cancellation. This occurs when the data are nearly identical. Results may be unreliable.\n",
            "  res = hypotest_fun_out(*samples, **kwds)\n"
          ]
        }
      ],
      "source": [
        "#@title Print p-values of the t-tests\n",
        "print_ttest_pval(dataframes, conditions)"
      ]
    },
    {
      "cell_type": "code",
      "execution_count": null,
      "metadata": {
        "cellView": "form",
        "id": "Y9L9xnc5HeDT",
        "colab": {
          "base_uri": "https://localhost:8080/",
          "height": 573
        },
        "outputId": "096c50a2-70bb-43c2-d3ff-900b32f647c7"
      },
      "outputs": [
        {
          "output_type": "display_data",
          "data": {
            "text/plain": [
              "<Figure size 1000x600 with 1 Axes>"
            ],
            "image/png": "[encoded data removed]"
          },
          "metadata": {}
        }
      ],
      "source": [
        "#@title Probability distributions plotter\n",
        "feature = \"top5_modular_closeness\" # @param [\"global_efficiency\", \"closeness\", \"betweenness\", \"degree\", \"top5_deg\", \"top5_close\", \"top5_betw\", \"clustering\", \"degree\", \"top5_clust\", \"modularity\", \"global_efficiency\", \"network_cost\", \"assortativity\", \"transitivity\", \"top5_modular_closeness\", \"top5_modular_betweenness\"]\n",
        "# Set the style\n",
        "sns.set(style=\"whitegrid\")\n",
        "\n",
        "# Plotting distributions with KDE and best-fit line\n",
        "plt.figure(figsize=(10, 6))\n",
        "\n",
        "# Control\n",
        "sns.kdeplot(control_data[feature], label='Control', fill=True, common_norm=True, cut = 3,\n",
        "    linewidth=0,)\n",
        "\n",
        "# Schizophrenia\n",
        "sns.kdeplot(schz_data[feature], label='Schizophrenia', fill=True, common_norm=True, cut = 3,\n",
        "    linewidth=0,)\n",
        "\n",
        "# Bipolar\n",
        "sns.kdeplot(bp_data[feature], label='Bipolar', fill=True, common_norm=True, cut = 3,\n",
        "    linewidth=0,)\n",
        "\n",
        "# ADHD\n",
        "sns.kdeplot(adhd_data[feature], label='ADHD', fill=True, common_norm=True, cut = 3,\n",
        "    linewidth=0,)\n",
        "\n",
        "sns.kdeplot(rand_grp[feature], label='Rand', fill=True, common_norm=True, cut = 3,\n",
        "    linewidth=0,)\n",
        "\n",
        "# Adding labels and title\n",
        "plt.xlabel(feature)\n",
        "plt.ylabel('Density')\n",
        "plt.title(feature + ' Distribution across Conditions')\n",
        "\n",
        "# Adding legend\n",
        "plt.legend()\n",
        "\n",
        "# Show the plot\n",
        "plt.show()\n"
      ]
    },
    {
      "cell_type": "markdown",
      "metadata": {
        "id": "nrBvGc0ft0eT"
      },
      "source": [
        "#Brain Subsets Analysis\n",
        "Local and global features on the modules"
      ]
    },
    {
      "cell_type": "code",
      "execution_count": null,
      "metadata": {
        "id": "PpIHx8yWt_I9",
        "cellView": "form"
      },
      "outputs": [],
      "source": [
        "#@title Compute communities\n",
        "\n",
        "dataframes = [control_data, schz_data, bp_data, adhd_data, rand_grp]\n",
        "conditions = [\"Control\", \"Schizophrenia\", \"Bipolar\", \"ADHD\", \"Random\"]\n",
        "\n",
        "# Process the communities and the metrics related\n",
        "with Pool(processes=num_processes) as pool:\n",
        "    processed_data = pool.starmap(\n",
        "        compute_communities,\n",
        "        [(dataframe, condition) for dataframe, condition in zip(dataframes, conditions)]\n",
        "    )\n",
        "\n",
        "# Store communities and community metrics\n",
        "for df, results in zip(dataframes, processed_data):\n",
        "    df.loc[:,'communities'] = 5\n",
        "    df['communities'] = df['communities'].astype(object)\n",
        "    for result in results:\n",
        "\n",
        "        (row_name, community,lc,lb) = result\n",
        "        df.at[row_name, 'communities'] = community\n",
        "\n",
        "        #df.at[row_name, 'communities_closeness'] = lc\n",
        "        #df.at[row_name, 'communities_betweenness'] = lb"
      ]
    },
    {
      "cell_type": "code",
      "execution_count": null,
      "metadata": {
        "id": "2cvT8DbJbp_Y",
        "cellView": "form"
      },
      "outputs": [],
      "source": [
        "#@title Plot the communities of a graph\n",
        "condition = \"Control\" # @param [\"Control\", \"Schizophrenia\", \"Bipolar\", \"ADHD\"]\n",
        "if condition == \"Control\": df_idx = 0\n",
        "elif condition == \"Schizophrenia\": df_idx = 1\n",
        "elif condition == \"Bipolar\": df_idx = 2\n",
        "else: df_idx = 3\n",
        "\n",
        "sample_number = 5 # @param {type:\"slider\", min:0, max:9, step:1}\n",
        "sample_subject = dataframes[df_idx].iloc[sample_number]\n",
        "communities = list(sample_subject['communities'])\n",
        "sample_graph = sample_subject['graph']\n",
        "\n",
        "# Create a dictionary to store node-community assignments\n",
        "node_community_dict = {node: i for i, comm in enumerate(communities) for node in comm}\n",
        "\n",
        "# Create a list of community assignments for each node\n",
        "node_community = [node_community_dict[node] for node in sample_graph.nodes()]\n",
        "\n",
        "fig = community_plot(sample_graph, node_community)\n",
        "fig = graph_plot(sample_graph)"
      ]
    },
    {
      "cell_type": "markdown",
      "metadata": {
        "id": "9euFzEWiyhEZ"
      },
      "source": [
        "#Motifs\n",
        "Find the main motifs of a brain network"
      ]
    },
    {
      "cell_type": "code",
      "execution_count": null,
      "metadata": {
        "id": "gdSu20Y_dSCM",
        "cellView": "form"
      },
      "outputs": [],
      "source": [
        "#@title Print top 3 motifs\n",
        "dataframes = [control_data, schz_data, bp_data, adhd_data, rand_grp]\n",
        "condition = \"Random\" # @param [\"Control\", \"Schizophrenia\", \"Bipolar\", \"ADHD\", \"Random\"]\n",
        "k = 4 # @param {type:\"integer\"}\n",
        "if condition == \"Control\": df_idx = 0\n",
        "elif condition == \"Schizophrenia\": df_idx = 1\n",
        "elif condition == \"Bipolar\": df_idx = 2\n",
        "elif condition== \"ADHD\": df_idx = 3\n",
        "else: df_idx=4\n",
        "\n",
        "working_df = dataframes[df_idx]\n",
        "plt = compute_plot_top3_motifs(working_df, k)"
      ]
    },
    {
      "cell_type": "markdown",
      "metadata": {
        "id": "lZ5Q0IvTBAkB"
      },
      "source": [
        "#Save zone\n",
        "Save the dataframes with the graphs and all the features computed"
      ]
    },
    {
      "cell_type": "code",
      "execution_count": null,
      "metadata": {
        "cellView": "form",
        "id": "pUWOjHP2xqXr"
      },
      "outputs": [],
      "source": [
        "#@title Save dataframes as csv?\n",
        "save_data = True # @param {type:\"boolean\"}\n",
        "if save_data:\n",
        "      import pickle\n",
        "\n",
        "      # Save dataframes with graphs using Pickle\n",
        "      with open('/content/control_data.pkl', 'wb') as file:\n",
        "          pickle.dump(control_data, file)\n",
        "\n",
        "      with open('/content/schz_data.pkl', 'wb') as file:\n",
        "          pickle.dump(schz_data, file)\n",
        "\n",
        "      with open('/content/bp_data.pkl', 'wb') as file:\n",
        "          pickle.dump(bp_data, file)\n",
        "\n",
        "      with open('/content/adhd_data.pkl', 'wb') as file:\n",
        "          pickle.dump(adhd_data, file)\n",
        "      print('Dataframes saved!')\n",
        "\n",
        "download_data = True # @param {type:\"boolean\"}\n",
        "if download_data:\n",
        "  from google.colab import files\n",
        "  zip_file = '/content/dataframes.zip'\n",
        "  !zip -r dataframes.zip /content/control_data.pkl /content/schz_data.pkl /content/bp_data.pkl /content/adhd_data.pkl\n",
        "  files.download(zip_file)"
      ]
    }
  ],
  "metadata": {
    "colab": {
      "collapsed_sections": [
        "OYGZwaqH7ay5",
        "idUdlfP47lhK",
        "9euFzEWiyhEZ",
        "lZ5Q0IvTBAkB"
      ],
      "provenance": [],
      "include_colab_link": true
    },
    "kernelspec": {
      "display_name": "Python 3",
      "name": "python3"
    },
    "language_info": {
      "name": "python"
    }
  },
  "nbformat": 4,
  "nbformat_minor": 0
}